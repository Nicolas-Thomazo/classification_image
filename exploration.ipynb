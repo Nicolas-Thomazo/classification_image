{
 "metadata": {
  "language_info": {
   "codemirror_mode": {
    "name": "ipython",
    "version": 3
   },
   "file_extension": ".py",
   "mimetype": "text/x-python",
   "name": "python",
   "nbconvert_exporter": "python",
   "pygments_lexer": "ipython3",
   "version": "3.7.9-final"
  },
  "orig_nbformat": 2,
  "kernelspec": {
   "name": "python37764bit36aedecf4ec14bb8af677936bc7e54f5",
   "display_name": "Python 3.7.7 64-bit",
   "language": "python"
  }
 },
 "nbformat": 4,
 "nbformat_minor": 2,
 "cells": [
  {
   "source": [
    "# I. Import the libraries/dataset"
   ],
   "cell_type": "markdown",
   "metadata": {}
  },
  {
   "cell_type": "code",
   "execution_count": 40,
   "metadata": {},
   "outputs": [],
   "source": [
    "import pandas as pd\n",
    "import plotly.express as px\n",
    "import numpy as np\n",
    "import matplotlib.pyplot as plt\n",
    "import joblib\n",
    "\n",
    "#Scikit learn models\n",
    "from sklearn.neighbors import KNeighborsClassifier\n",
    "from sklearn.tree import DecisionTreeClassifier\n",
    "from sklearn.ensemble import RandomForestClassifier\n",
    "from sklearn.model_selection import GridSearchCV\n",
    "from sklearn.metrics import f1_score\n",
    "from sklearn.ensemble import GradientBoostingClassifier\n",
    "\n",
    "# Evaluate the model\n",
    "from sklearn.metrics import classification_report,f1_score,precision_recall_fscore_support\n"
   ]
  },
  {
   "cell_type": "code",
   "execution_count": 2,
   "metadata": {},
   "outputs": [],
   "source": [
    "df_train = pd.read_csv(\"dataset/sat.trn\", sep = \" \",header=None)\n",
    "df_test = pd.read_csv(\"dataset/sat.tst\", sep = \" \",header=None)"
   ]
  },
  {
   "cell_type": "code",
   "execution_count": 3,
   "metadata": {},
   "outputs": [],
   "source": [
    "df_train_central = pd.concat([df_train.iloc[:,17:21], df_train.iloc[:,36]],axis=1)\n",
    "df_test_central = pd.concat([df_test.iloc[:,17:21], df_test.iloc[:,36]],axis=1)"
   ]
  },
  {
   "source": [],
   "cell_type": "markdown",
   "metadata": {}
  },
  {
   "source": [
    "# II. Data exploration"
   ],
   "cell_type": "markdown",
   "metadata": {}
  },
  {
   "source": [
    "## 1. Contenu du dataset"
   ],
   "cell_type": "markdown",
   "metadata": {}
  },
  {
   "source": [
    "- La base de donnée consiste a des  valeurs multi spectrale de pixels dans une image satellite. La classe à prédire et le pixel central dans chaque groupe de voisins. La classe à prédire à été transformé et pour des raisons de facilité à des valeurs entre 1 et 7.\n",
    "Nous avons 4435 valeurs dans le training set et 2000 dans le testing set.\n",
    "\n",
    "- Chaque image prise par le satellite landsat consiste en 4 différentes images de la meme scène mais prise dans des valeurs spectrales différentes (2 dans le domaine du visible et 2 dans l'infrarouge). Chaque image à une résolution de 2340 x 3380 \n",
    "\n",
    "- Dans notre dataset, on à une petite partie de l'image (82 x 100 pixels) \n",
    "\n",
    "Sur le schéma ci-dessous nous aovns représenté 1 ligne du dataframe. La ligne répresente en fait 1 pixel (rouge) qu'on cherche à prédire, ainsi que ces voisins. Comme on peut le voir les pixels sont mis à la ligne les uns a la suite des autres, et chaque pixels est représenté par 4 valeurs entre 0 et 255.\n",
    "C'est un problème de multi classififcation, le but étant de savoir si le pixel de l'image, correspond à de la terre grise, rouge ou des vegetaux etc..."
   ],
   "cell_type": "markdown",
   "metadata": {}
  },
  {
   "source": [
    "![Getting Started](pixels.png)"
   ],
   "cell_type": "markdown",
   "metadata": {}
  },
  {
   "source": [
    "### Pour prédire la classe on peut soit prendre tous les pixels (pixels 1 à 9 sur le schéma), soit prendre uniquement les pixels à prédire (pixel 5 sur le schéma). Nous avons réalisé des modèles dans les 2 cas. En revanche pour l'api, nous avons seulement pris le modèle 2 qui prend en paramètre le pixel à prédire pour plus de simplicité."
   ],
   "cell_type": "markdown",
   "metadata": {}
  },
  {
   "source": [
    "## 2. Classe à prédire"
   ],
   "cell_type": "markdown",
   "metadata": {}
  },
  {
   "source": [
    "Tout d'abord en regardant les labels, et le nombre dans chaque classe, on se rend compte que elles ne sont pas bien répartis ce qui peut poser plusieurs problèmes\n",
    "- L'accuracy n'est forcément pas une bonne metrics pour vérifier notre classification \n",
    "\n",
    "Nous allons donc utiliser d'autres metrics pour vérifier la prédiction de notre algortihme \n",
    "- confusion matrix \n",
    "- score F1 (qui est une moyenne de la précision et du rappel) "
   ],
   "cell_type": "markdown",
   "metadata": {}
  },
  {
   "source": [
    "## 3. Data visualisation "
   ],
   "cell_type": "markdown",
   "metadata": {}
  },
  {
   "source": [
    "- Notre dataset est constitué de pixels, nous allons donc regarder la distribution des pixels de notre dataset. On peut voir dans le graphique ci-dessous que la distribution des pixels n'est pas uniforme. En effet la distriution des pixels à une forme gausienne.\n",
    "\n",
    "- Ensuite nous avons regardé la distribution des classes dans notre dataset. Dans la 2ème visualisation nous pouvons voir que la classe 6 ne possède 0 valeurs, nous allons donc la supprimer."
   ],
   "cell_type": "markdown",
   "metadata": {}
  },
  {
   "source": [
    "dicto = dict()\n",
    "\n",
    "def get_dict(x):\n",
    "    #if dicto[x]:\n",
    "    if x in dicto:\n",
    "        dicto[x] +=1\n",
    "    else:\n",
    "        dicto[x] =1\n",
    "    return x\n",
    "\n",
    "for i in range(0,35,1): \n",
    "    df_test.iloc[:,i].apply(lambda x : get_dict(x))"
   ],
   "cell_type": "code",
   "metadata": {},
   "execution_count": 4,
   "outputs": []
  },
  {
   "cell_type": "code",
   "execution_count": 7,
   "metadata": {},
   "outputs": [
    {
     "output_type": "display_data",
     "data": {
      "text/plain": "<Figure size 1080x576 with 1 Axes>",
      "image/svg+xml": "<?xml version=\"1.0\" encoding=\"utf-8\" standalone=\"no\"?>\r\n<!DOCTYPE svg PUBLIC \"-//W3C//DTD SVG 1.1//EN\"\r\n  \"http://www.w3.org/Graphics/SVG/1.1/DTD/svg11.dtd\">\r\n<!-- Created with matplotlib (https://matplotlib.org/) -->\r\n<svg height=\"485.635312pt\" version=\"1.1\" viewBox=\"0 0 883.85 485.635312\" width=\"883.85pt\" xmlns=\"http://www.w3.org/2000/svg\" xmlns:xlink=\"http://www.w3.org/1999/xlink\">\r\n <metadata>\r\n  <rdf:RDF xmlns:cc=\"http://creativecommons.org/ns#\" xmlns:dc=\"http://purl.org/dc/elements/1.1/\" xmlns:rdf=\"http://www.w3.org/1999/02/22-rdf-syntax-ns#\">\r\n   <cc:Work>\r\n    <dc:type rdf:resource=\"http://purl.org/dc/dcmitype/StillImage\"/>\r\n    <dc:date>2021-01-05T23:52:20.415405</dc:date>\r\n    <dc:format>image/svg+xml</dc:format>\r\n    <dc:creator>\r\n     <cc:Agent>\r\n      <dc:title>Matplotlib v3.3.2, https://matplotlib.org/</dc:title>\r\n     </cc:Agent>\r\n    </dc:creator>\r\n   </cc:Work>\r\n  </rdf:RDF>\r\n </metadata>\r\n <defs>\r\n  <style type=\"text/css\">*{stroke-linecap:butt;stroke-linejoin:round;}</style>\r\n </defs>\r\n <g id=\"figure_1\">\r\n  <g id=\"patch_1\">\r\n   <path d=\"M -0 485.635312 \r\nL 883.85 485.635312 \r\nL 883.85 0 \r\nL -0 0 \r\nz\r\n\" style=\"fill:none;\"/>\r\n  </g>\r\n  <g id=\"axes_1\">\r\n   <g id=\"patch_2\">\r\n    <path d=\"M 39.65 461.757187 \r\nL 876.65 461.757187 \r\nL 876.65 26.877187 \r\nL 39.65 26.877187 \r\nz\r\n\" style=\"fill:#ffffff;\"/>\r\n   </g>\r\n   <g id=\"patch_3\">\r\n    <path clip-path=\"url(#pb624e7c55a)\" d=\"M 386.250786 461.757187 \r\nL 390.326045 461.757187 \r\nL 390.326045 316.958274 \r\nL 386.250786 316.958274 \r\nz\r\n\" style=\"fill:#ce7a1b;\"/>\r\n   </g>\r\n   <g id=\"patch_4\">\r\n    <path clip-path=\"url(#pb624e7c55a)\" d=\"M 362.963591 461.757187 \r\nL 367.03885 461.757187 \r\nL 367.03885 279.192426 \r\nL 362.963591 279.192426 \r\nz\r\n\" style=\"fill:#ce7a1b;\"/>\r\n   </g>\r\n   <g id=\"patch_5\">\r\n    <path clip-path=\"url(#pb624e7c55a)\" d=\"M 339.676396 461.757187 \r\nL 343.751655 461.757187 \r\nL 343.751655 293.153261 \r\nL 339.676396 293.153261 \r\nz\r\n\" style=\"fill:#ce7a1b;\"/>\r\n   </g>\r\n   <g id=\"patch_6\">\r\n    <path clip-path=\"url(#pb624e7c55a)\" d=\"M 316.389202 461.757187 \r\nL 320.464461 461.757187 \r\nL 320.464461 199.902045 \r\nL 316.389202 199.902045 \r\nz\r\n\" style=\"fill:#ce7a1b;\"/>\r\n   </g>\r\n   <g id=\"patch_7\">\r\n    <path clip-path=\"url(#pb624e7c55a)\" d=\"M 409.537981 461.757187 \r\nL 413.61324 461.757187 \r\nL 413.61324 238.025863 \r\nL 409.537981 238.025863 \r\nz\r\n\" style=\"fill:#ce7a1b;\"/>\r\n   </g>\r\n   <g id=\"patch_8\">\r\n    <path clip-path=\"url(#pb624e7c55a)\" d=\"M 432.825176 461.757187 \r\nL 436.900435 461.757187 \r\nL 436.900435 186.120195 \r\nL 432.825176 186.120195 \r\nz\r\n\" style=\"fill:#ce7a1b;\"/>\r\n   </g>\r\n   <g id=\"patch_9\">\r\n    <path clip-path=\"url(#pb624e7c55a)\" d=\"M 456.11237 461.757187 \r\nL 460.18763 461.757187 \r\nL 460.18763 201.691895 \r\nL 456.11237 201.691895 \r\nz\r\n\" style=\"fill:#ce7a1b;\"/>\r\n   </g>\r\n   <g id=\"patch_10\">\r\n    <path clip-path=\"url(#pb624e7c55a)\" d=\"M 293.102007 461.757187 \r\nL 297.177266 461.757187 \r\nL 297.177266 254.850458 \r\nL 293.102007 254.850458 \r\nz\r\n\" style=\"fill:#ce7a1b;\"/>\r\n   </g>\r\n   <g id=\"patch_11\">\r\n    <path clip-path=\"url(#pb624e7c55a)\" d=\"M 229.062221 461.757187 \r\nL 233.13748 461.757187 \r\nL 233.13748 344.342988 \r\nL 229.062221 344.342988 \r\nz\r\n\" style=\"fill:#ce7a1b;\"/>\r\n   </g>\r\n   <g id=\"patch_12\">\r\n    <path clip-path=\"url(#pb624e7c55a)\" d=\"M 508.508559 461.757187 \r\nL 512.583818 461.757187 \r\nL 512.583818 356.692957 \r\nL 508.508559 356.692957 \r\nz\r\n\" style=\"fill:#ce7a1b;\"/>\r\n   </g>\r\n   <g id=\"patch_13\">\r\n    <path clip-path=\"url(#pb624e7c55a)\" d=\"M 333.854598 461.757187 \r\nL 337.929857 461.757187 \r\nL 337.929857 131.887722 \r\nL 333.854598 131.887722 \r\nz\r\n\" style=\"fill:#ce7a1b;\"/>\r\n   </g>\r\n   <g id=\"patch_14\">\r\n    <path clip-path=\"url(#pb624e7c55a)\" d=\"M 269.814812 461.757187 \r\nL 273.890071 461.757187 \r\nL 273.890071 304.250335 \r\nL 269.814812 304.250335 \r\nz\r\n\" style=\"fill:#ce7a1b;\"/>\r\n   </g>\r\n   <g id=\"patch_15\">\r\n    <path clip-path=\"url(#pb624e7c55a)\" d=\"M 246.527617 461.757187 \r\nL 250.602876 461.757187 \r\nL 250.602876 328.950273 \r\nL 246.527617 328.950273 \r\nz\r\n\" style=\"fill:#ce7a1b;\"/>\r\n   </g>\r\n   <g id=\"patch_16\">\r\n    <path clip-path=\"url(#pb624e7c55a)\" d=\"M 380.428987 461.757187 \r\nL 384.504246 461.757187 \r\nL 384.504246 47.585759 \r\nL 380.428987 47.585759 \r\nz\r\n\" style=\"fill:#ce7a1b;\"/>\r\n   </g>\r\n   <g id=\"patch_17\">\r\n    <path clip-path=\"url(#pb624e7c55a)\" d=\"M 357.141792 461.757187 \r\nL 361.217052 461.757187 \r\nL 361.217052 81.23495 \r\nL 357.141792 81.23495 \r\nz\r\n\" style=\"fill:#ce7a1b;\"/>\r\n   </g>\r\n   <g id=\"patch_18\">\r\n    <path clip-path=\"url(#pb624e7c55a)\" d=\"M 310.567403 461.757187 \r\nL 314.642662 461.757187 \r\nL 314.642662 71.569757 \r\nL 310.567403 71.569757 \r\nz\r\n\" style=\"fill:#ce7a1b;\"/>\r\n   </g>\r\n   <g id=\"patch_19\">\r\n    <path clip-path=\"url(#pb624e7c55a)\" d=\"M 473.577767 461.757187 \r\nL 477.653026 461.757187 \r\nL 477.653026 344.700958 \r\nL 473.577767 344.700958 \r\nz\r\n\" style=\"fill:#ce7a1b;\"/>\r\n   </g>\r\n   <g id=\"patch_20\">\r\n    <path clip-path=\"url(#pb624e7c55a)\" d=\"M 374.607189 461.757187 \r\nL 378.682448 461.757187 \r\nL 378.682448 248.943951 \r\nL 374.607189 248.943951 \r\nz\r\n\" style=\"fill:#ce7a1b;\"/>\r\n   </g>\r\n   <g id=\"patch_21\">\r\n    <path clip-path=\"url(#pb624e7c55a)\" d=\"M 397.894383 461.757187 \r\nL 401.969642 461.757187 \r\nL 401.969642 294.764127 \r\nL 397.894383 294.764127 \r\nz\r\n\" style=\"fill:#ce7a1b;\"/>\r\n   </g>\r\n   <g id=\"patch_22\">\r\n    <path clip-path=\"url(#pb624e7c55a)\" d=\"M 351.319994 461.757187 \r\nL 355.395253 461.757187 \r\nL 355.395253 248.406996 \r\nL 351.319994 248.406996 \r\nz\r\n\" style=\"fill:#ce7a1b;\"/>\r\n   </g>\r\n   <g id=\"patch_23\">\r\n    <path clip-path=\"url(#pb624e7c55a)\" d=\"M 328.032799 461.757187 \r\nL 332.108058 461.757187 \r\nL 332.108058 248.049026 \r\nL 328.032799 248.049026 \r\nz\r\n\" style=\"fill:#ce7a1b;\"/>\r\n   </g>\r\n   <g id=\"patch_24\">\r\n    <path clip-path=\"url(#pb624e7c55a)\" d=\"M 304.745604 461.757187 \r\nL 308.820863 461.757187 \r\nL 308.820863 297.269917 \r\nL 304.745604 297.269917 \r\nz\r\n\" style=\"fill:#ce7a1b;\"/>\r\n   </g>\r\n   <g id=\"patch_25\">\r\n    <path clip-path=\"url(#pb624e7c55a)\" d=\"M 421.181578 461.757187 \r\nL 425.256837 461.757187 \r\nL 425.256837 319.28508 \r\nL 421.181578 319.28508 \r\nz\r\n\" style=\"fill:#ce7a1b;\"/>\r\n   </g>\r\n   <g id=\"patch_26\">\r\n    <path clip-path=\"url(#pb624e7c55a)\" d=\"M 444.468773 461.757187 \r\nL 448.544032 461.757187 \r\nL 448.544032 284.204008 \r\nL 444.468773 284.204008 \r\nz\r\n\" style=\"fill:#ce7a1b;\"/>\r\n   </g>\r\n   <g id=\"patch_27\">\r\n    <path clip-path=\"url(#pb624e7c55a)\" d=\"M 403.716182 461.757187 \r\nL 407.791441 461.757187 \r\nL 407.791441 120.074708 \r\nL 403.716182 120.074708 \r\nz\r\n\" style=\"fill:#ce7a1b;\"/>\r\n   </g>\r\n   <g id=\"patch_28\">\r\n    <path clip-path=\"url(#pb624e7c55a)\" d=\"M 287.280208 461.757187 \r\nL 291.355467 461.757187 \r\nL 291.355467 144.416676 \r\nL 287.280208 144.416676 \r\nz\r\n\" style=\"fill:#ce7a1b;\"/>\r\n   </g>\r\n   <g id=\"patch_29\">\r\n    <path clip-path=\"url(#pb624e7c55a)\" d=\"M 188.30963 461.757187 \r\nL 192.384889 461.757187 \r\nL 192.384889 376.560299 \r\nL 188.30963 376.560299 \r\nz\r\n\" style=\"fill:#ce7a1b;\"/>\r\n   </g>\r\n   <g id=\"patch_30\">\r\n    <path clip-path=\"url(#pb624e7c55a)\" d=\"M 479.399565 461.757187 \r\nL 483.474824 461.757187 \r\nL 483.474824 198.112194 \r\nL 479.399565 198.112194 \r\nz\r\n\" style=\"fill:#ce7a1b;\"/>\r\n   </g>\r\n   <g id=\"patch_31\">\r\n    <path clip-path=\"url(#pb624e7c55a)\" d=\"M 427.003377 461.757187 \r\nL 431.078636 461.757187 \r\nL 431.078636 150.323183 \r\nL 427.003377 150.323183 \r\nz\r\n\" style=\"fill:#ce7a1b;\"/>\r\n   </g>\r\n   <g id=\"patch_32\">\r\n    <path clip-path=\"url(#pb624e7c55a)\" d=\"M 252.349416 461.757187 \r\nL 256.424675 461.757187 \r\nL 256.424675 332.529974 \r\nL 252.349416 332.529974 \r\nz\r\n\" style=\"fill:#ce7a1b;\"/>\r\n   </g>\r\n   <g id=\"patch_33\">\r\n    <path clip-path=\"url(#pb624e7c55a)\" d=\"M 176.666033 461.757187 \r\nL 180.741292 461.757187 \r\nL 180.741292 376.560299 \r\nL 176.666033 376.560299 \r\nz\r\n\" style=\"fill:#ce7a1b;\"/>\r\n   </g>\r\n   <g id=\"patch_34\">\r\n    <path clip-path=\"url(#pb624e7c55a)\" d=\"M 165.022435 461.757187 \r\nL 169.097694 461.757187 \r\nL 169.097694 439.384055 \r\nL 165.022435 439.384055 \r\nz\r\n\" style=\"fill:#ce7a1b;\"/>\r\n   </g>\r\n   <g id=\"patch_35\">\r\n    <path clip-path=\"url(#pb624e7c55a)\" d=\"M 438.646974 461.757187 \r\nL 442.722233 461.757187 \r\nL 442.722233 290.2895 \r\nL 438.646974 290.2895 \r\nz\r\n\" style=\"fill:#ce7a1b;\"/>\r\n   </g>\r\n   <g id=\"patch_36\">\r\n    <path clip-path=\"url(#pb624e7c55a)\" d=\"M 461.934169 461.757187 \r\nL 466.009428 461.757187 \r\nL 466.009428 328.592303 \r\nL 461.934169 328.592303 \r\nz\r\n\" style=\"fill:#ce7a1b;\"/>\r\n   </g>\r\n   <g id=\"patch_37\">\r\n    <path clip-path=\"url(#pb624e7c55a)\" d=\"M 415.35978 461.757187 \r\nL 419.435039 461.757187 \r\nL 419.435039 235.341087 \r\nL 415.35978 235.341087 \r\nz\r\n\" style=\"fill:#ce7a1b;\"/>\r\n   </g>\r\n   <g id=\"patch_38\">\r\n    <path clip-path=\"url(#pb624e7c55a)\" d=\"M 194.131429 461.757187 \r\nL 198.206688 461.757187 \r\nL 198.206688 428.644951 \r\nL 194.131429 428.644951 \r\nz\r\n\" style=\"fill:#ce7a1b;\"/>\r\n   </g>\r\n   <g id=\"patch_39\">\r\n    <path clip-path=\"url(#pb624e7c55a)\" d=\"M 170.844234 461.757187 \r\nL 174.919493 461.757187 \r\nL 174.919493 427.571041 \r\nL 170.844234 427.571041 \r\nz\r\n\" style=\"fill:#ce7a1b;\"/>\r\n   </g>\r\n   <g id=\"patch_40\">\r\n    <path clip-path=\"url(#pb624e7c55a)\" d=\"M 199.953227 461.757187 \r\nL 204.028486 461.757187 \r\nL 204.028486 425.42322 \r\nL 199.953227 425.42322 \r\nz\r\n\" style=\"fill:#ce7a1b;\"/>\r\n   </g>\r\n   <g id=\"patch_41\">\r\n    <path clip-path=\"url(#pb624e7c55a)\" d=\"M 205.775026 461.757187 \r\nL 209.850285 461.757187 \r\nL 209.850285 410.20949 \r\nL 205.775026 410.20949 \r\nz\r\n\" style=\"fill:#ce7a1b;\"/>\r\n   </g>\r\n   <g id=\"patch_42\">\r\n    <path clip-path=\"url(#pb624e7c55a)\" d=\"M 223.240422 461.757187 \r\nL 227.315681 461.757187 \r\nL 227.315681 402.513133 \r\nL 223.240422 402.513133 \r\nz\r\n\" style=\"fill:#ce7a1b;\"/>\r\n   </g>\r\n   <g id=\"patch_43\">\r\n    <path clip-path=\"url(#pb624e7c55a)\" d=\"M 211.596825 461.757187 \r\nL 215.672084 461.757187 \r\nL 215.672084 400.186327 \r\nL 211.596825 400.186327 \r\nz\r\n\" style=\"fill:#ce7a1b;\"/>\r\n   </g>\r\n   <g id=\"patch_44\">\r\n    <path clip-path=\"url(#pb624e7c55a)\" d=\"M 217.418623 461.757187 \r\nL 221.493883 461.757187 \r\nL 221.493883 409.49355 \r\nL 217.418623 409.49355 \r\nz\r\n\" style=\"fill:#ce7a1b;\"/>\r\n   </g>\r\n   <g id=\"patch_45\">\r\n    <path clip-path=\"url(#pb624e7c55a)\" d=\"M 240.705818 461.757187 \r\nL 244.781077 461.757187 \r\nL 244.781077 381.034925 \r\nL 240.705818 381.034925 \r\nz\r\n\" style=\"fill:#ce7a1b;\"/>\r\n   </g>\r\n   <g id=\"patch_46\">\r\n    <path clip-path=\"url(#pb624e7c55a)\" d=\"M 263.993013 461.757187 \r\nL 268.068272 461.757187 \r\nL 268.068272 306.935111 \r\nL 263.993013 306.935111 \r\nz\r\n\" style=\"fill:#ce7a1b;\"/>\r\n   </g>\r\n   <g id=\"patch_47\">\r\n    <path clip-path=\"url(#pb624e7c55a)\" d=\"M 485.221364 461.757187 \r\nL 489.296623 461.757187 \r\nL 489.296623 315.526394 \r\nL 485.221364 315.526394 \r\nz\r\n\" style=\"fill:#ce7a1b;\"/>\r\n   </g>\r\n   <g id=\"patch_48\">\r\n    <path clip-path=\"url(#pb624e7c55a)\" d=\"M 159.200636 461.757187 \r\nL 163.275896 461.757187 \r\nL 163.275896 452.270979 \r\nL 159.200636 452.270979 \r\nz\r\n\" style=\"fill:#ce7a1b;\"/>\r\n   </g>\r\n   <g id=\"patch_49\">\r\n    <path clip-path=\"url(#pb624e7c55a)\" d=\"M 153.378838 461.757187 \r\nL 157.454097 461.757187 \r\nL 157.454097 443.142741 \r\nL 153.378838 443.142741 \r\nz\r\n\" style=\"fill:#ce7a1b;\"/>\r\n   </g>\r\n   <g id=\"patch_50\">\r\n    <path clip-path=\"url(#pb624e7c55a)\" d=\"M 147.557039 461.757187 \r\nL 151.632298 461.757187 \r\nL 151.632298 459.072412 \r\nL 147.557039 459.072412 \r\nz\r\n\" style=\"fill:#ce7a1b;\"/>\r\n   </g>\r\n   <g id=\"patch_51\">\r\n    <path clip-path=\"url(#pb624e7c55a)\" d=\"M 514.330358 461.757187 \r\nL 518.405617 461.757187 \r\nL 518.405617 342.016182 \r\nL 514.330358 342.016182 \r\nz\r\n\" style=\"fill:#ce7a1b;\"/>\r\n   </g>\r\n   <g id=\"patch_52\">\r\n    <path clip-path=\"url(#pb624e7c55a)\" d=\"M 491.043163 461.757187 \r\nL 495.118422 461.757187 \r\nL 495.118422 336.288661 \r\nL 491.043163 336.288661 \r\nz\r\n\" style=\"fill:#ce7a1b;\"/>\r\n   </g>\r\n   <g id=\"patch_53\">\r\n    <path clip-path=\"url(#pb624e7c55a)\" d=\"M 467.755968 461.757187 \r\nL 471.831227 461.757187 \r\nL 471.831227 290.826455 \r\nL 467.755968 290.826455 \r\nz\r\n\" style=\"fill:#ce7a1b;\"/>\r\n   </g>\r\n   <g id=\"patch_54\">\r\n    <path clip-path=\"url(#pb624e7c55a)\" d=\"M 537.617552 461.757187 \r\nL 541.692811 461.757187 \r\nL 541.692811 335.57272 \r\nL 537.617552 335.57272 \r\nz\r\n\" style=\"fill:#ce7a1b;\"/>\r\n   </g>\r\n   <g id=\"patch_55\">\r\n    <path clip-path=\"url(#pb624e7c55a)\" d=\"M 566.726546 461.757187 \r\nL 570.801805 461.757187 \r\nL 570.801805 256.282339 \r\nL 566.726546 256.282339 \r\nz\r\n\" style=\"fill:#ce7a1b;\"/>\r\n   </g>\r\n   <g id=\"patch_56\">\r\n    <path clip-path=\"url(#pb624e7c55a)\" d=\"M 590.013741 461.757187 \r\nL 594.089 461.757187 \r\nL 594.089 360.988599 \r\nL 590.013741 360.988599 \r\nz\r\n\" style=\"fill:#ce7a1b;\"/>\r\n   </g>\r\n   <g id=\"patch_57\">\r\n    <path clip-path=\"url(#pb624e7c55a)\" d=\"M 368.78539 461.757187 \r\nL 372.860649 461.757187 \r\nL 372.860649 356.692957 \r\nL 368.78539 356.692957 \r\nz\r\n\" style=\"fill:#ce7a1b;\"/>\r\n   </g>\r\n   <g id=\"patch_58\">\r\n    <path clip-path=\"url(#pb624e7c55a)\" d=\"M 322.211 461.757187 \r\nL 326.286259 461.757187 \r\nL 326.286259 395.7117 \r\nL 322.211 395.7117 \r\nz\r\n\" style=\"fill:#ce7a1b;\"/>\r\n   </g>\r\n   <g id=\"patch_59\">\r\n    <path clip-path=\"url(#pb624e7c55a)\" d=\"M 688.984319 461.757187 \r\nL 693.059578 461.757187 \r\nL 693.059578 456.745606 \r\nL 688.984319 456.745606 \r\nz\r\n\" style=\"fill:#ce7a1b;\"/>\r\n   </g>\r\n   <g id=\"patch_60\">\r\n    <path clip-path=\"url(#pb624e7c55a)\" d=\"M 496.864961 461.757187 \r\nL 500.94022 461.757187 \r\nL 500.94022 333.066929 \r\nL 496.864961 333.066929 \r\nz\r\n\" style=\"fill:#ce7a1b;\"/>\r\n   </g>\r\n   <g id=\"patch_61\">\r\n    <path clip-path=\"url(#pb624e7c55a)\" d=\"M 543.439351 461.757187 \r\nL 547.51461 461.757187 \r\nL 547.51461 347.385734 \r\nL 543.439351 347.385734 \r\nz\r\n\" style=\"fill:#ce7a1b;\"/>\r\n   </g>\r\n   <g id=\"patch_62\">\r\n    <path clip-path=\"url(#pb624e7c55a)\" d=\"M 450.290572 461.757187 \r\nL 454.365831 461.757187 \r\nL 454.365831 272.569979 \r\nL 450.290572 272.569979 \r\nz\r\n\" style=\"fill:#ce7a1b;\"/>\r\n   </g>\r\n   <g id=\"patch_63\">\r\n    <path clip-path=\"url(#pb624e7c55a)\" d=\"M 520.152156 461.757187 \r\nL 524.227415 461.757187 \r\nL 524.227415 329.487228 \r\nL 520.152156 329.487228 \r\nz\r\n\" style=\"fill:#ce7a1b;\"/>\r\n   </g>\r\n   <g id=\"patch_64\">\r\n    <path clip-path=\"url(#pb624e7c55a)\" d=\"M 572.548345 461.757187 \r\nL 576.623604 461.757187 \r\nL 576.623604 319.64305 \r\nL 572.548345 319.64305 \r\nz\r\n\" style=\"fill:#ce7a1b;\"/>\r\n   </g>\r\n   <g id=\"patch_65\">\r\n    <path clip-path=\"url(#pb624e7c55a)\" d=\"M 234.88402 461.757187 \r\nL 238.959279 461.757187 \r\nL 238.959279 394.100835 \r\nL 234.88402 394.100835 \r\nz\r\n\" style=\"fill:#ce7a1b;\"/>\r\n   </g>\r\n   <g id=\"patch_66\">\r\n    <path clip-path=\"url(#pb624e7c55a)\" d=\"M 275.636611 461.757187 \r\nL 279.71187 461.757187 \r\nL 279.71187 415.579042 \r\nL 275.636611 415.579042 \r\nz\r\n\" style=\"fill:#ce7a1b;\"/>\r\n   </g>\r\n   <g id=\"patch_67\">\r\n    <path clip-path=\"url(#pb624e7c55a)\" d=\"M 624.944533 461.757187 \r\nL 629.019792 461.757187 \r\nL 629.019792 449.407218 \r\nL 624.944533 449.407218 \r\nz\r\n\" style=\"fill:#ce7a1b;\"/>\r\n   </g>\r\n   <g id=\"patch_68\">\r\n    <path clip-path=\"url(#pb624e7c55a)\" d=\"M 665.697124 461.757187 \r\nL 669.772383 461.757187 \r\nL 669.772383 426.676116 \r\nL 665.697124 426.676116 \r\nz\r\n\" style=\"fill:#ce7a1b;\"/>\r\n   </g>\r\n   <g id=\"patch_69\">\r\n    <path clip-path=\"url(#pb624e7c55a)\" d=\"M 502.68676 461.757187 \r\nL 506.762019 461.757187 \r\nL 506.762019 257.714219 \r\nL 502.68676 257.714219 \r\nz\r\n\" style=\"fill:#ce7a1b;\"/>\r\n   </g>\r\n   <g id=\"patch_70\">\r\n    <path clip-path=\"url(#pb624e7c55a)\" d=\"M 525.973955 461.757187 \r\nL 530.049214 461.757187 \r\nL 530.049214 264.873622 \r\nL 525.973955 264.873622 \r\nz\r\n\" style=\"fill:#ce7a1b;\"/>\r\n   </g>\r\n   <g id=\"patch_71\">\r\n    <path clip-path=\"url(#pb624e7c55a)\" d=\"M 555.082948 461.757187 \r\nL 559.158208 461.757187 \r\nL 559.158208 357.945853 \r\nL 555.082948 357.945853 \r\nz\r\n\" style=\"fill:#ce7a1b;\"/>\r\n   </g>\r\n   <g id=\"patch_72\">\r\n    <path clip-path=\"url(#pb624e7c55a)\" d=\"M 392.072585 461.757187 \r\nL 396.147844 461.757187 \r\nL 396.147844 289.394575 \r\nL 392.072585 289.394575 \r\nz\r\n\" style=\"fill:#ce7a1b;\"/>\r\n   </g>\r\n   <g id=\"patch_73\">\r\n    <path clip-path=\"url(#pb624e7c55a)\" d=\"M 345.498195 461.757187 \r\nL 349.573454 461.757187 \r\nL 349.573454 323.222751 \r\nL 345.498195 323.222751 \r\nz\r\n\" style=\"fill:#ce7a1b;\"/>\r\n   </g>\r\n   <g id=\"patch_74\">\r\n    <path clip-path=\"url(#pb624e7c55a)\" d=\"M 118.448045 461.757187 \r\nL 122.523305 461.757187 \r\nL 122.523305 383.361731 \r\nL 118.448045 383.361731 \r\nz\r\n\" style=\"fill:#ce7a1b;\"/>\r\n   </g>\r\n   <g id=\"patch_75\">\r\n    <path clip-path=\"url(#pb624e7c55a)\" d=\"M 549.26115 461.757187 \r\nL 553.336409 461.757187 \r\nL 553.336409 331.098094 \r\nL 549.26115 331.098094 \r\nz\r\n\" style=\"fill:#ce7a1b;\"/>\r\n   </g>\r\n   <g id=\"patch_76\">\r\n    <path clip-path=\"url(#pb624e7c55a)\" d=\"M 100.982649 461.757187 \r\nL 105.057908 461.757187 \r\nL 105.057908 411.283401 \r\nL 100.982649 411.283401 \r\nz\r\n\" style=\"fill:#ce7a1b;\"/>\r\n   </g>\r\n   <g id=\"patch_77\">\r\n    <path clip-path=\"url(#pb624e7c55a)\" d=\"M 648.231728 461.757187 \r\nL 652.306987 461.757187 \r\nL 652.306987 423.096415 \r\nL 648.231728 423.096415 \r\nz\r\n\" style=\"fill:#ce7a1b;\"/>\r\n   </g>\r\n   <g id=\"patch_78\">\r\n    <path clip-path=\"url(#pb624e7c55a)\" d=\"M 654.053526 461.757187 \r\nL 658.128786 461.757187 \r\nL 658.128786 457.282561 \r\nL 654.053526 457.282561 \r\nz\r\n\" style=\"fill:#ce7a1b;\"/>\r\n   </g>\r\n   <g id=\"patch_79\">\r\n    <path clip-path=\"url(#pb624e7c55a)\" d=\"M 595.835539 461.757187 \r\nL 599.910798 461.757187 \r\nL 599.910798 423.63337 \r\nL 595.835539 423.63337 \r\nz\r\n\" style=\"fill:#ce7a1b;\"/>\r\n   </g>\r\n   <g id=\"patch_80\">\r\n    <path clip-path=\"url(#pb624e7c55a)\" d=\"M 106.804448 461.757187 \r\nL 110.879707 461.757187 \r\nL 110.879707 412.357311 \r\nL 106.804448 412.357311 \r\nz\r\n\" style=\"fill:#ce7a1b;\"/>\r\n   </g>\r\n   <g id=\"patch_81\">\r\n    <path clip-path=\"url(#pb624e7c55a)\" d=\"M 135.913442 461.757187 \r\nL 139.988701 461.757187 \r\nL 139.988701 425.602205 \r\nL 135.913442 425.602205 \r\nz\r\n\" style=\"fill:#ce7a1b;\"/>\r\n   </g>\r\n   <g id=\"patch_82\">\r\n    <path clip-path=\"url(#pb624e7c55a)\" d=\"M 578.370143 461.757187 \r\nL 582.445402 461.757187 \r\nL 582.445402 311.409737 \r\nL 578.370143 311.409737 \r\nz\r\n\" style=\"fill:#ce7a1b;\"/>\r\n   </g>\r\n   <g id=\"patch_83\">\r\n    <path clip-path=\"url(#pb624e7c55a)\" d=\"M 89.339052 461.757187 \r\nL 93.414311 461.757187 \r\nL 93.414311 430.434802 \r\nL 89.339052 430.434802 \r\nz\r\n\" style=\"fill:#ce7a1b;\"/>\r\n   </g>\r\n   <g id=\"patch_84\">\r\n    <path clip-path=\"url(#pb624e7c55a)\" d=\"M 601.657338 461.757187 \r\nL 605.732597 461.757187 \r\nL 605.732597 413.431221 \r\nL 601.657338 413.431221 \r\nz\r\n\" style=\"fill:#ce7a1b;\"/>\r\n   </g>\r\n   <g id=\"patch_85\">\r\n    <path clip-path=\"url(#pb624e7c55a)\" d=\"M 619.122734 461.757187 \r\nL 623.197993 461.757187 \r\nL 623.197993 409.85152 \r\nL 619.122734 409.85152 \r\nz\r\n\" style=\"fill:#ce7a1b;\"/>\r\n   </g>\r\n   <g id=\"patch_86\">\r\n    <path clip-path=\"url(#pb624e7c55a)\" d=\"M 130.091643 461.757187 \r\nL 134.166902 461.757187 \r\nL 134.166902 452.091994 \r\nL 130.091643 452.091994 \r\nz\r\n\" style=\"fill:#ce7a1b;\"/>\r\n   </g>\r\n   <g id=\"patch_87\">\r\n    <path clip-path=\"url(#pb624e7c55a)\" d=\"M 182.487831 461.757187 \r\nL 186.56309 461.757187 \r\nL 186.56309 450.839099 \r\nL 182.487831 450.839099 \r\nz\r\n\" style=\"fill:#ce7a1b;\"/>\r\n   </g>\r\n   <g id=\"patch_88\">\r\n    <path clip-path=\"url(#pb624e7c55a)\" d=\"M 258.171214 461.757187 \r\nL 262.246474 461.757187 \r\nL 262.246474 391.058089 \r\nL 258.171214 391.058089 \r\nz\r\n\" style=\"fill:#ce7a1b;\"/>\r\n   </g>\r\n   <g id=\"patch_89\">\r\n    <path clip-path=\"url(#pb624e7c55a)\" d=\"M 77.695455 461.757187 \r\nL 81.770714 461.757187 \r\nL 81.770714 454.4188 \r\nL 77.695455 454.4188 \r\nz\r\n\" style=\"fill:#ce7a1b;\"/>\r\n   </g>\r\n   <g id=\"patch_90\">\r\n    <path clip-path=\"url(#pb624e7c55a)\" d=\"M 95.160851 461.757187 \r\nL 99.23611 461.757187 \r\nL 99.23611 451.734024 \r\nL 95.160851 451.734024 \r\nz\r\n\" style=\"fill:#ce7a1b;\"/>\r\n   </g>\r\n   <g id=\"patch_91\">\r\n    <path clip-path=\"url(#pb624e7c55a)\" d=\"M 83.517253 461.757187 \r\nL 87.592512 461.757187 \r\nL 87.592512 461.399217 \r\nL 83.517253 461.399217 \r\nz\r\n\" style=\"fill:#ce7a1b;\"/>\r\n   </g>\r\n   <g id=\"patch_92\">\r\n    <path clip-path=\"url(#pb624e7c55a)\" d=\"M 607.479137 461.757187 \r\nL 611.554396 461.757187 \r\nL 611.554396 355.619047 \r\nL 607.479137 355.619047 \r\nz\r\n\" style=\"fill:#ce7a1b;\"/>\r\n   </g>\r\n   <g id=\"patch_93\">\r\n    <path clip-path=\"url(#pb624e7c55a)\" d=\"M 281.458409 461.757187 \r\nL 285.533668 461.757187 \r\nL 285.533668 390.700119 \r\nL 281.458409 390.700119 \r\nz\r\n\" style=\"fill:#ce7a1b;\"/>\r\n   </g>\r\n   <g id=\"patch_94\">\r\n    <path clip-path=\"url(#pb624e7c55a)\" d=\"M 729.73691 461.757187 \r\nL 733.812169 461.757187 \r\nL 733.812169 441.173906 \r\nL 729.73691 441.173906 \r\nz\r\n\" style=\"fill:#ce7a1b;\"/>\r\n   </g>\r\n   <g id=\"patch_95\">\r\n    <path clip-path=\"url(#pb624e7c55a)\" d=\"M 659.875325 461.757187 \r\nL 663.950584 461.757187 \r\nL 663.950584 444.932592 \r\nL 659.875325 444.932592 \r\nz\r\n\" style=\"fill:#ce7a1b;\"/>\r\n   </g>\r\n   <g id=\"patch_96\">\r\n    <path clip-path=\"url(#pb624e7c55a)\" d=\"M 531.795754 461.757187 \r\nL 535.871013 461.757187 \r\nL 535.871013 358.303823 \r\nL 531.795754 358.303823 \r\nz\r\n\" style=\"fill:#ce7a1b;\"/>\r\n   </g>\r\n   <g id=\"patch_97\">\r\n    <path clip-path=\"url(#pb624e7c55a)\" d=\"M 613.300936 461.757187 \r\nL 617.376195 461.757187 \r\nL 617.376195 377.992179 \r\nL 613.300936 377.992179 \r\nz\r\n\" style=\"fill:#ce7a1b;\"/>\r\n   </g>\r\n   <g id=\"patch_98\">\r\n    <path clip-path=\"url(#pb624e7c55a)\" d=\"M 584.191942 461.757187 \r\nL 588.267201 461.757187 \r\nL 588.267201 335.57272 \r\nL 584.191942 335.57272 \r\nz\r\n\" style=\"fill:#ce7a1b;\"/>\r\n   </g>\r\n   <g id=\"patch_99\">\r\n    <path clip-path=\"url(#pb624e7c55a)\" d=\"M 560.904747 461.757187 \r\nL 564.980006 461.757187 \r\nL 564.980006 369.400897 \r\nL 560.904747 369.400897 \r\nz\r\n\" style=\"fill:#ce7a1b;\"/>\r\n   </g>\r\n   <g id=\"patch_100\">\r\n    <path clip-path=\"url(#pb624e7c55a)\" d=\"M 642.409929 461.757187 \r\nL 646.485188 461.757187 \r\nL 646.485188 402.513133 \r\nL 642.409929 402.513133 \r\nz\r\n\" style=\"fill:#ce7a1b;\"/>\r\n   </g>\r\n   <g id=\"patch_101\">\r\n    <path clip-path=\"url(#pb624e7c55a)\" d=\"M 712.271514 461.757187 \r\nL 716.346773 461.757187 \r\nL 716.346773 449.765188 \r\nL 712.271514 449.765188 \r\nz\r\n\" style=\"fill:#ce7a1b;\"/>\r\n   </g>\r\n   <g id=\"patch_102\">\r\n    <path clip-path=\"url(#pb624e7c55a)\" d=\"M 683.16252 461.757187 \r\nL 687.237779 461.757187 \r\nL 687.237779 446.185487 \r\nL 683.16252 446.185487 \r\nz\r\n\" style=\"fill:#ce7a1b;\"/>\r\n   </g>\r\n   <g id=\"patch_103\">\r\n    <path clip-path=\"url(#pb624e7c55a)\" d=\"M 694.806117 461.757187 \r\nL 698.881377 461.757187 \r\nL 698.881377 432.045668 \r\nL 694.806117 432.045668 \r\nz\r\n\" style=\"fill:#ce7a1b;\"/>\r\n   </g>\r\n   <g id=\"patch_104\">\r\n    <path clip-path=\"url(#pb624e7c55a)\" d=\"M 630.766332 461.757187 \r\nL 634.841591 461.757187 \r\nL 634.841591 375.844359 \r\nL 630.766332 375.844359 \r\nz\r\n\" style=\"fill:#ce7a1b;\"/>\r\n   </g>\r\n   <g id=\"patch_105\">\r\n    <path clip-path=\"url(#pb624e7c55a)\" d=\"M 700.627916 461.757187 \r\nL 704.703175 461.757187 \r\nL 704.703175 454.955755 \r\nL 700.627916 454.955755 \r\nz\r\n\" style=\"fill:#ce7a1b;\"/>\r\n   </g>\r\n   <g id=\"patch_106\">\r\n    <path clip-path=\"url(#pb624e7c55a)\" d=\"M 636.58813 461.757187 \r\nL 640.663389 461.757187 \r\nL 640.663389 429.539877 \r\nL 636.58813 429.539877 \r\nz\r\n\" style=\"fill:#ce7a1b;\"/>\r\n   </g>\r\n   <g id=\"patch_107\">\r\n    <path clip-path=\"url(#pb624e7c55a)\" d=\"M 723.915111 461.757187 \r\nL 727.99037 461.757187 \r\nL 727.99037 458.356471 \r\nL 723.915111 458.356471 \r\nz\r\n\" style=\"fill:#ce7a1b;\"/>\r\n   </g>\r\n   <g id=\"patch_108\">\r\n    <path clip-path=\"url(#pb624e7c55a)\" d=\"M 677.340721 461.757187 \r\nL 681.41598 461.757187 \r\nL 681.41598 451.376054 \r\nL 677.340721 451.376054 \r\nz\r\n\" style=\"fill:#ce7a1b;\"/>\r\n   </g>\r\n   <g id=\"patch_109\">\r\n    <path clip-path=\"url(#pb624e7c55a)\" d=\"M 671.518923 461.757187 \r\nL 675.594182 461.757187 \r\nL 675.594182 438.48913 \r\nL 671.518923 438.48913 \r\nz\r\n\" style=\"fill:#ce7a1b;\"/>\r\n   </g>\r\n   <g id=\"patch_110\">\r\n    <path clip-path=\"url(#pb624e7c55a)\" d=\"M 706.449715 461.757187 \r\nL 710.524974 461.757187 \r\nL 710.524974 439.384055 \r\nL 706.449715 439.384055 \r\nz\r\n\" style=\"fill:#ce7a1b;\"/>\r\n   </g>\r\n   <g id=\"patch_111\">\r\n    <path clip-path=\"url(#pb624e7c55a)\" d=\"M 298.923805 461.757187 \r\nL 302.999064 461.757187 \r\nL 302.999064 406.271819 \r\nL 298.923805 406.271819 \r\nz\r\n\" style=\"fill:#ce7a1b;\"/>\r\n   </g>\r\n   <g id=\"patch_112\">\r\n    <path clip-path=\"url(#pb624e7c55a)\" d=\"M 753.024104 461.757187 \r\nL 757.099364 461.757187 \r\nL 757.099364 454.239815 \r\nL 753.024104 454.239815 \r\nz\r\n\" style=\"fill:#ce7a1b;\"/>\r\n   </g>\r\n   <g id=\"patch_113\">\r\n    <path clip-path=\"url(#pb624e7c55a)\" d=\"M 770.489501 461.757187 \r\nL 774.56476 461.757187 \r\nL 774.56476 456.208651 \r\nL 770.489501 456.208651 \r\nz\r\n\" style=\"fill:#ce7a1b;\"/>\r\n   </g>\r\n   <g id=\"patch_114\">\r\n    <path clip-path=\"url(#pb624e7c55a)\" d=\"M 718.093312 461.757187 \r\nL 722.168571 461.757187 \r\nL 722.168571 457.819516 \r\nL 718.093312 457.819516 \r\nz\r\n\" style=\"fill:#ce7a1b;\"/>\r\n   </g>\r\n   <g id=\"patch_115\">\r\n    <path clip-path=\"url(#pb624e7c55a)\" d=\"M 799.598494 461.757187 \r\nL 803.673753 461.757187 \r\nL 803.673753 459.788352 \r\nL 799.598494 459.788352 \r\nz\r\n\" style=\"fill:#ce7a1b;\"/>\r\n   </g>\r\n   <g id=\"patch_116\">\r\n    <path clip-path=\"url(#pb624e7c55a)\" d=\"M 776.311299 461.757187 \r\nL 780.386558 461.757187 \r\nL 780.386558 460.504292 \r\nL 776.311299 460.504292 \r\nz\r\n\" style=\"fill:#ce7a1b;\"/>\r\n   </g>\r\n   <g id=\"patch_117\">\r\n    <path clip-path=\"url(#pb624e7c55a)\" d=\"M 735.558708 461.757187 \r\nL 739.633967 461.757187 \r\nL 739.633967 454.597785 \r\nL 735.558708 454.597785 \r\nz\r\n\" style=\"fill:#ce7a1b;\"/>\r\n   </g>\r\n   <g id=\"patch_118\">\r\n    <path clip-path=\"url(#pb624e7c55a)\" d=\"M 747.202306 461.757187 \r\nL 751.277565 461.757187 \r\nL 751.277565 457.819516 \r\nL 747.202306 457.819516 \r\nz\r\n\" style=\"fill:#ce7a1b;\"/>\r\n   </g>\r\n   <g id=\"patch_119\">\r\n    <path clip-path=\"url(#pb624e7c55a)\" d=\"M 141.73524 461.757187 \r\nL 145.810499 461.757187 \r\nL 145.810499 460.862262 \r\nL 141.73524 460.862262 \r\nz\r\n\" style=\"fill:#ce7a1b;\"/>\r\n   </g>\r\n   <g id=\"patch_120\">\r\n    <path clip-path=\"url(#pb624e7c55a)\" d=\"M 741.380507 461.757187 \r\nL 745.455766 461.757187 \r\nL 745.455766 460.146322 \r\nL 741.380507 460.146322 \r\nz\r\n\" style=\"fill:#ce7a1b;\"/>\r\n   </g>\r\n   <g id=\"patch_121\">\r\n    <path clip-path=\"url(#pb624e7c55a)\" d=\"M 758.845903 461.757187 \r\nL 762.921162 461.757187 \r\nL 762.921162 460.146322 \r\nL 758.845903 460.146322 \r\nz\r\n\" style=\"fill:#ce7a1b;\"/>\r\n   </g>\r\n   <g id=\"patch_122\">\r\n    <path clip-path=\"url(#pb624e7c55a)\" d=\"M 793.776695 461.757187 \r\nL 797.851955 461.757187 \r\nL 797.851955 459.967337 \r\nL 793.776695 459.967337 \r\nz\r\n\" style=\"fill:#ce7a1b;\"/>\r\n   </g>\r\n   <g id=\"patch_123\">\r\n    <path clip-path=\"url(#pb624e7c55a)\" d=\"M 817.06389 461.757187 \r\nL 821.139149 461.757187 \r\nL 821.139149 461.399217 \r\nL 817.06389 461.399217 \r\nz\r\n\" style=\"fill:#ce7a1b;\"/>\r\n   </g>\r\n   <g id=\"patch_124\">\r\n    <path clip-path=\"url(#pb624e7c55a)\" d=\"M 764.667702 461.757187 \r\nL 768.742961 461.757187 \r\nL 768.742961 461.399217 \r\nL 764.667702 461.399217 \r\nz\r\n\" style=\"fill:#ce7a1b;\"/>\r\n   </g>\r\n   <g id=\"patch_125\">\r\n    <path clip-path=\"url(#pb624e7c55a)\" d=\"M 112.626247 461.757187 \r\nL 116.701506 461.757187 \r\nL 116.701506 461.220232 \r\nL 112.626247 461.220232 \r\nz\r\n\" style=\"fill:#ce7a1b;\"/>\r\n   </g>\r\n   <g id=\"patch_126\">\r\n    <path clip-path=\"url(#pb624e7c55a)\" d=\"M 834.529286 461.757187 \r\nL 838.604545 461.757187 \r\nL 838.604545 461.578202 \r\nL 834.529286 461.578202 \r\nz\r\n\" style=\"fill:#ce7a1b;\"/>\r\n   </g>\r\n   <g id=\"matplotlib.axis_1\">\r\n    <g id=\"xtick_1\">\r\n     <g id=\"line2d_1\">\r\n      <defs>\r\n       <path d=\"M 0 0 \r\nL 0 3.5 \r\n\" id=\"m44ab512c72\" style=\"stroke:#000000;stroke-width:0.8;\"/>\r\n      </defs>\r\n      <g>\r\n       <use style=\"stroke:#000000;stroke-width:0.8;\" x=\"155.416467\" xlink:href=\"#m44ab512c72\" y=\"461.757187\"/>\r\n      </g>\r\n     </g>\r\n     <g id=\"text_1\">\r\n      <!-- 40 -->\r\n      <g transform=\"translate(149.053967 476.355625)scale(0.1 -0.1)\">\r\n       <defs>\r\n        <path d=\"M 37.796875 64.3125 \r\nL 12.890625 25.390625 \r\nL 37.796875 25.390625 \r\nz\r\nM 35.203125 72.90625 \r\nL 47.609375 72.90625 \r\nL 47.609375 25.390625 \r\nL 58.015625 25.390625 \r\nL 58.015625 17.1875 \r\nL 47.609375 17.1875 \r\nL 47.609375 0 \r\nL 37.796875 0 \r\nL 37.796875 17.1875 \r\nL 4.890625 17.1875 \r\nL 4.890625 26.703125 \r\nz\r\n\" id=\"DejaVuSans-52\"/>\r\n        <path d=\"M 31.78125 66.40625 \r\nQ 24.171875 66.40625 20.328125 58.90625 \r\nQ 16.5 51.421875 16.5 36.375 \r\nQ 16.5 21.390625 20.328125 13.890625 \r\nQ 24.171875 6.390625 31.78125 6.390625 \r\nQ 39.453125 6.390625 43.28125 13.890625 \r\nQ 47.125 21.390625 47.125 36.375 \r\nQ 47.125 51.421875 43.28125 58.90625 \r\nQ 39.453125 66.40625 31.78125 66.40625 \r\nz\r\nM 31.78125 74.21875 \r\nQ 44.046875 74.21875 50.515625 64.515625 \r\nQ 56.984375 54.828125 56.984375 36.375 \r\nQ 56.984375 17.96875 50.515625 8.265625 \r\nQ 44.046875 -1.421875 31.78125 -1.421875 \r\nQ 19.53125 -1.421875 13.0625 8.265625 \r\nQ 6.59375 17.96875 6.59375 36.375 \r\nQ 6.59375 54.828125 13.0625 64.515625 \r\nQ 19.53125 74.21875 31.78125 74.21875 \r\nz\r\n\" id=\"DejaVuSans-48\"/>\r\n       </defs>\r\n       <use xlink:href=\"#DejaVuSans-52\"/>\r\n       <use x=\"63.623047\" xlink:href=\"#DejaVuSans-48\"/>\r\n      </g>\r\n     </g>\r\n    </g>\r\n    <g id=\"xtick_2\">\r\n     <g id=\"line2d_2\">\r\n      <g>\r\n       <use style=\"stroke:#000000;stroke-width:0.8;\" x=\"271.852441\" xlink:href=\"#m44ab512c72\" y=\"461.757187\"/>\r\n      </g>\r\n     </g>\r\n     <g id=\"text_2\">\r\n      <!-- 60 -->\r\n      <g transform=\"translate(265.489941 476.355625)scale(0.1 -0.1)\">\r\n       <defs>\r\n        <path d=\"M 33.015625 40.375 \r\nQ 26.375 40.375 22.484375 35.828125 \r\nQ 18.609375 31.296875 18.609375 23.390625 \r\nQ 18.609375 15.53125 22.484375 10.953125 \r\nQ 26.375 6.390625 33.015625 6.390625 \r\nQ 39.65625 6.390625 43.53125 10.953125 \r\nQ 47.40625 15.53125 47.40625 23.390625 \r\nQ 47.40625 31.296875 43.53125 35.828125 \r\nQ 39.65625 40.375 33.015625 40.375 \r\nz\r\nM 52.59375 71.296875 \r\nL 52.59375 62.3125 \r\nQ 48.875 64.0625 45.09375 64.984375 \r\nQ 41.3125 65.921875 37.59375 65.921875 \r\nQ 27.828125 65.921875 22.671875 59.328125 \r\nQ 17.53125 52.734375 16.796875 39.40625 \r\nQ 19.671875 43.65625 24.015625 45.921875 \r\nQ 28.375 48.1875 33.59375 48.1875 \r\nQ 44.578125 48.1875 50.953125 41.515625 \r\nQ 57.328125 34.859375 57.328125 23.390625 \r\nQ 57.328125 12.15625 50.6875 5.359375 \r\nQ 44.046875 -1.421875 33.015625 -1.421875 \r\nQ 20.359375 -1.421875 13.671875 8.265625 \r\nQ 6.984375 17.96875 6.984375 36.375 \r\nQ 6.984375 53.65625 15.1875 63.9375 \r\nQ 23.390625 74.21875 37.203125 74.21875 \r\nQ 40.921875 74.21875 44.703125 73.484375 \r\nQ 48.484375 72.75 52.59375 71.296875 \r\nz\r\n\" id=\"DejaVuSans-54\"/>\r\n       </defs>\r\n       <use xlink:href=\"#DejaVuSans-54\"/>\r\n       <use x=\"63.623047\" xlink:href=\"#DejaVuSans-48\"/>\r\n      </g>\r\n     </g>\r\n    </g>\r\n    <g id=\"xtick_3\">\r\n     <g id=\"line2d_3\">\r\n      <g>\r\n       <use style=\"stroke:#000000;stroke-width:0.8;\" x=\"388.288416\" xlink:href=\"#m44ab512c72\" y=\"461.757187\"/>\r\n      </g>\r\n     </g>\r\n     <g id=\"text_3\">\r\n      <!-- 80 -->\r\n      <g transform=\"translate(381.925916 476.355625)scale(0.1 -0.1)\">\r\n       <defs>\r\n        <path d=\"M 31.78125 34.625 \r\nQ 24.75 34.625 20.71875 30.859375 \r\nQ 16.703125 27.09375 16.703125 20.515625 \r\nQ 16.703125 13.921875 20.71875 10.15625 \r\nQ 24.75 6.390625 31.78125 6.390625 \r\nQ 38.8125 6.390625 42.859375 10.171875 \r\nQ 46.921875 13.96875 46.921875 20.515625 \r\nQ 46.921875 27.09375 42.890625 30.859375 \r\nQ 38.875 34.625 31.78125 34.625 \r\nz\r\nM 21.921875 38.8125 \r\nQ 15.578125 40.375 12.03125 44.71875 \r\nQ 8.5 49.078125 8.5 55.328125 \r\nQ 8.5 64.0625 14.71875 69.140625 \r\nQ 20.953125 74.21875 31.78125 74.21875 \r\nQ 42.671875 74.21875 48.875 69.140625 \r\nQ 55.078125 64.0625 55.078125 55.328125 \r\nQ 55.078125 49.078125 51.53125 44.71875 \r\nQ 48 40.375 41.703125 38.8125 \r\nQ 48.828125 37.15625 52.796875 32.3125 \r\nQ 56.78125 27.484375 56.78125 20.515625 \r\nQ 56.78125 9.90625 50.3125 4.234375 \r\nQ 43.84375 -1.421875 31.78125 -1.421875 \r\nQ 19.734375 -1.421875 13.25 4.234375 \r\nQ 6.78125 9.90625 6.78125 20.515625 \r\nQ 6.78125 27.484375 10.78125 32.3125 \r\nQ 14.796875 37.15625 21.921875 38.8125 \r\nz\r\nM 18.3125 54.390625 \r\nQ 18.3125 48.734375 21.84375 45.5625 \r\nQ 25.390625 42.390625 31.78125 42.390625 \r\nQ 38.140625 42.390625 41.71875 45.5625 \r\nQ 45.3125 48.734375 45.3125 54.390625 \r\nQ 45.3125 60.0625 41.71875 63.234375 \r\nQ 38.140625 66.40625 31.78125 66.40625 \r\nQ 25.390625 66.40625 21.84375 63.234375 \r\nQ 18.3125 60.0625 18.3125 54.390625 \r\nz\r\n\" id=\"DejaVuSans-56\"/>\r\n       </defs>\r\n       <use xlink:href=\"#DejaVuSans-56\"/>\r\n       <use x=\"63.623047\" xlink:href=\"#DejaVuSans-48\"/>\r\n      </g>\r\n     </g>\r\n    </g>\r\n    <g id=\"xtick_4\">\r\n     <g id=\"line2d_4\">\r\n      <g>\r\n       <use style=\"stroke:#000000;stroke-width:0.8;\" x=\"504.72439\" xlink:href=\"#m44ab512c72\" y=\"461.757187\"/>\r\n      </g>\r\n     </g>\r\n     <g id=\"text_4\">\r\n      <!-- 100 -->\r\n      <g transform=\"translate(495.18064 476.355625)scale(0.1 -0.1)\">\r\n       <defs>\r\n        <path d=\"M 12.40625 8.296875 \r\nL 28.515625 8.296875 \r\nL 28.515625 63.921875 \r\nL 10.984375 60.40625 \r\nL 10.984375 69.390625 \r\nL 28.421875 72.90625 \r\nL 38.28125 72.90625 \r\nL 38.28125 8.296875 \r\nL 54.390625 8.296875 \r\nL 54.390625 0 \r\nL 12.40625 0 \r\nz\r\n\" id=\"DejaVuSans-49\"/>\r\n       </defs>\r\n       <use xlink:href=\"#DejaVuSans-49\"/>\r\n       <use x=\"63.623047\" xlink:href=\"#DejaVuSans-48\"/>\r\n       <use x=\"127.246094\" xlink:href=\"#DejaVuSans-48\"/>\r\n      </g>\r\n     </g>\r\n    </g>\r\n    <g id=\"xtick_5\">\r\n     <g id=\"line2d_5\">\r\n      <g>\r\n       <use style=\"stroke:#000000;stroke-width:0.8;\" x=\"621.160364\" xlink:href=\"#m44ab512c72\" y=\"461.757187\"/>\r\n      </g>\r\n     </g>\r\n     <g id=\"text_5\">\r\n      <!-- 120 -->\r\n      <g transform=\"translate(611.616614 476.355625)scale(0.1 -0.1)\">\r\n       <defs>\r\n        <path d=\"M 19.1875 8.296875 \r\nL 53.609375 8.296875 \r\nL 53.609375 0 \r\nL 7.328125 0 \r\nL 7.328125 8.296875 \r\nQ 12.9375 14.109375 22.625 23.890625 \r\nQ 32.328125 33.6875 34.8125 36.53125 \r\nQ 39.546875 41.84375 41.421875 45.53125 \r\nQ 43.3125 49.21875 43.3125 52.78125 \r\nQ 43.3125 58.59375 39.234375 62.25 \r\nQ 35.15625 65.921875 28.609375 65.921875 \r\nQ 23.96875 65.921875 18.8125 64.3125 \r\nQ 13.671875 62.703125 7.8125 59.421875 \r\nL 7.8125 69.390625 \r\nQ 13.765625 71.78125 18.9375 73 \r\nQ 24.125 74.21875 28.421875 74.21875 \r\nQ 39.75 74.21875 46.484375 68.546875 \r\nQ 53.21875 62.890625 53.21875 53.421875 \r\nQ 53.21875 48.921875 51.53125 44.890625 \r\nQ 49.859375 40.875 45.40625 35.40625 \r\nQ 44.1875 33.984375 37.640625 27.21875 \r\nQ 31.109375 20.453125 19.1875 8.296875 \r\nz\r\n\" id=\"DejaVuSans-50\"/>\r\n       </defs>\r\n       <use xlink:href=\"#DejaVuSans-49\"/>\r\n       <use x=\"63.623047\" xlink:href=\"#DejaVuSans-50\"/>\r\n       <use x=\"127.246094\" xlink:href=\"#DejaVuSans-48\"/>\r\n      </g>\r\n     </g>\r\n    </g>\r\n    <g id=\"xtick_6\">\r\n     <g id=\"line2d_6\">\r\n      <g>\r\n       <use style=\"stroke:#000000;stroke-width:0.8;\" x=\"737.596338\" xlink:href=\"#m44ab512c72\" y=\"461.757187\"/>\r\n      </g>\r\n     </g>\r\n     <g id=\"text_6\">\r\n      <!-- 140 -->\r\n      <g transform=\"translate(728.052588 476.355625)scale(0.1 -0.1)\">\r\n       <use xlink:href=\"#DejaVuSans-49\"/>\r\n       <use x=\"63.623047\" xlink:href=\"#DejaVuSans-52\"/>\r\n       <use x=\"127.246094\" xlink:href=\"#DejaVuSans-48\"/>\r\n      </g>\r\n     </g>\r\n    </g>\r\n    <g id=\"xtick_7\">\r\n     <g id=\"line2d_7\">\r\n      <g>\r\n       <use style=\"stroke:#000000;stroke-width:0.8;\" x=\"854.032312\" xlink:href=\"#m44ab512c72\" y=\"461.757187\"/>\r\n      </g>\r\n     </g>\r\n     <g id=\"text_7\">\r\n      <!-- 160 -->\r\n      <g transform=\"translate(844.488562 476.355625)scale(0.1 -0.1)\">\r\n       <use xlink:href=\"#DejaVuSans-49\"/>\r\n       <use x=\"63.623047\" xlink:href=\"#DejaVuSans-54\"/>\r\n       <use x=\"127.246094\" xlink:href=\"#DejaVuSans-48\"/>\r\n      </g>\r\n     </g>\r\n    </g>\r\n   </g>\r\n   <g id=\"matplotlib.axis_2\">\r\n    <g id=\"ytick_1\">\r\n     <g id=\"line2d_8\">\r\n      <defs>\r\n       <path d=\"M 0 0 \r\nL -3.5 0 \r\n\" id=\"m7d70be0335\" style=\"stroke:#000000;stroke-width:0.8;\"/>\r\n      </defs>\r\n      <g>\r\n       <use style=\"stroke:#000000;stroke-width:0.8;\" x=\"39.65\" xlink:href=\"#m7d70be0335\" y=\"461.757187\"/>\r\n      </g>\r\n     </g>\r\n     <g id=\"text_8\">\r\n      <!-- 0 -->\r\n      <g transform=\"translate(26.2875 465.556406)scale(0.1 -0.1)\">\r\n       <use xlink:href=\"#DejaVuSans-48\"/>\r\n      </g>\r\n     </g>\r\n    </g>\r\n    <g id=\"ytick_2\">\r\n     <g id=\"line2d_9\">\r\n      <g>\r\n       <use style=\"stroke:#000000;stroke-width:0.8;\" x=\"39.65\" xlink:href=\"#m7d70be0335\" y=\"372.264658\"/>\r\n      </g>\r\n     </g>\r\n     <g id=\"text_9\">\r\n      <!-- 500 -->\r\n      <g transform=\"translate(13.5625 376.063876)scale(0.1 -0.1)\">\r\n       <defs>\r\n        <path d=\"M 10.796875 72.90625 \r\nL 49.515625 72.90625 \r\nL 49.515625 64.59375 \r\nL 19.828125 64.59375 \r\nL 19.828125 46.734375 \r\nQ 21.96875 47.46875 24.109375 47.828125 \r\nQ 26.265625 48.1875 28.421875 48.1875 \r\nQ 40.625 48.1875 47.75 41.5 \r\nQ 54.890625 34.8125 54.890625 23.390625 \r\nQ 54.890625 11.625 47.5625 5.09375 \r\nQ 40.234375 -1.421875 26.90625 -1.421875 \r\nQ 22.3125 -1.421875 17.546875 -0.640625 \r\nQ 12.796875 0.140625 7.71875 1.703125 \r\nL 7.71875 11.625 \r\nQ 12.109375 9.234375 16.796875 8.0625 \r\nQ 21.484375 6.890625 26.703125 6.890625 \r\nQ 35.15625 6.890625 40.078125 11.328125 \r\nQ 45.015625 15.765625 45.015625 23.390625 \r\nQ 45.015625 31 40.078125 35.4375 \r\nQ 35.15625 39.890625 26.703125 39.890625 \r\nQ 22.75 39.890625 18.8125 39.015625 \r\nQ 14.890625 38.140625 10.796875 36.28125 \r\nz\r\n\" id=\"DejaVuSans-53\"/>\r\n       </defs>\r\n       <use xlink:href=\"#DejaVuSans-53\"/>\r\n       <use x=\"63.623047\" xlink:href=\"#DejaVuSans-48\"/>\r\n       <use x=\"127.246094\" xlink:href=\"#DejaVuSans-48\"/>\r\n      </g>\r\n     </g>\r\n    </g>\r\n    <g id=\"ytick_3\">\r\n     <g id=\"line2d_10\">\r\n      <g>\r\n       <use style=\"stroke:#000000;stroke-width:0.8;\" x=\"39.65\" xlink:href=\"#m7d70be0335\" y=\"282.772128\"/>\r\n      </g>\r\n     </g>\r\n     <g id=\"text_10\">\r\n      <!-- 1000 -->\r\n      <g transform=\"translate(7.2 286.571346)scale(0.1 -0.1)\">\r\n       <use xlink:href=\"#DejaVuSans-49\"/>\r\n       <use x=\"63.623047\" xlink:href=\"#DejaVuSans-48\"/>\r\n       <use x=\"127.246094\" xlink:href=\"#DejaVuSans-48\"/>\r\n       <use x=\"190.869141\" xlink:href=\"#DejaVuSans-48\"/>\r\n      </g>\r\n     </g>\r\n    </g>\r\n    <g id=\"ytick_4\">\r\n     <g id=\"line2d_11\">\r\n      <g>\r\n       <use style=\"stroke:#000000;stroke-width:0.8;\" x=\"39.65\" xlink:href=\"#m7d70be0335\" y=\"193.279598\"/>\r\n      </g>\r\n     </g>\r\n     <g id=\"text_11\">\r\n      <!-- 1500 -->\r\n      <g transform=\"translate(7.2 197.078816)scale(0.1 -0.1)\">\r\n       <use xlink:href=\"#DejaVuSans-49\"/>\r\n       <use x=\"63.623047\" xlink:href=\"#DejaVuSans-53\"/>\r\n       <use x=\"127.246094\" xlink:href=\"#DejaVuSans-48\"/>\r\n       <use x=\"190.869141\" xlink:href=\"#DejaVuSans-48\"/>\r\n      </g>\r\n     </g>\r\n    </g>\r\n    <g id=\"ytick_5\">\r\n     <g id=\"line2d_12\">\r\n      <g>\r\n       <use style=\"stroke:#000000;stroke-width:0.8;\" x=\"39.65\" xlink:href=\"#m7d70be0335\" y=\"103.787068\"/>\r\n      </g>\r\n     </g>\r\n     <g id=\"text_12\">\r\n      <!-- 2000 -->\r\n      <g transform=\"translate(7.2 107.586286)scale(0.1 -0.1)\">\r\n       <use xlink:href=\"#DejaVuSans-50\"/>\r\n       <use x=\"63.623047\" xlink:href=\"#DejaVuSans-48\"/>\r\n       <use x=\"127.246094\" xlink:href=\"#DejaVuSans-48\"/>\r\n       <use x=\"190.869141\" xlink:href=\"#DejaVuSans-48\"/>\r\n      </g>\r\n     </g>\r\n    </g>\r\n   </g>\r\n   <g id=\"patch_127\">\r\n    <path d=\"M 39.65 461.757187 \r\nL 39.65 26.877187 \r\n\" style=\"fill:none;stroke:#000000;stroke-linecap:square;stroke-linejoin:miter;stroke-width:0.8;\"/>\r\n   </g>\r\n   <g id=\"patch_128\">\r\n    <path d=\"M 39.65 461.757187 \r\nL 876.65 461.757187 \r\n\" style=\"fill:none;stroke:#000000;stroke-linecap:square;stroke-linejoin:miter;stroke-width:0.8;\"/>\r\n   </g>\r\n   <g id=\"text_13\">\r\n    <!-- Distribution des pixels -->\r\n    <g transform=\"translate(357.999687 20.877187)scale(0.18 -0.18)\">\r\n     <defs>\r\n      <path d=\"M 19.671875 64.796875 \r\nL 19.671875 8.109375 \r\nL 31.59375 8.109375 \r\nQ 46.6875 8.109375 53.6875 14.9375 \r\nQ 60.6875 21.78125 60.6875 36.53125 \r\nQ 60.6875 51.171875 53.6875 57.984375 \r\nQ 46.6875 64.796875 31.59375 64.796875 \r\nz\r\nM 9.8125 72.90625 \r\nL 30.078125 72.90625 \r\nQ 51.265625 72.90625 61.171875 64.09375 \r\nQ 71.09375 55.28125 71.09375 36.53125 \r\nQ 71.09375 17.671875 61.125 8.828125 \r\nQ 51.171875 0 30.078125 0 \r\nL 9.8125 0 \r\nz\r\n\" id=\"DejaVuSans-68\"/>\r\n      <path d=\"M 9.421875 54.6875 \r\nL 18.40625 54.6875 \r\nL 18.40625 0 \r\nL 9.421875 0 \r\nz\r\nM 9.421875 75.984375 \r\nL 18.40625 75.984375 \r\nL 18.40625 64.59375 \r\nL 9.421875 64.59375 \r\nz\r\n\" id=\"DejaVuSans-105\"/>\r\n      <path d=\"M 44.28125 53.078125 \r\nL 44.28125 44.578125 \r\nQ 40.484375 46.53125 36.375 47.5 \r\nQ 32.28125 48.484375 27.875 48.484375 \r\nQ 21.1875 48.484375 17.84375 46.4375 \r\nQ 14.5 44.390625 14.5 40.28125 \r\nQ 14.5 37.15625 16.890625 35.375 \r\nQ 19.28125 33.59375 26.515625 31.984375 \r\nL 29.59375 31.296875 \r\nQ 39.15625 29.25 43.1875 25.515625 \r\nQ 47.21875 21.78125 47.21875 15.09375 \r\nQ 47.21875 7.46875 41.1875 3.015625 \r\nQ 35.15625 -1.421875 24.609375 -1.421875 \r\nQ 20.21875 -1.421875 15.453125 -0.5625 \r\nQ 10.6875 0.296875 5.421875 2 \r\nL 5.421875 11.28125 \r\nQ 10.40625 8.6875 15.234375 7.390625 \r\nQ 20.0625 6.109375 24.8125 6.109375 \r\nQ 31.15625 6.109375 34.5625 8.28125 \r\nQ 37.984375 10.453125 37.984375 14.40625 \r\nQ 37.984375 18.0625 35.515625 20.015625 \r\nQ 33.0625 21.96875 24.703125 23.78125 \r\nL 21.578125 24.515625 \r\nQ 13.234375 26.265625 9.515625 29.90625 \r\nQ 5.8125 33.546875 5.8125 39.890625 \r\nQ 5.8125 47.609375 11.28125 51.796875 \r\nQ 16.75 56 26.8125 56 \r\nQ 31.78125 56 36.171875 55.265625 \r\nQ 40.578125 54.546875 44.28125 53.078125 \r\nz\r\n\" id=\"DejaVuSans-115\"/>\r\n      <path d=\"M 18.3125 70.21875 \r\nL 18.3125 54.6875 \r\nL 36.8125 54.6875 \r\nL 36.8125 47.703125 \r\nL 18.3125 47.703125 \r\nL 18.3125 18.015625 \r\nQ 18.3125 11.328125 20.140625 9.421875 \r\nQ 21.96875 7.515625 27.59375 7.515625 \r\nL 36.8125 7.515625 \r\nL 36.8125 0 \r\nL 27.59375 0 \r\nQ 17.1875 0 13.234375 3.875 \r\nQ 9.28125 7.765625 9.28125 18.015625 \r\nL 9.28125 47.703125 \r\nL 2.6875 47.703125 \r\nL 2.6875 54.6875 \r\nL 9.28125 54.6875 \r\nL 9.28125 70.21875 \r\nz\r\n\" id=\"DejaVuSans-116\"/>\r\n      <path d=\"M 41.109375 46.296875 \r\nQ 39.59375 47.171875 37.8125 47.578125 \r\nQ 36.03125 48 33.890625 48 \r\nQ 26.265625 48 22.1875 43.046875 \r\nQ 18.109375 38.09375 18.109375 28.8125 \r\nL 18.109375 0 \r\nL 9.078125 0 \r\nL 9.078125 54.6875 \r\nL 18.109375 54.6875 \r\nL 18.109375 46.1875 \r\nQ 20.953125 51.171875 25.484375 53.578125 \r\nQ 30.03125 56 36.53125 56 \r\nQ 37.453125 56 38.578125 55.875 \r\nQ 39.703125 55.765625 41.0625 55.515625 \r\nz\r\n\" id=\"DejaVuSans-114\"/>\r\n      <path d=\"M 48.6875 27.296875 \r\nQ 48.6875 37.203125 44.609375 42.84375 \r\nQ 40.53125 48.484375 33.40625 48.484375 \r\nQ 26.265625 48.484375 22.1875 42.84375 \r\nQ 18.109375 37.203125 18.109375 27.296875 \r\nQ 18.109375 17.390625 22.1875 11.75 \r\nQ 26.265625 6.109375 33.40625 6.109375 \r\nQ 40.53125 6.109375 44.609375 11.75 \r\nQ 48.6875 17.390625 48.6875 27.296875 \r\nz\r\nM 18.109375 46.390625 \r\nQ 20.953125 51.265625 25.265625 53.625 \r\nQ 29.59375 56 35.59375 56 \r\nQ 45.5625 56 51.78125 48.09375 \r\nQ 58.015625 40.1875 58.015625 27.296875 \r\nQ 58.015625 14.40625 51.78125 6.484375 \r\nQ 45.5625 -1.421875 35.59375 -1.421875 \r\nQ 29.59375 -1.421875 25.265625 0.953125 \r\nQ 20.953125 3.328125 18.109375 8.203125 \r\nL 18.109375 0 \r\nL 9.078125 0 \r\nL 9.078125 75.984375 \r\nL 18.109375 75.984375 \r\nz\r\n\" id=\"DejaVuSans-98\"/>\r\n      <path d=\"M 8.5 21.578125 \r\nL 8.5 54.6875 \r\nL 17.484375 54.6875 \r\nL 17.484375 21.921875 \r\nQ 17.484375 14.15625 20.5 10.265625 \r\nQ 23.53125 6.390625 29.59375 6.390625 \r\nQ 36.859375 6.390625 41.078125 11.03125 \r\nQ 45.3125 15.671875 45.3125 23.6875 \r\nL 45.3125 54.6875 \r\nL 54.296875 54.6875 \r\nL 54.296875 0 \r\nL 45.3125 0 \r\nL 45.3125 8.40625 \r\nQ 42.046875 3.421875 37.71875 1 \r\nQ 33.40625 -1.421875 27.6875 -1.421875 \r\nQ 18.265625 -1.421875 13.375 4.4375 \r\nQ 8.5 10.296875 8.5 21.578125 \r\nz\r\nM 31.109375 56 \r\nz\r\n\" id=\"DejaVuSans-117\"/>\r\n      <path d=\"M 30.609375 48.390625 \r\nQ 23.390625 48.390625 19.1875 42.75 \r\nQ 14.984375 37.109375 14.984375 27.296875 \r\nQ 14.984375 17.484375 19.15625 11.84375 \r\nQ 23.34375 6.203125 30.609375 6.203125 \r\nQ 37.796875 6.203125 41.984375 11.859375 \r\nQ 46.1875 17.53125 46.1875 27.296875 \r\nQ 46.1875 37.015625 41.984375 42.703125 \r\nQ 37.796875 48.390625 30.609375 48.390625 \r\nz\r\nM 30.609375 56 \r\nQ 42.328125 56 49.015625 48.375 \r\nQ 55.71875 40.765625 55.71875 27.296875 \r\nQ 55.71875 13.875 49.015625 6.21875 \r\nQ 42.328125 -1.421875 30.609375 -1.421875 \r\nQ 18.84375 -1.421875 12.171875 6.21875 \r\nQ 5.515625 13.875 5.515625 27.296875 \r\nQ 5.515625 40.765625 12.171875 48.375 \r\nQ 18.84375 56 30.609375 56 \r\nz\r\n\" id=\"DejaVuSans-111\"/>\r\n      <path d=\"M 54.890625 33.015625 \r\nL 54.890625 0 \r\nL 45.90625 0 \r\nL 45.90625 32.71875 \r\nQ 45.90625 40.484375 42.875 44.328125 \r\nQ 39.84375 48.1875 33.796875 48.1875 \r\nQ 26.515625 48.1875 22.3125 43.546875 \r\nQ 18.109375 38.921875 18.109375 30.90625 \r\nL 18.109375 0 \r\nL 9.078125 0 \r\nL 9.078125 54.6875 \r\nL 18.109375 54.6875 \r\nL 18.109375 46.1875 \r\nQ 21.34375 51.125 25.703125 53.5625 \r\nQ 30.078125 56 35.796875 56 \r\nQ 45.21875 56 50.046875 50.171875 \r\nQ 54.890625 44.34375 54.890625 33.015625 \r\nz\r\n\" id=\"DejaVuSans-110\"/>\r\n      <path id=\"DejaVuSans-32\"/>\r\n      <path d=\"M 45.40625 46.390625 \r\nL 45.40625 75.984375 \r\nL 54.390625 75.984375 \r\nL 54.390625 0 \r\nL 45.40625 0 \r\nL 45.40625 8.203125 \r\nQ 42.578125 3.328125 38.25 0.953125 \r\nQ 33.9375 -1.421875 27.875 -1.421875 \r\nQ 17.96875 -1.421875 11.734375 6.484375 \r\nQ 5.515625 14.40625 5.515625 27.296875 \r\nQ 5.515625 40.1875 11.734375 48.09375 \r\nQ 17.96875 56 27.875 56 \r\nQ 33.9375 56 38.25 53.625 \r\nQ 42.578125 51.265625 45.40625 46.390625 \r\nz\r\nM 14.796875 27.296875 \r\nQ 14.796875 17.390625 18.875 11.75 \r\nQ 22.953125 6.109375 30.078125 6.109375 \r\nQ 37.203125 6.109375 41.296875 11.75 \r\nQ 45.40625 17.390625 45.40625 27.296875 \r\nQ 45.40625 37.203125 41.296875 42.84375 \r\nQ 37.203125 48.484375 30.078125 48.484375 \r\nQ 22.953125 48.484375 18.875 42.84375 \r\nQ 14.796875 37.203125 14.796875 27.296875 \r\nz\r\n\" id=\"DejaVuSans-100\"/>\r\n      <path d=\"M 56.203125 29.59375 \r\nL 56.203125 25.203125 \r\nL 14.890625 25.203125 \r\nQ 15.484375 15.921875 20.484375 11.0625 \r\nQ 25.484375 6.203125 34.421875 6.203125 \r\nQ 39.59375 6.203125 44.453125 7.46875 \r\nQ 49.3125 8.734375 54.109375 11.28125 \r\nL 54.109375 2.78125 \r\nQ 49.265625 0.734375 44.1875 -0.34375 \r\nQ 39.109375 -1.421875 33.890625 -1.421875 \r\nQ 20.796875 -1.421875 13.15625 6.1875 \r\nQ 5.515625 13.8125 5.515625 26.8125 \r\nQ 5.515625 40.234375 12.765625 48.109375 \r\nQ 20.015625 56 32.328125 56 \r\nQ 43.359375 56 49.78125 48.890625 \r\nQ 56.203125 41.796875 56.203125 29.59375 \r\nz\r\nM 47.21875 32.234375 \r\nQ 47.125 39.59375 43.09375 43.984375 \r\nQ 39.0625 48.390625 32.421875 48.390625 \r\nQ 24.90625 48.390625 20.390625 44.140625 \r\nQ 15.875 39.890625 15.1875 32.171875 \r\nz\r\n\" id=\"DejaVuSans-101\"/>\r\n      <path d=\"M 18.109375 8.203125 \r\nL 18.109375 -20.796875 \r\nL 9.078125 -20.796875 \r\nL 9.078125 54.6875 \r\nL 18.109375 54.6875 \r\nL 18.109375 46.390625 \r\nQ 20.953125 51.265625 25.265625 53.625 \r\nQ 29.59375 56 35.59375 56 \r\nQ 45.5625 56 51.78125 48.09375 \r\nQ 58.015625 40.1875 58.015625 27.296875 \r\nQ 58.015625 14.40625 51.78125 6.484375 \r\nQ 45.5625 -1.421875 35.59375 -1.421875 \r\nQ 29.59375 -1.421875 25.265625 0.953125 \r\nQ 20.953125 3.328125 18.109375 8.203125 \r\nz\r\nM 48.6875 27.296875 \r\nQ 48.6875 37.203125 44.609375 42.84375 \r\nQ 40.53125 48.484375 33.40625 48.484375 \r\nQ 26.265625 48.484375 22.1875 42.84375 \r\nQ 18.109375 37.203125 18.109375 27.296875 \r\nQ 18.109375 17.390625 22.1875 11.75 \r\nQ 26.265625 6.109375 33.40625 6.109375 \r\nQ 40.53125 6.109375 44.609375 11.75 \r\nQ 48.6875 17.390625 48.6875 27.296875 \r\nz\r\n\" id=\"DejaVuSans-112\"/>\r\n      <path d=\"M 54.890625 54.6875 \r\nL 35.109375 28.078125 \r\nL 55.90625 0 \r\nL 45.3125 0 \r\nL 29.390625 21.484375 \r\nL 13.484375 0 \r\nL 2.875 0 \r\nL 24.125 28.609375 \r\nL 4.6875 54.6875 \r\nL 15.28125 54.6875 \r\nL 29.78125 35.203125 \r\nL 44.28125 54.6875 \r\nz\r\n\" id=\"DejaVuSans-120\"/>\r\n      <path d=\"M 9.421875 75.984375 \r\nL 18.40625 75.984375 \r\nL 18.40625 0 \r\nL 9.421875 0 \r\nz\r\n\" id=\"DejaVuSans-108\"/>\r\n     </defs>\r\n     <use xlink:href=\"#DejaVuSans-68\"/>\r\n     <use x=\"77.001953\" xlink:href=\"#DejaVuSans-105\"/>\r\n     <use x=\"104.785156\" xlink:href=\"#DejaVuSans-115\"/>\r\n     <use x=\"156.884766\" xlink:href=\"#DejaVuSans-116\"/>\r\n     <use x=\"196.09375\" xlink:href=\"#DejaVuSans-114\"/>\r\n     <use x=\"237.207031\" xlink:href=\"#DejaVuSans-105\"/>\r\n     <use x=\"264.990234\" xlink:href=\"#DejaVuSans-98\"/>\r\n     <use x=\"328.466797\" xlink:href=\"#DejaVuSans-117\"/>\r\n     <use x=\"391.845703\" xlink:href=\"#DejaVuSans-116\"/>\r\n     <use x=\"431.054688\" xlink:href=\"#DejaVuSans-105\"/>\r\n     <use x=\"458.837891\" xlink:href=\"#DejaVuSans-111\"/>\r\n     <use x=\"520.019531\" xlink:href=\"#DejaVuSans-110\"/>\r\n     <use x=\"583.398438\" xlink:href=\"#DejaVuSans-32\"/>\r\n     <use x=\"615.185547\" xlink:href=\"#DejaVuSans-100\"/>\r\n     <use x=\"678.662109\" xlink:href=\"#DejaVuSans-101\"/>\r\n     <use x=\"740.185547\" xlink:href=\"#DejaVuSans-115\"/>\r\n     <use x=\"792.285156\" xlink:href=\"#DejaVuSans-32\"/>\r\n     <use x=\"824.072266\" xlink:href=\"#DejaVuSans-112\"/>\r\n     <use x=\"887.548828\" xlink:href=\"#DejaVuSans-105\"/>\r\n     <use x=\"915.332031\" xlink:href=\"#DejaVuSans-120\"/>\r\n     <use x=\"971.386719\" xlink:href=\"#DejaVuSans-101\"/>\r\n     <use x=\"1032.910156\" xlink:href=\"#DejaVuSans-108\"/>\r\n     <use x=\"1060.693359\" xlink:href=\"#DejaVuSans-115\"/>\r\n    </g>\r\n   </g>\r\n  </g>\r\n </g>\r\n <defs>\r\n  <clipPath id=\"pb624e7c55a\">\r\n   <rect height=\"434.88\" width=\"837\" x=\"39.65\" y=\"26.877187\"/>\r\n  </clipPath>\r\n </defs>\r\n</svg>\r\n",
      "image/png": "[encoded data removed]"
     },
     "metadata": {
      "needs_background": "light"
     }
    }
   ],
   "source": [
    "fig, ax = plt.subplots(1,figsize=(15,8))\n",
    "ax.bar(dicto.keys(), dicto.values(),width=0.7, color='#CE7A1B')\n",
    "ax.spines['right'].set_visible(False)\n",
    "ax.spines['top'].set_visible(False)\n",
    "ax.set_title('Distribution des pixels',fontsize = 18)\n",
    "fig.show()"
   ]
  },
  {
   "cell_type": "code",
   "execution_count": 158,
   "metadata": {},
   "outputs": [
    {
     "output_type": "display_data",
     "data": {
      "application/vnd.plotly.v1+json": {
       "config": {
        "plotlyServerURL": "https://plot.ly"
       },
       "data": [
        {
         "alignmentgroup": "True",
         "hovertemplate": "x=%{x}<br>36=%{y}<extra></extra>",
         "legendgroup": "",
         "marker": {
          "color": "#636efa"
         },
         "name": "",
         "offsetgroup": "",
         "orientation": "v",
         "showlegend": false,
         "textposition": "auto",
         "type": "bar",
         "x": [
          "1. red soil",
          "2. cotton crop",
          "3. grey soil",
          "4. damp grey soil",
          "5. soil with vegetation stubble",
          "mixture class (all types present)",
          "7. very damp grey soil"
         ],
         "xaxis": "x",
         "y": [
          1072,
          479,
          961,
          415,
          470,
          0,
          1038
         ],
         "yaxis": "y"
        }
       ],
       "layout": {
        "barmode": "relative",
        "legend": {
         "tracegroupgap": 0
        },
        "template": {
         "data": {
          "bar": [
           {
            "error_x": {
             "color": "#2a3f5f"
            },
            "error_y": {
             "color": "#2a3f5f"
            },
            "marker": {
             "line": {
              "color": "#E5ECF6",
              "width": 0.5
             }
            },
            "type": "bar"
           }
          ],
          "barpolar": [
           {
            "marker": {
             "line": {
              "color": "#E5ECF6",
              "width": 0.5
             }
            },
            "type": "barpolar"
           }
          ],
          "carpet": [
           {
            "aaxis": {
             "endlinecolor": "#2a3f5f",
             "gridcolor": "white",
             "linecolor": "white",
             "minorgridcolor": "white",
             "startlinecolor": "#2a3f5f"
            },
            "baxis": {
             "endlinecolor": "#2a3f5f",
             "gridcolor": "white",
             "linecolor": "white",
             "minorgridcolor": "white",
             "startlinecolor": "#2a3f5f"
            },
            "type": "carpet"
           }
          ],
          "choropleth": [
           {
            "colorbar": {
             "outlinewidth": 0,
             "ticks": ""
            },
            "type": "choropleth"
           }
          ],
          "contour": [
           {
            "colorbar": {
             "outlinewidth": 0,
             "ticks": ""
            },
            "colorscale": [
             [
              0,
              "#0d0887"
             ],
             [
              0.1111111111111111,
              "#46039f"
             ],
             [
              0.2222222222222222,
              "#7201a8"
             ],
             [
              0.3333333333333333,
              "#9c179e"
             ],
             [
              0.4444444444444444,
              "#bd3786"
             ],
             [
              0.5555555555555556,
              "#d8576b"
             ],
             [
              0.6666666666666666,
              "#ed7953"
             ],
             [
              0.7777777777777778,
              "#fb9f3a"
             ],
             [
              0.8888888888888888,
              "#fdca26"
             ],
             [
              1,
              "#f0f921"
             ]
            ],
            "type": "contour"
           }
          ],
          "contourcarpet": [
           {
            "colorbar": {
             "outlinewidth": 0,
             "ticks": ""
            },
            "type": "contourcarpet"
           }
          ],
          "heatmap": [
           {
            "colorbar": {
             "outlinewidth": 0,
             "ticks": ""
            },
            "colorscale": [
             [
              0,
              "#0d0887"
             ],
             [
              0.1111111111111111,
              "#46039f"
             ],
             [
              0.2222222222222222,
              "#7201a8"
             ],
             [
              0.3333333333333333,
              "#9c179e"
             ],
             [
              0.4444444444444444,
              "#bd3786"
             ],
             [
              0.5555555555555556,
              "#d8576b"
             ],
             [
              0.6666666666666666,
              "#ed7953"
             ],
             [
              0.7777777777777778,
              "#fb9f3a"
             ],
             [
              0.8888888888888888,
              "#fdca26"
             ],
             [
              1,
              "#f0f921"
             ]
            ],
            "type": "heatmap"
           }
          ],
          "heatmapgl": [
           {
            "colorbar": {
             "outlinewidth": 0,
             "ticks": ""
            },
            "colorscale": [
             [
              0,
              "#0d0887"
             ],
             [
              0.1111111111111111,
              "#46039f"
             ],
             [
              0.2222222222222222,
              "#7201a8"
             ],
             [
              0.3333333333333333,
              "#9c179e"
             ],
             [
              0.4444444444444444,
              "#bd3786"
             ],
             [
              0.5555555555555556,
              "#d8576b"
             ],
             [
              0.6666666666666666,
              "#ed7953"
             ],
             [
              0.7777777777777778,
              "#fb9f3a"
             ],
             [
              0.8888888888888888,
              "#fdca26"
             ],
             [
              1,
              "#f0f921"
             ]
            ],
            "type": "heatmapgl"
           }
          ],
          "histogram": [
           {
            "marker": {
             "colorbar": {
              "outlinewidth": 0,
              "ticks": ""
             }
            },
            "type": "histogram"
           }
          ],
          "histogram2d": [
           {
            "colorbar": {
             "outlinewidth": 0,
             "ticks": ""
            },
            "colorscale": [
             [
              0,
              "#0d0887"
             ],
             [
              0.1111111111111111,
              "#46039f"
             ],
             [
              0.2222222222222222,
              "#7201a8"
             ],
             [
              0.3333333333333333,
              "#9c179e"
             ],
             [
              0.4444444444444444,
              "#bd3786"
             ],
             [
              0.5555555555555556,
              "#d8576b"
             ],
             [
              0.6666666666666666,
              "#ed7953"
             ],
             [
              0.7777777777777778,
              "#fb9f3a"
             ],
             [
              0.8888888888888888,
              "#fdca26"
             ],
             [
              1,
              "#f0f921"
             ]
            ],
            "type": "histogram2d"
           }
          ],
          "histogram2dcontour": [
           {
            "colorbar": {
             "outlinewidth": 0,
             "ticks": ""
            },
            "colorscale": [
             [
              0,
              "#0d0887"
             ],
             [
              0.1111111111111111,
              "#46039f"
             ],
             [
              0.2222222222222222,
              "#7201a8"
             ],
             [
              0.3333333333333333,
              "#9c179e"
             ],
             [
              0.4444444444444444,
              "#bd3786"
             ],
             [
              0.5555555555555556,
              "#d8576b"
             ],
             [
              0.6666666666666666,
              "#ed7953"
             ],
             [
              0.7777777777777778,
              "#fb9f3a"
             ],
             [
              0.8888888888888888,
              "#fdca26"
             ],
             [
              1,
              "#f0f921"
             ]
            ],
            "type": "histogram2dcontour"
           }
          ],
          "mesh3d": [
           {
            "colorbar": {
             "outlinewidth": 0,
             "ticks": ""
            },
            "type": "mesh3d"
           }
          ],
          "parcoords": [
           {
            "line": {
             "colorbar": {
              "outlinewidth": 0,
              "ticks": ""
             }
            },
            "type": "parcoords"
           }
          ],
          "pie": [
           {
            "automargin": true,
            "type": "pie"
           }
          ],
          "scatter": [
           {
            "marker": {
             "colorbar": {
              "outlinewidth": 0,
              "ticks": ""
             }
            },
            "type": "scatter"
           }
          ],
          "scatter3d": [
           {
            "line": {
             "colorbar": {
              "outlinewidth": 0,
              "ticks": ""
             }
            },
            "marker": {
             "colorbar": {
              "outlinewidth": 0,
              "ticks": ""
             }
            },
            "type": "scatter3d"
           }
          ],
          "scattercarpet": [
           {
            "marker": {
             "colorbar": {
              "outlinewidth": 0,
              "ticks": ""
             }
            },
            "type": "scattercarpet"
           }
          ],
          "scattergeo": [
           {
            "marker": {
             "colorbar": {
              "outlinewidth": 0,
              "ticks": ""
             }
            },
            "type": "scattergeo"
           }
          ],
          "scattergl": [
           {
            "marker": {
             "colorbar": {
              "outlinewidth": 0,
              "ticks": ""
             }
            },
            "type": "scattergl"
           }
          ],
          "scattermapbox": [
           {
            "marker": {
             "colorbar": {
              "outlinewidth": 0,
              "ticks": ""
             }
            },
            "type": "scattermapbox"
           }
          ],
          "scatterpolar": [
           {
            "marker": {
             "colorbar": {
              "outlinewidth": 0,
              "ticks": ""
             }
            },
            "type": "scatterpolar"
           }
          ],
          "scatterpolargl": [
           {
            "marker": {
             "colorbar": {
              "outlinewidth": 0,
              "ticks": ""
             }
            },
            "type": "scatterpolargl"
           }
          ],
          "scatterternary": [
           {
            "marker": {
             "colorbar": {
              "outlinewidth": 0,
              "ticks": ""
             }
            },
            "type": "scatterternary"
           }
          ],
          "surface": [
           {
            "colorbar": {
             "outlinewidth": 0,
             "ticks": ""
            },
            "colorscale": [
             [
              0,
              "#0d0887"
             ],
             [
              0.1111111111111111,
              "#46039f"
             ],
             [
              0.2222222222222222,
              "#7201a8"
             ],
             [
              0.3333333333333333,
              "#9c179e"
             ],
             [
              0.4444444444444444,
              "#bd3786"
             ],
             [
              0.5555555555555556,
              "#d8576b"
             ],
             [
              0.6666666666666666,
              "#ed7953"
             ],
             [
              0.7777777777777778,
              "#fb9f3a"
             ],
             [
              0.8888888888888888,
              "#fdca26"
             ],
             [
              1,
              "#f0f921"
             ]
            ],
            "type": "surface"
           }
          ],
          "table": [
           {
            "cells": {
             "fill": {
              "color": "#EBF0F8"
             },
             "line": {
              "color": "white"
             }
            },
            "header": {
             "fill": {
              "color": "#C8D4E3"
             },
             "line": {
              "color": "white"
             }
            },
            "type": "table"
           }
          ]
         },
         "layout": {
          "annotationdefaults": {
           "arrowcolor": "#2a3f5f",
           "arrowhead": 0,
           "arrowwidth": 1
          },
          "coloraxis": {
           "colorbar": {
            "outlinewidth": 0,
            "ticks": ""
           }
          },
          "colorscale": {
           "diverging": [
            [
             0,
             "#8e0152"
            ],
            [
             0.1,
             "#c51b7d"
            ],
            [
             0.2,
             "#de77ae"
            ],
            [
             0.3,
             "#f1b6da"
            ],
            [
             0.4,
             "#fde0ef"
            ],
            [
             0.5,
             "#f7f7f7"
            ],
            [
             0.6,
             "#e6f5d0"
            ],
            [
             0.7,
             "#b8e186"
            ],
            [
             0.8,
             "#7fbc41"
            ],
            [
             0.9,
             "#4d9221"
            ],
            [
             1,
             "#276419"
            ]
           ],
           "sequential": [
            [
             0,
             "#0d0887"
            ],
            [
             0.1111111111111111,
             "#46039f"
            ],
            [
             0.2222222222222222,
             "#7201a8"
            ],
            [
             0.3333333333333333,
             "#9c179e"
            ],
            [
             0.4444444444444444,
             "#bd3786"
            ],
            [
             0.5555555555555556,
             "#d8576b"
            ],
            [
             0.6666666666666666,
             "#ed7953"
            ],
            [
             0.7777777777777778,
             "#fb9f3a"
            ],
            [
             0.8888888888888888,
             "#fdca26"
            ],
            [
             1,
             "#f0f921"
            ]
           ],
           "sequentialminus": [
            [
             0,
             "#0d0887"
            ],
            [
             0.1111111111111111,
             "#46039f"
            ],
            [
             0.2222222222222222,
             "#7201a8"
            ],
            [
             0.3333333333333333,
             "#9c179e"
            ],
            [
             0.4444444444444444,
             "#bd3786"
            ],
            [
             0.5555555555555556,
             "#d8576b"
            ],
            [
             0.6666666666666666,
             "#ed7953"
            ],
            [
             0.7777777777777778,
             "#fb9f3a"
            ],
            [
             0.8888888888888888,
             "#fdca26"
            ],
            [
             1,
             "#f0f921"
            ]
           ]
          },
          "colorway": [
           "#636efa",
           "#EF553B",
           "#00cc96",
           "#ab63fa",
           "#FFA15A",
           "#19d3f3",
           "#FF6692",
           "#B6E880",
           "#FF97FF",
           "#FECB52"
          ],
          "font": {
           "color": "#2a3f5f"
          },
          "geo": {
           "bgcolor": "white",
           "lakecolor": "white",
           "landcolor": "#E5ECF6",
           "showlakes": true,
           "showland": true,
           "subunitcolor": "white"
          },
          "hoverlabel": {
           "align": "left"
          },
          "hovermode": "closest",
          "mapbox": {
           "style": "light"
          },
          "paper_bgcolor": "white",
          "plot_bgcolor": "#E5ECF6",
          "polar": {
           "angularaxis": {
            "gridcolor": "white",
            "linecolor": "white",
            "ticks": ""
           },
           "bgcolor": "#E5ECF6",
           "radialaxis": {
            "gridcolor": "white",
            "linecolor": "white",
            "ticks": ""
           }
          },
          "scene": {
           "xaxis": {
            "backgroundcolor": "#E5ECF6",
            "gridcolor": "white",
            "gridwidth": 2,
            "linecolor": "white",
            "showbackground": true,
            "ticks": "",
            "zerolinecolor": "white"
           },
           "yaxis": {
            "backgroundcolor": "#E5ECF6",
            "gridcolor": "white",
            "gridwidth": 2,
            "linecolor": "white",
            "showbackground": true,
            "ticks": "",
            "zerolinecolor": "white"
           },
           "zaxis": {
            "backgroundcolor": "#E5ECF6",
            "gridcolor": "white",
            "gridwidth": 2,
            "linecolor": "white",
            "showbackground": true,
            "ticks": "",
            "zerolinecolor": "white"
           }
          },
          "shapedefaults": {
           "line": {
            "color": "#2a3f5f"
           }
          },
          "ternary": {
           "aaxis": {
            "gridcolor": "white",
            "linecolor": "white",
            "ticks": ""
           },
           "baxis": {
            "gridcolor": "white",
            "linecolor": "white",
            "ticks": ""
           },
           "bgcolor": "#E5ECF6",
           "caxis": {
            "gridcolor": "white",
            "linecolor": "white",
            "ticks": ""
           }
          },
          "title": {
           "x": 0.05
          },
          "xaxis": {
           "automargin": true,
           "gridcolor": "white",
           "linecolor": "white",
           "ticks": "",
           "title": {
            "standoff": 15
           },
           "zerolinecolor": "white",
           "zerolinewidth": 2
          },
          "yaxis": {
           "automargin": true,
           "gridcolor": "white",
           "linecolor": "white",
           "ticks": "",
           "title": {
            "standoff": 15
           },
           "zerolinecolor": "white",
           "zerolinewidth": 2
          }
         }
        },
        "title": {
         "text": "Distribution des classes à prédire"
        },
        "xaxis": {
         "anchor": "y",
         "domain": [
          0,
          1
         ],
         "title": {
          "text": "x"
         }
        },
        "yaxis": {
         "anchor": "x",
         "domain": [
          0,
          1
         ],
         "title": {
          "text": "36"
         }
        }
       }
      }
     },
     "metadata": {}
    }
   ],
   "source": [
    "def plot(df):\n",
    "    index =  df.iloc[:,36].value_counts().index.to_list()\n",
    "    count = df.iloc[:,36].value_counts().to_list()\n",
    "    count.append(0)\n",
    "    index.append(0)\n",
    "    count_df = df.iloc[:,36].value_counts().to_frame()\n",
    "    count_df.loc[6]= 0\n",
    "    count_df.sort_index(inplace = True)\n",
    "    bins_label = [\"1. red soil\",\"2. cotton crop\",\"3. grey soil\",\"4. damp grey soil\",\"5. soil with vegetation stubble\",\"mixture class (all types present)\",\"7. very damp grey soil\"]\n",
    "    count_df[\"labels\"] = bins_label\n",
    "\n",
    "    fig = px.bar(count_df, x=bins_label, y=36,title=\"Distribution des classes à prédire\")\n",
    "    fig.show()\n",
    "\n",
    "plot(df_train)"
   ]
  },
  {
   "cell_type": "code",
   "execution_count": 159,
   "metadata": {},
   "outputs": [],
   "source": [
    "def line_plot(x,y,title):\n",
    "    fig = px.line( x=x, y=y, title=title)\n",
    "    fig.show()"
   ]
  },
  {
   "source": [
    "# III. Models"
   ],
   "cell_type": "markdown",
   "metadata": {}
  },
  {
   "source": [
    "On définit le la matrice test x pour les valeurs et y pour les labels"
   ],
   "cell_type": "markdown",
   "metadata": {}
  },
  {
   "cell_type": "code",
   "execution_count": 8,
   "metadata": {},
   "outputs": [],
   "source": [
    "df_train[df_train.iloc[:,36] == 7] = 6 \n",
    "df_test[df_test.iloc[:,36] == 7] = 6 \n",
    "\n",
    "\n",
    "df_train_central[df_train_central.iloc[:,4] == 7] = 6 \n",
    "df_test_central[df_test_central.iloc[:,4] == 7] = 6 "
   ]
  },
  {
   "cell_type": "code",
   "execution_count": 9,
   "metadata": {},
   "outputs": [],
   "source": [
    "x_train = df_train.iloc[:,:36]\n",
    "y_train = df_train.iloc[:,36]\n",
    "\n",
    "x_test = df_test.iloc[:,:36]\n",
    "y_test = df_test.iloc[:,36]"
   ]
  },
  {
   "cell_type": "code",
   "execution_count": 10,
   "metadata": {},
   "outputs": [],
   "source": [
    "x_train_central = df_train_central.iloc[:,:4]\n",
    "y_train_central = df_train_central.iloc[:,4]\n",
    "\n",
    "x_test_central = df_test_central.iloc[:,:4]\n",
    "y_test_central = df_test_central.iloc[:,4]"
   ]
  },
  {
   "source": [
    "Nous allons tester plusieurs modèles pour répondre à ce problème, et compararer les résultats entre eux."
   ],
   "cell_type": "markdown",
   "metadata": {}
  },
  {
   "cell_type": "code",
   "execution_count": 20,
   "metadata": {},
   "outputs": [],
   "source": [
    "f1_score_weighted_avg = []\n",
    "algo_used = []"
   ]
  },
  {
   "source": [
    "## 1. KNN"
   ],
   "cell_type": "markdown",
   "metadata": {}
  },
  {
   "cell_type": "code",
   "execution_count": 188,
   "metadata": {},
   "outputs": [],
   "source": [
    "list_scores = []\n",
    "for i in range(1,50,1):\n",
    "    knn = KNeighborsClassifier(n_neighbors=i, metric='euclidean')\n",
    "    knn.fit(x_train,y_train)\n",
    "    y_pred = knn.predict(x_test)\n",
    "\n",
    "    score = f1_score(y_test,y_pred, average='weighted')\n",
    "    list_scores.append(score)"
   ]
  },
  {
   "cell_type": "code",
   "execution_count": 170,
   "metadata": {},
   "outputs": [
    {
     "output_type": "display_data",
     "data": {
      "application/vnd.plotly.v1+json": {
       "config": {
        "plotlyServerURL": "https://plot.ly"
       },
       "data": [
        {
         "hovertemplate": "x=%{x}<br>y=%{y}<extra></extra>",
         "legendgroup": "",
         "line": {
          "color": "#636efa",
          "dash": "solid"
         },
         "mode": "lines",
         "name": "",
         "orientation": "v",
         "showlegend": false,
         "type": "scatter",
         "x": [
          1,
          2,
          3,
          4,
          5,
          6,
          7,
          8,
          9,
          10,
          11,
          12,
          13,
          14,
          15,
          16,
          17,
          18,
          19,
          20,
          21,
          22,
          23,
          24,
          25,
          26,
          27,
          28,
          29,
          30,
          31,
          32,
          33,
          34,
          35,
          36,
          37,
          38,
          39,
          40,
          41,
          42,
          43,
          44,
          45,
          46,
          47,
          48,
          49
         ],
         "xaxis": "x",
         "y": [
          0.9448598825299717,
          0.9472413156725918,
          0.9589992473568093,
          0.9575832855704298,
          0.961950017403857,
          0.9586321556517844,
          0.9589097675079817,
          0.9541296679313364,
          0.9558205728772695,
          0.9539556759123328,
          0.9552192224803315,
          0.9549766328139082,
          0.9576748047581626,
          0.9555051055007036,
          0.9557073669760022,
          0.9549976456347133,
          0.9526213594011154,
          0.9509310585996865,
          0.9500219919477729,
          0.9494418374970756,
          0.9469894852529914,
          0.9473002804719229,
          0.9484400654749024,
          0.9467922127479519,
          0.9483958781085985,
          0.9446702140953169,
          0.9446543732131443,
          0.9441194243002342,
          0.9448021602317138,
          0.9436270593788642,
          0.9427595949792842,
          0.9411070708482664,
          0.9392039751692347,
          0.9391478408940505,
          0.9377105868408766,
          0.9364836465775332,
          0.9371324473746853,
          0.936111600073255,
          0.9361097066839307,
          0.9360443960827897,
          0.9360443960827897,
          0.9354937113213453,
          0.9339328360322606,
          0.9328440299182069,
          0.9329103770370463,
          0.9327816905441948,
          0.9333202768631739,
          0.9327188936304764,
          0.9328263858460286
         ],
         "yaxis": "y"
        }
       ],
       "layout": {
        "legend": {
         "tracegroupgap": 0
        },
        "template": {
         "data": {
          "bar": [
           {
            "error_x": {
             "color": "#2a3f5f"
            },
            "error_y": {
             "color": "#2a3f5f"
            },
            "marker": {
             "line": {
              "color": "#E5ECF6",
              "width": 0.5
             }
            },
            "type": "bar"
           }
          ],
          "barpolar": [
           {
            "marker": {
             "line": {
              "color": "#E5ECF6",
              "width": 0.5
             }
            },
            "type": "barpolar"
           }
          ],
          "carpet": [
           {
            "aaxis": {
             "endlinecolor": "#2a3f5f",
             "gridcolor": "white",
             "linecolor": "white",
             "minorgridcolor": "white",
             "startlinecolor": "#2a3f5f"
            },
            "baxis": {
             "endlinecolor": "#2a3f5f",
             "gridcolor": "white",
             "linecolor": "white",
             "minorgridcolor": "white",
             "startlinecolor": "#2a3f5f"
            },
            "type": "carpet"
           }
          ],
          "choropleth": [
           {
            "colorbar": {
             "outlinewidth": 0,
             "ticks": ""
            },
            "type": "choropleth"
           }
          ],
          "contour": [
           {
            "colorbar": {
             "outlinewidth": 0,
             "ticks": ""
            },
            "colorscale": [
             [
              0,
              "#0d0887"
             ],
             [
              0.1111111111111111,
              "#46039f"
             ],
             [
              0.2222222222222222,
              "#7201a8"
             ],
             [
              0.3333333333333333,
              "#9c179e"
             ],
             [
              0.4444444444444444,
              "#bd3786"
             ],
             [
              0.5555555555555556,
              "#d8576b"
             ],
             [
              0.6666666666666666,
              "#ed7953"
             ],
             [
              0.7777777777777778,
              "#fb9f3a"
             ],
             [
              0.8888888888888888,
              "#fdca26"
             ],
             [
              1,
              "#f0f921"
             ]
            ],
            "type": "contour"
           }
          ],
          "contourcarpet": [
           {
            "colorbar": {
             "outlinewidth": 0,
             "ticks": ""
            },
            "type": "contourcarpet"
           }
          ],
          "heatmap": [
           {
            "colorbar": {
             "outlinewidth": 0,
             "ticks": ""
            },
            "colorscale": [
             [
              0,
              "#0d0887"
             ],
             [
              0.1111111111111111,
              "#46039f"
             ],
             [
              0.2222222222222222,
              "#7201a8"
             ],
             [
              0.3333333333333333,
              "#9c179e"
             ],
             [
              0.4444444444444444,
              "#bd3786"
             ],
             [
              0.5555555555555556,
              "#d8576b"
             ],
             [
              0.6666666666666666,
              "#ed7953"
             ],
             [
              0.7777777777777778,
              "#fb9f3a"
             ],
             [
              0.8888888888888888,
              "#fdca26"
             ],
             [
              1,
              "#f0f921"
             ]
            ],
            "type": "heatmap"
           }
          ],
          "heatmapgl": [
           {
            "colorbar": {
             "outlinewidth": 0,
             "ticks": ""
            },
            "colorscale": [
             [
              0,
              "#0d0887"
             ],
             [
              0.1111111111111111,
              "#46039f"
             ],
             [
              0.2222222222222222,
              "#7201a8"
             ],
             [
              0.3333333333333333,
              "#9c179e"
             ],
             [
              0.4444444444444444,
              "#bd3786"
             ],
             [
              0.5555555555555556,
              "#d8576b"
             ],
             [
              0.6666666666666666,
              "#ed7953"
             ],
             [
              0.7777777777777778,
              "#fb9f3a"
             ],
             [
              0.8888888888888888,
              "#fdca26"
             ],
             [
              1,
              "#f0f921"
             ]
            ],
            "type": "heatmapgl"
           }
          ],
          "histogram": [
           {
            "marker": {
             "colorbar": {
              "outlinewidth": 0,
              "ticks": ""
             }
            },
            "type": "histogram"
           }
          ],
          "histogram2d": [
           {
            "colorbar": {
             "outlinewidth": 0,
             "ticks": ""
            },
            "colorscale": [
             [
              0,
              "#0d0887"
             ],
             [
              0.1111111111111111,
              "#46039f"
             ],
             [
              0.2222222222222222,
              "#7201a8"
             ],
             [
              0.3333333333333333,
              "#9c179e"
             ],
             [
              0.4444444444444444,
              "#bd3786"
             ],
             [
              0.5555555555555556,
              "#d8576b"
             ],
             [
              0.6666666666666666,
              "#ed7953"
             ],
             [
              0.7777777777777778,
              "#fb9f3a"
             ],
             [
              0.8888888888888888,
              "#fdca26"
             ],
             [
              1,
              "#f0f921"
             ]
            ],
            "type": "histogram2d"
           }
          ],
          "histogram2dcontour": [
           {
            "colorbar": {
             "outlinewidth": 0,
             "ticks": ""
            },
            "colorscale": [
             [
              0,
              "#0d0887"
             ],
             [
              0.1111111111111111,
              "#46039f"
             ],
             [
              0.2222222222222222,
              "#7201a8"
             ],
             [
              0.3333333333333333,
              "#9c179e"
             ],
             [
              0.4444444444444444,
              "#bd3786"
             ],
             [
              0.5555555555555556,
              "#d8576b"
             ],
             [
              0.6666666666666666,
              "#ed7953"
             ],
             [
              0.7777777777777778,
              "#fb9f3a"
             ],
             [
              0.8888888888888888,
              "#fdca26"
             ],
             [
              1,
              "#f0f921"
             ]
            ],
            "type": "histogram2dcontour"
           }
          ],
          "mesh3d": [
           {
            "colorbar": {
             "outlinewidth": 0,
             "ticks": ""
            },
            "type": "mesh3d"
           }
          ],
          "parcoords": [
           {
            "line": {
             "colorbar": {
              "outlinewidth": 0,
              "ticks": ""
             }
            },
            "type": "parcoords"
           }
          ],
          "pie": [
           {
            "automargin": true,
            "type": "pie"
           }
          ],
          "scatter": [
           {
            "marker": {
             "colorbar": {
              "outlinewidth": 0,
              "ticks": ""
             }
            },
            "type": "scatter"
           }
          ],
          "scatter3d": [
           {
            "line": {
             "colorbar": {
              "outlinewidth": 0,
              "ticks": ""
             }
            },
            "marker": {
             "colorbar": {
              "outlinewidth": 0,
              "ticks": ""
             }
            },
            "type": "scatter3d"
           }
          ],
          "scattercarpet": [
           {
            "marker": {
             "colorbar": {
              "outlinewidth": 0,
              "ticks": ""
             }
            },
            "type": "scattercarpet"
           }
          ],
          "scattergeo": [
           {
            "marker": {
             "colorbar": {
              "outlinewidth": 0,
              "ticks": ""
             }
            },
            "type": "scattergeo"
           }
          ],
          "scattergl": [
           {
            "marker": {
             "colorbar": {
              "outlinewidth": 0,
              "ticks": ""
             }
            },
            "type": "scattergl"
           }
          ],
          "scattermapbox": [
           {
            "marker": {
             "colorbar": {
              "outlinewidth": 0,
              "ticks": ""
             }
            },
            "type": "scattermapbox"
           }
          ],
          "scatterpolar": [
           {
            "marker": {
             "colorbar": {
              "outlinewidth": 0,
              "ticks": ""
             }
            },
            "type": "scatterpolar"
           }
          ],
          "scatterpolargl": [
           {
            "marker": {
             "colorbar": {
              "outlinewidth": 0,
              "ticks": ""
             }
            },
            "type": "scatterpolargl"
           }
          ],
          "scatterternary": [
           {
            "marker": {
             "colorbar": {
              "outlinewidth": 0,
              "ticks": ""
             }
            },
            "type": "scatterternary"
           }
          ],
          "surface": [
           {
            "colorbar": {
             "outlinewidth": 0,
             "ticks": ""
            },
            "colorscale": [
             [
              0,
              "#0d0887"
             ],
             [
              0.1111111111111111,
              "#46039f"
             ],
             [
              0.2222222222222222,
              "#7201a8"
             ],
             [
              0.3333333333333333,
              "#9c179e"
             ],
             [
              0.4444444444444444,
              "#bd3786"
             ],
             [
              0.5555555555555556,
              "#d8576b"
             ],
             [
              0.6666666666666666,
              "#ed7953"
             ],
             [
              0.7777777777777778,
              "#fb9f3a"
             ],
             [
              0.8888888888888888,
              "#fdca26"
             ],
             [
              1,
              "#f0f921"
             ]
            ],
            "type": "surface"
           }
          ],
          "table": [
           {
            "cells": {
             "fill": {
              "color": "#EBF0F8"
             },
             "line": {
              "color": "white"
             }
            },
            "header": {
             "fill": {
              "color": "#C8D4E3"
             },
             "line": {
              "color": "white"
             }
            },
            "type": "table"
           }
          ]
         },
         "layout": {
          "annotationdefaults": {
           "arrowcolor": "#2a3f5f",
           "arrowhead": 0,
           "arrowwidth": 1
          },
          "coloraxis": {
           "colorbar": {
            "outlinewidth": 0,
            "ticks": ""
           }
          },
          "colorscale": {
           "diverging": [
            [
             0,
             "#8e0152"
            ],
            [
             0.1,
             "#c51b7d"
            ],
            [
             0.2,
             "#de77ae"
            ],
            [
             0.3,
             "#f1b6da"
            ],
            [
             0.4,
             "#fde0ef"
            ],
            [
             0.5,
             "#f7f7f7"
            ],
            [
             0.6,
             "#e6f5d0"
            ],
            [
             0.7,
             "#b8e186"
            ],
            [
             0.8,
             "#7fbc41"
            ],
            [
             0.9,
             "#4d9221"
            ],
            [
             1,
             "#276419"
            ]
           ],
           "sequential": [
            [
             0,
             "#0d0887"
            ],
            [
             0.1111111111111111,
             "#46039f"
            ],
            [
             0.2222222222222222,
             "#7201a8"
            ],
            [
             0.3333333333333333,
             "#9c179e"
            ],
            [
             0.4444444444444444,
             "#bd3786"
            ],
            [
             0.5555555555555556,
             "#d8576b"
            ],
            [
             0.6666666666666666,
             "#ed7953"
            ],
            [
             0.7777777777777778,
             "#fb9f3a"
            ],
            [
             0.8888888888888888,
             "#fdca26"
            ],
            [
             1,
             "#f0f921"
            ]
           ],
           "sequentialminus": [
            [
             0,
             "#0d0887"
            ],
            [
             0.1111111111111111,
             "#46039f"
            ],
            [
             0.2222222222222222,
             "#7201a8"
            ],
            [
             0.3333333333333333,
             "#9c179e"
            ],
            [
             0.4444444444444444,
             "#bd3786"
            ],
            [
             0.5555555555555556,
             "#d8576b"
            ],
            [
             0.6666666666666666,
             "#ed7953"
            ],
            [
             0.7777777777777778,
             "#fb9f3a"
            ],
            [
             0.8888888888888888,
             "#fdca26"
            ],
            [
             1,
             "#f0f921"
            ]
           ]
          },
          "colorway": [
           "#636efa",
           "#EF553B",
           "#00cc96",
           "#ab63fa",
           "#FFA15A",
           "#19d3f3",
           "#FF6692",
           "#B6E880",
           "#FF97FF",
           "#FECB52"
          ],
          "font": {
           "color": "#2a3f5f"
          },
          "geo": {
           "bgcolor": "white",
           "lakecolor": "white",
           "landcolor": "#E5ECF6",
           "showlakes": true,
           "showland": true,
           "subunitcolor": "white"
          },
          "hoverlabel": {
           "align": "left"
          },
          "hovermode": "closest",
          "mapbox": {
           "style": "light"
          },
          "paper_bgcolor": "white",
          "plot_bgcolor": "#E5ECF6",
          "polar": {
           "angularaxis": {
            "gridcolor": "white",
            "linecolor": "white",
            "ticks": ""
           },
           "bgcolor": "#E5ECF6",
           "radialaxis": {
            "gridcolor": "white",
            "linecolor": "white",
            "ticks": ""
           }
          },
          "scene": {
           "xaxis": {
            "backgroundcolor": "#E5ECF6",
            "gridcolor": "white",
            "gridwidth": 2,
            "linecolor": "white",
            "showbackground": true,
            "ticks": "",
            "zerolinecolor": "white"
           },
           "yaxis": {
            "backgroundcolor": "#E5ECF6",
            "gridcolor": "white",
            "gridwidth": 2,
            "linecolor": "white",
            "showbackground": true,
            "ticks": "",
            "zerolinecolor": "white"
           },
           "zaxis": {
            "backgroundcolor": "#E5ECF6",
            "gridcolor": "white",
            "gridwidth": 2,
            "linecolor": "white",
            "showbackground": true,
            "ticks": "",
            "zerolinecolor": "white"
           }
          },
          "shapedefaults": {
           "line": {
            "color": "#2a3f5f"
           }
          },
          "ternary": {
           "aaxis": {
            "gridcolor": "white",
            "linecolor": "white",
            "ticks": ""
           },
           "baxis": {
            "gridcolor": "white",
            "linecolor": "white",
            "ticks": ""
           },
           "bgcolor": "#E5ECF6",
           "caxis": {
            "gridcolor": "white",
            "linecolor": "white",
            "ticks": ""
           }
          },
          "title": {
           "x": 0.05
          },
          "xaxis": {
           "automargin": true,
           "gridcolor": "white",
           "linecolor": "white",
           "ticks": "",
           "title": {
            "standoff": 15
           },
           "zerolinecolor": "white",
           "zerolinewidth": 2
          },
          "yaxis": {
           "automargin": true,
           "gridcolor": "white",
           "linecolor": "white",
           "ticks": "",
           "title": {
            "standoff": 15
           },
           "zerolinecolor": "white",
           "zerolinewidth": 2
          }
         }
        },
        "title": {
         "text": "Numbers of neighbors"
        },
        "xaxis": {
         "anchor": "y",
         "domain": [
          0,
          1
         ],
         "title": {
          "text": "x"
         }
        },
        "yaxis": {
         "anchor": "x",
         "domain": [
          0,
          1
         ],
         "title": {
          "text": "y"
         }
        }
       }
      }
     },
     "metadata": {}
    }
   ],
   "source": [
    "line_plot(range(1,50),list_scores,\"Numbers of neighbors\")"
   ]
  },
  {
   "cell_type": "code",
   "execution_count": 21,
   "metadata": {},
   "outputs": [
    {
     "output_type": "execute_result",
     "data": {
      "text/plain": [
       "[0.959]"
      ]
     },
     "metadata": {},
     "execution_count": 21
    }
   ],
   "source": [
    "algo_used.append(\"KNN\")\n",
    "\n",
    "knn = KNeighborsClassifier(n_neighbors=7, metric='euclidean')\n",
    "knn.fit(x_train,y_train)\n",
    "y_pred = knn.predict(x_test)\n",
    "score = f1_score(y_test,y_pred, average='weighted')\n",
    "f1_score_weighted_avg.append(round(score,3))\n",
    "f1_score_weighted_avg"
   ]
  },
  {
   "source": [
    "## 2. Random Forest"
   ],
   "cell_type": "markdown",
   "metadata": {}
  },
  {
   "source": [
    "On va maintenant utiliser le random Forest pour essayer d'augmenter la classification.\n",
    "En faisant varier le nombre d'arbres, ainsi que la profondeur de chaque arbre et le nombre de split minimum on va essayer de trouver le random forest qui nous donne la meilleur accuracy"
   ],
   "cell_type": "markdown",
   "metadata": {}
  },
  {
   "cell_type": "code",
   "execution_count": 38,
   "metadata": {},
   "outputs": [],
   "source": [
    "#test 1 : n_estimators(1,200) opt = 50\n",
    "list_scores = []\n",
    "\n",
    "n_estimators = 200\n",
    "for i in range(1,n_estimators):\n",
    "    clf = RandomForestClassifier(n_estimators = i)\n",
    "    clf.fit(x_train, y_train)\n",
    "    y_pred = clf.predict(x_test)\n",
    "\n",
    "    score = f1_score(y_test,y_pred, average='weighted')\n",
    "    list_scores.append(score)"
   ]
  },
  {
   "cell_type": "code",
   "execution_count": 43,
   "metadata": {},
   "outputs": [
    {
     "output_type": "display_data",
     "data": {
      "application/vnd.plotly.v1+json": {
       "config": {
        "plotlyServerURL": "https://plot.ly"
       },
       "data": [
        {
         "hovertemplate": "x=%{x}<br>y=%{y}<extra></extra>",
         "legendgroup": "",
         "line": {
          "color": "#636efa",
          "dash": "solid"
         },
         "mode": "lines",
         "name": "",
         "orientation": "v",
         "showlegend": false,
         "type": "scatter",
         "x": [
          1,
          2,
          3,
          4,
          5,
          6,
          7,
          8,
          9,
          10,
          11,
          12,
          13,
          14,
          15,
          16,
          17,
          18,
          19,
          20,
          21,
          22,
          23,
          24,
          25,
          26,
          27,
          28,
          29,
          30,
          31,
          32,
          33,
          34,
          35,
          36,
          37,
          38,
          39,
          40,
          41,
          42,
          43,
          44,
          45,
          46,
          47,
          48,
          49,
          50,
          51,
          52,
          53,
          54,
          55,
          56,
          57,
          58,
          59,
          60,
          61,
          62,
          63,
          64,
          65,
          66,
          67,
          68,
          69,
          70,
          71,
          72,
          73,
          74,
          75,
          76,
          77,
          78,
          79,
          80,
          81,
          82,
          83,
          84,
          85,
          86,
          87,
          88,
          89,
          90,
          91,
          92,
          93,
          94,
          95,
          96,
          97,
          98,
          99,
          100,
          101,
          102,
          103,
          104,
          105,
          106,
          107,
          108,
          109,
          110,
          111,
          112,
          113,
          114,
          115,
          116,
          117,
          118,
          119,
          120,
          121,
          122,
          123,
          124,
          125,
          126,
          127,
          128,
          129,
          130,
          131,
          132,
          133,
          134,
          135,
          136,
          137,
          138,
          139,
          140,
          141,
          142,
          143,
          144,
          145,
          146,
          147,
          148,
          149,
          150,
          151,
          152,
          153,
          154,
          155,
          156,
          157,
          158,
          159,
          160,
          161,
          162,
          163,
          164,
          165,
          166,
          167,
          168,
          169,
          170,
          171,
          172,
          173,
          174,
          175,
          176,
          177,
          178,
          179,
          180,
          181,
          182,
          183,
          184,
          185,
          186,
          187,
          188,
          189,
          190,
          191,
          192,
          193,
          194,
          195,
          196,
          197,
          198,
          199
         ],
         "xaxis": "x",
         "y": [
          0.8295040160318594,
          0.8357683934849048,
          0.8627324593279202,
          0.8670900838513783,
          0.8758885242114621,
          0.871678886046084,
          0.8809228796000508,
          0.8964610745207964,
          0.8825669536907301,
          0.8877474290188859,
          0.8989243036256247,
          0.9022720036345172,
          0.898581300168233,
          0.8905719912795825,
          0.8988251835366826,
          0.8998453589304816,
          0.8948584650307378,
          0.8986876818202091,
          0.8963470077687571,
          0.9075882007399412,
          0.9000613773015553,
          0.897504772939554,
          0.9039815755108509,
          0.8997219521070413,
          0.9029321833422821,
          0.9030277071258715,
          0.9042025545554389,
          0.9069920985697886,
          0.898377593394521,
          0.9064956358469324,
          0.9036827646676779,
          0.8972762001332274,
          0.9066173946786382,
          0.9029713989881302,
          0.9034440294127447,
          0.9045000723867347,
          0.9098607419839844,
          0.9042560600976508,
          0.9021319889217876,
          0.905790822956651,
          0.9007907667200593,
          0.903439788702186,
          0.9083558231786932,
          0.9042678698087836,
          0.9070191161922088,
          0.9019534382847155,
          0.9018946391394516,
          0.9101798186702411,
          0.9079858638186331,
          0.9042479572574325,
          0.9057075239577896,
          0.9064728241896585,
          0.9037466470367581,
          0.908320124070196,
          0.9045879851341498,
          0.9077964398536469,
          0.9088580780121396,
          0.9083661486479657,
          0.9033327406436947,
          0.9119174862151765,
          0.9045586932744909,
          0.9097316690472275,
          0.9097348856680837,
          0.9034274563975536,
          0.9032899367154213,
          0.9045138961991845,
          0.9022142382725623,
          0.9055221889151324,
          0.9073752837679523,
          0.9102628345465278,
          0.9069016095095715,
          0.9083358294259024,
          0.9095477538084288,
          0.9077303125639026,
          0.903760966610842,
          0.904374433923226,
          0.9069212340229792,
          0.9093526048202321,
          0.9059407714096905,
          0.9083769344474669,
          0.9025911265128782,
          0.9046515854437384,
          0.9062128938878479,
          0.9121290373345996,
          0.9045835715550636,
          0.9089835138207003,
          0.9028308989081668,
          0.9104160339717395,
          0.9098264413847558,
          0.9082839350755214,
          0.908293402930348,
          0.9084800420962768,
          0.908781701277496,
          0.9121285687772388,
          0.9074312607587038,
          0.9028781917744024,
          0.9090015828627095,
          0.9093985219250089,
          0.908702485178401,
          0.9076489256916532,
          0.9041970179312648,
          0.9054643906439761,
          0.9090008020176169,
          0.907154314565649,
          0.9064897385149623,
          0.9076570767245076,
          0.9091506298642721,
          0.9051139352484244,
          0.9111318960444051,
          0.9097069251932135,
          0.9082923115444896,
          0.9071271961374086,
          0.9065512298280289,
          0.91135490697552,
          0.908057138121748,
          0.9078272562536082,
          0.9103939521551606,
          0.9063524173994214,
          0.9089203477232082,
          0.9062155688465228,
          0.9139363651697165,
          0.908664267934793,
          0.9054493197255509,
          0.906846080356355,
          0.905511198536201,
          0.9090504178254596,
          0.9092439187926639,
          0.9088521458590105,
          0.9069416147830706,
          0.9102572286538798,
          0.903812082968317,
          0.9092752152141302,
          0.9051617568833051,
          0.9080150082763169,
          0.909234726544757,
          0.9060341280733005,
          0.9076395582462284,
          0.9085194171021829,
          0.9110127042111976,
          0.9063903471586116,
          0.9060921906025569,
          0.9072517161312174,
          0.9097468508679303,
          0.908014667896971,
          0.9068284227826687,
          0.9084853362946604,
          0.9079048055223463,
          0.904633040023727,
          0.9077955315101371,
          0.9057578684032129,
          0.9105488776706256,
          0.9065446793630337,
          0.9064728385071872,
          0.9107592479946895,
          0.907593377394244,
          0.908300333183028,
          0.9130360056464354,
          0.9107505650060091,
          0.9054303354715306,
          0.910662662773192,
          0.9094279276768986,
          0.9106596295040696,
          0.9097465185284603,
          0.9101801173159427,
          0.906642485132361,
          0.9066560785750084,
          0.9047153089300571,
          0.9043834286652415,
          0.9047934905042135,
          0.9076622836153725,
          0.9086942119864966,
          0.9060217206527157,
          0.9062545572291649,
          0.9085071101804925,
          0.9091392969761509,
          0.9089837836640028,
          0.9078974817144512,
          0.9088276426650567,
          0.904238899788234,
          0.9115859109762311,
          0.908356426344275,
          0.907506577756514,
          0.9081170470507578,
          0.9098088136822181,
          0.9084661817650868,
          0.9108631870904706,
          0.906063884590239,
          0.9082994900395147,
          0.9078295715488036,
          0.9095753705018303,
          0.9092385623104889,
          0.9084553488910447,
          0.9051670226248426,
          0.9109185383425318,
          0.9104014004395827,
          0.9093855369109577,
          0.9076734457975442,
          0.9058167383041229,
          0.907906345810878
         ],
         "yaxis": "y"
        }
       ],
       "layout": {
        "legend": {
         "tracegroupgap": 0
        },
        "template": {
         "data": {
          "bar": [
           {
            "error_x": {
             "color": "#2a3f5f"
            },
            "error_y": {
             "color": "#2a3f5f"
            },
            "marker": {
             "line": {
              "color": "#E5ECF6",
              "width": 0.5
             }
            },
            "type": "bar"
           }
          ],
          "barpolar": [
           {
            "marker": {
             "line": {
              "color": "#E5ECF6",
              "width": 0.5
             }
            },
            "type": "barpolar"
           }
          ],
          "carpet": [
           {
            "aaxis": {
             "endlinecolor": "#2a3f5f",
             "gridcolor": "white",
             "linecolor": "white",
             "minorgridcolor": "white",
             "startlinecolor": "#2a3f5f"
            },
            "baxis": {
             "endlinecolor": "#2a3f5f",
             "gridcolor": "white",
             "linecolor": "white",
             "minorgridcolor": "white",
             "startlinecolor": "#2a3f5f"
            },
            "type": "carpet"
           }
          ],
          "choropleth": [
           {
            "colorbar": {
             "outlinewidth": 0,
             "ticks": ""
            },
            "type": "choropleth"
           }
          ],
          "contour": [
           {
            "colorbar": {
             "outlinewidth": 0,
             "ticks": ""
            },
            "colorscale": [
             [
              0,
              "#0d0887"
             ],
             [
              0.1111111111111111,
              "#46039f"
             ],
             [
              0.2222222222222222,
              "#7201a8"
             ],
             [
              0.3333333333333333,
              "#9c179e"
             ],
             [
              0.4444444444444444,
              "#bd3786"
             ],
             [
              0.5555555555555556,
              "#d8576b"
             ],
             [
              0.6666666666666666,
              "#ed7953"
             ],
             [
              0.7777777777777778,
              "#fb9f3a"
             ],
             [
              0.8888888888888888,
              "#fdca26"
             ],
             [
              1,
              "#f0f921"
             ]
            ],
            "type": "contour"
           }
          ],
          "contourcarpet": [
           {
            "colorbar": {
             "outlinewidth": 0,
             "ticks": ""
            },
            "type": "contourcarpet"
           }
          ],
          "heatmap": [
           {
            "colorbar": {
             "outlinewidth": 0,
             "ticks": ""
            },
            "colorscale": [
             [
              0,
              "#0d0887"
             ],
             [
              0.1111111111111111,
              "#46039f"
             ],
             [
              0.2222222222222222,
              "#7201a8"
             ],
             [
              0.3333333333333333,
              "#9c179e"
             ],
             [
              0.4444444444444444,
              "#bd3786"
             ],
             [
              0.5555555555555556,
              "#d8576b"
             ],
             [
              0.6666666666666666,
              "#ed7953"
             ],
             [
              0.7777777777777778,
              "#fb9f3a"
             ],
             [
              0.8888888888888888,
              "#fdca26"
             ],
             [
              1,
              "#f0f921"
             ]
            ],
            "type": "heatmap"
           }
          ],
          "heatmapgl": [
           {
            "colorbar": {
             "outlinewidth": 0,
             "ticks": ""
            },
            "colorscale": [
             [
              0,
              "#0d0887"
             ],
             [
              0.1111111111111111,
              "#46039f"
             ],
             [
              0.2222222222222222,
              "#7201a8"
             ],
             [
              0.3333333333333333,
              "#9c179e"
             ],
             [
              0.4444444444444444,
              "#bd3786"
             ],
             [
              0.5555555555555556,
              "#d8576b"
             ],
             [
              0.6666666666666666,
              "#ed7953"
             ],
             [
              0.7777777777777778,
              "#fb9f3a"
             ],
             [
              0.8888888888888888,
              "#fdca26"
             ],
             [
              1,
              "#f0f921"
             ]
            ],
            "type": "heatmapgl"
           }
          ],
          "histogram": [
           {
            "marker": {
             "colorbar": {
              "outlinewidth": 0,
              "ticks": ""
             }
            },
            "type": "histogram"
           }
          ],
          "histogram2d": [
           {
            "colorbar": {
             "outlinewidth": 0,
             "ticks": ""
            },
            "colorscale": [
             [
              0,
              "#0d0887"
             ],
             [
              0.1111111111111111,
              "#46039f"
             ],
             [
              0.2222222222222222,
              "#7201a8"
             ],
             [
              0.3333333333333333,
              "#9c179e"
             ],
             [
              0.4444444444444444,
              "#bd3786"
             ],
             [
              0.5555555555555556,
              "#d8576b"
             ],
             [
              0.6666666666666666,
              "#ed7953"
             ],
             [
              0.7777777777777778,
              "#fb9f3a"
             ],
             [
              0.8888888888888888,
              "#fdca26"
             ],
             [
              1,
              "#f0f921"
             ]
            ],
            "type": "histogram2d"
           }
          ],
          "histogram2dcontour": [
           {
            "colorbar": {
             "outlinewidth": 0,
             "ticks": ""
            },
            "colorscale": [
             [
              0,
              "#0d0887"
             ],
             [
              0.1111111111111111,
              "#46039f"
             ],
             [
              0.2222222222222222,
              "#7201a8"
             ],
             [
              0.3333333333333333,
              "#9c179e"
             ],
             [
              0.4444444444444444,
              "#bd3786"
             ],
             [
              0.5555555555555556,
              "#d8576b"
             ],
             [
              0.6666666666666666,
              "#ed7953"
             ],
             [
              0.7777777777777778,
              "#fb9f3a"
             ],
             [
              0.8888888888888888,
              "#fdca26"
             ],
             [
              1,
              "#f0f921"
             ]
            ],
            "type": "histogram2dcontour"
           }
          ],
          "mesh3d": [
           {
            "colorbar": {
             "outlinewidth": 0,
             "ticks": ""
            },
            "type": "mesh3d"
           }
          ],
          "parcoords": [
           {
            "line": {
             "colorbar": {
              "outlinewidth": 0,
              "ticks": ""
             }
            },
            "type": "parcoords"
           }
          ],
          "pie": [
           {
            "automargin": true,
            "type": "pie"
           }
          ],
          "scatter": [
           {
            "marker": {
             "colorbar": {
              "outlinewidth": 0,
              "ticks": ""
             }
            },
            "type": "scatter"
           }
          ],
          "scatter3d": [
           {
            "line": {
             "colorbar": {
              "outlinewidth": 0,
              "ticks": ""
             }
            },
            "marker": {
             "colorbar": {
              "outlinewidth": 0,
              "ticks": ""
             }
            },
            "type": "scatter3d"
           }
          ],
          "scattercarpet": [
           {
            "marker": {
             "colorbar": {
              "outlinewidth": 0,
              "ticks": ""
             }
            },
            "type": "scattercarpet"
           }
          ],
          "scattergeo": [
           {
            "marker": {
             "colorbar": {
              "outlinewidth": 0,
              "ticks": ""
             }
            },
            "type": "scattergeo"
           }
          ],
          "scattergl": [
           {
            "marker": {
             "colorbar": {
              "outlinewidth": 0,
              "ticks": ""
             }
            },
            "type": "scattergl"
           }
          ],
          "scattermapbox": [
           {
            "marker": {
             "colorbar": {
              "outlinewidth": 0,
              "ticks": ""
             }
            },
            "type": "scattermapbox"
           }
          ],
          "scatterpolar": [
           {
            "marker": {
             "colorbar": {
              "outlinewidth": 0,
              "ticks": ""
             }
            },
            "type": "scatterpolar"
           }
          ],
          "scatterpolargl": [
           {
            "marker": {
             "colorbar": {
              "outlinewidth": 0,
              "ticks": ""
             }
            },
            "type": "scatterpolargl"
           }
          ],
          "scatterternary": [
           {
            "marker": {
             "colorbar": {
              "outlinewidth": 0,
              "ticks": ""
             }
            },
            "type": "scatterternary"
           }
          ],
          "surface": [
           {
            "colorbar": {
             "outlinewidth": 0,
             "ticks": ""
            },
            "colorscale": [
             [
              0,
              "#0d0887"
             ],
             [
              0.1111111111111111,
              "#46039f"
             ],
             [
              0.2222222222222222,
              "#7201a8"
             ],
             [
              0.3333333333333333,
              "#9c179e"
             ],
             [
              0.4444444444444444,
              "#bd3786"
             ],
             [
              0.5555555555555556,
              "#d8576b"
             ],
             [
              0.6666666666666666,
              "#ed7953"
             ],
             [
              0.7777777777777778,
              "#fb9f3a"
             ],
             [
              0.8888888888888888,
              "#fdca26"
             ],
             [
              1,
              "#f0f921"
             ]
            ],
            "type": "surface"
           }
          ],
          "table": [
           {
            "cells": {
             "fill": {
              "color": "#EBF0F8"
             },
             "line": {
              "color": "white"
             }
            },
            "header": {
             "fill": {
              "color": "#C8D4E3"
             },
             "line": {
              "color": "white"
             }
            },
            "type": "table"
           }
          ]
         },
         "layout": {
          "annotationdefaults": {
           "arrowcolor": "#2a3f5f",
           "arrowhead": 0,
           "arrowwidth": 1
          },
          "coloraxis": {
           "colorbar": {
            "outlinewidth": 0,
            "ticks": ""
           }
          },
          "colorscale": {
           "diverging": [
            [
             0,
             "#8e0152"
            ],
            [
             0.1,
             "#c51b7d"
            ],
            [
             0.2,
             "#de77ae"
            ],
            [
             0.3,
             "#f1b6da"
            ],
            [
             0.4,
             "#fde0ef"
            ],
            [
             0.5,
             "#f7f7f7"
            ],
            [
             0.6,
             "#e6f5d0"
            ],
            [
             0.7,
             "#b8e186"
            ],
            [
             0.8,
             "#7fbc41"
            ],
            [
             0.9,
             "#4d9221"
            ],
            [
             1,
             "#276419"
            ]
           ],
           "sequential": [
            [
             0,
             "#0d0887"
            ],
            [
             0.1111111111111111,
             "#46039f"
            ],
            [
             0.2222222222222222,
             "#7201a8"
            ],
            [
             0.3333333333333333,
             "#9c179e"
            ],
            [
             0.4444444444444444,
             "#bd3786"
            ],
            [
             0.5555555555555556,
             "#d8576b"
            ],
            [
             0.6666666666666666,
             "#ed7953"
            ],
            [
             0.7777777777777778,
             "#fb9f3a"
            ],
            [
             0.8888888888888888,
             "#fdca26"
            ],
            [
             1,
             "#f0f921"
            ]
           ],
           "sequentialminus": [
            [
             0,
             "#0d0887"
            ],
            [
             0.1111111111111111,
             "#46039f"
            ],
            [
             0.2222222222222222,
             "#7201a8"
            ],
            [
             0.3333333333333333,
             "#9c179e"
            ],
            [
             0.4444444444444444,
             "#bd3786"
            ],
            [
             0.5555555555555556,
             "#d8576b"
            ],
            [
             0.6666666666666666,
             "#ed7953"
            ],
            [
             0.7777777777777778,
             "#fb9f3a"
            ],
            [
             0.8888888888888888,
             "#fdca26"
            ],
            [
             1,
             "#f0f921"
            ]
           ]
          },
          "colorway": [
           "#636efa",
           "#EF553B",
           "#00cc96",
           "#ab63fa",
           "#FFA15A",
           "#19d3f3",
           "#FF6692",
           "#B6E880",
           "#FF97FF",
           "#FECB52"
          ],
          "font": {
           "color": "#2a3f5f"
          },
          "geo": {
           "bgcolor": "white",
           "lakecolor": "white",
           "landcolor": "#E5ECF6",
           "showlakes": true,
           "showland": true,
           "subunitcolor": "white"
          },
          "hoverlabel": {
           "align": "left"
          },
          "hovermode": "closest",
          "mapbox": {
           "style": "light"
          },
          "paper_bgcolor": "white",
          "plot_bgcolor": "#E5ECF6",
          "polar": {
           "angularaxis": {
            "gridcolor": "white",
            "linecolor": "white",
            "ticks": ""
           },
           "bgcolor": "#E5ECF6",
           "radialaxis": {
            "gridcolor": "white",
            "linecolor": "white",
            "ticks": ""
           }
          },
          "scene": {
           "xaxis": {
            "backgroundcolor": "#E5ECF6",
            "gridcolor": "white",
            "gridwidth": 2,
            "linecolor": "white",
            "showbackground": true,
            "ticks": "",
            "zerolinecolor": "white"
           },
           "yaxis": {
            "backgroundcolor": "#E5ECF6",
            "gridcolor": "white",
            "gridwidth": 2,
            "linecolor": "white",
            "showbackground": true,
            "ticks": "",
            "zerolinecolor": "white"
           },
           "zaxis": {
            "backgroundcolor": "#E5ECF6",
            "gridcolor": "white",
            "gridwidth": 2,
            "linecolor": "white",
            "showbackground": true,
            "ticks": "",
            "zerolinecolor": "white"
           }
          },
          "shapedefaults": {
           "line": {
            "color": "#2a3f5f"
           }
          },
          "ternary": {
           "aaxis": {
            "gridcolor": "white",
            "linecolor": "white",
            "ticks": ""
           },
           "baxis": {
            "gridcolor": "white",
            "linecolor": "white",
            "ticks": ""
           },
           "bgcolor": "#E5ECF6",
           "caxis": {
            "gridcolor": "white",
            "linecolor": "white",
            "ticks": ""
           }
          },
          "title": {
           "x": 0.05
          },
          "xaxis": {
           "automargin": true,
           "gridcolor": "white",
           "linecolor": "white",
           "ticks": "",
           "title": {
            "standoff": 15
           },
           "zerolinecolor": "white",
           "zerolinewidth": 2
          },
          "yaxis": {
           "automargin": true,
           "gridcolor": "white",
           "linecolor": "white",
           "ticks": "",
           "title": {
            "standoff": 15
           },
           "zerolinecolor": "white",
           "zerolinewidth": 2
          }
         }
        },
        "title": {
         "text": "Numbers of tree"
        },
        "xaxis": {
         "anchor": "y",
         "domain": [
          0,
          1
         ],
         "title": {
          "text": "x"
         }
        },
        "yaxis": {
         "anchor": "x",
         "domain": [
          0,
          1
         ],
         "title": {
          "text": "y"
         }
        }
       }
      }
     },
     "metadata": {}
    }
   ],
   "source": [
    "line_plot(range(1,200),list_scores,\"Numbers of tree\")"
   ]
  },
  {
   "cell_type": "code",
   "execution_count": 44,
   "metadata": {},
   "outputs": [],
   "source": [
    "#test 1 : max_depth(0,200) opt 30\n",
    "list_scores = []\n",
    "\n",
    "max_depth = 200\n",
    "for i in range(1,max_depth):\n",
    "    clf = RandomForestClassifier(n_estimators = 50,max_depth=i)\n",
    "    clf.fit(x_train, y_train)\n",
    "    y_pred = clf.predict(x_test)\n",
    "\n",
    "    score = f1_score(y_test,y_pred, average='weighted')\n",
    "    list_scores.append(score)"
   ]
  },
  {
   "cell_type": "code",
   "execution_count": 46,
   "metadata": {},
   "outputs": [
    {
     "output_type": "display_data",
     "data": {
      "application/vnd.plotly.v1+json": {
       "config": {
        "plotlyServerURL": "https://plot.ly"
       },
       "data": [
        {
         "hovertemplate": "x=%{x}<br>y=%{y}<extra></extra>",
         "legendgroup": "",
         "line": {
          "color": "#636efa",
          "dash": "solid"
         },
         "mode": "lines",
         "name": "",
         "orientation": "v",
         "showlegend": false,
         "type": "scatter",
         "x": [
          1,
          2,
          3,
          4,
          5,
          6,
          7,
          8,
          9,
          10,
          11,
          12,
          13,
          14,
          15,
          16,
          17,
          18,
          19,
          20,
          21,
          22,
          23,
          24,
          25,
          26,
          27,
          28,
          29,
          30,
          31,
          32,
          33,
          34,
          35,
          36,
          37,
          38,
          39,
          40,
          41,
          42,
          43,
          44,
          45,
          46,
          47,
          48,
          49,
          50,
          51,
          52,
          53,
          54,
          55,
          56,
          57,
          58,
          59,
          60,
          61,
          62,
          63,
          64,
          65,
          66,
          67,
          68,
          69,
          70,
          71,
          72,
          73,
          74,
          75,
          76,
          77,
          78,
          79,
          80,
          81,
          82,
          83,
          84,
          85,
          86,
          87,
          88,
          89,
          90,
          91,
          92,
          93,
          94,
          95,
          96,
          97,
          98,
          99,
          100,
          101,
          102,
          103,
          104,
          105,
          106,
          107,
          108,
          109,
          110,
          111,
          112,
          113,
          114,
          115,
          116,
          117,
          118,
          119,
          120,
          121,
          122,
          123,
          124,
          125,
          126,
          127,
          128,
          129,
          130,
          131,
          132,
          133,
          134,
          135,
          136,
          137,
          138,
          139,
          140,
          141,
          142,
          143,
          144,
          145,
          146,
          147,
          148,
          149,
          150,
          151,
          152,
          153,
          154,
          155,
          156,
          157,
          158,
          159,
          160,
          161,
          162,
          163,
          164,
          165,
          166,
          167,
          168,
          169,
          170,
          171,
          172,
          173,
          174,
          175,
          176,
          177,
          178,
          179,
          180,
          181,
          182,
          183,
          184,
          185,
          186,
          187,
          188,
          189,
          190,
          191,
          192,
          193,
          194,
          195,
          196,
          197,
          198,
          199
         ],
         "xaxis": "x",
         "y": [
          0.49063435031957703,
          0.4943600996139408,
          0.7424355196499877,
          0.7993995925589938,
          0.8473774215629767,
          0.8628888356630275,
          0.868255711817551,
          0.8876759601599956,
          0.8911129549124259,
          0.8950337420894637,
          0.9002006231231896,
          0.9033242639970376,
          0.9004379527000663,
          0.9033364446179851,
          0.9039997372931904,
          0.9042163980821855,
          0.9041467279362505,
          0.9039872820018517,
          0.9047509972090396,
          0.9052052357696567,
          0.9060728962736415,
          0.9027173898238124,
          0.9082524286639752,
          0.9052597645864461,
          0.9032710635734833,
          0.9078970583579293,
          0.9065444660962969,
          0.9012426535600352,
          0.9064397913370115,
          0.9052306129031615,
          0.9063395538277548,
          0.9084787960005412,
          0.901573846593748,
          0.900113550796781,
          0.9092945694538613,
          0.9074853248125946,
          0.9023698204248695,
          0.9047483012900095,
          0.907648545997429,
          0.9051948660621958,
          0.905049873476824,
          0.9062833294121649,
          0.9025143211206849,
          0.9068230446793772,
          0.9041051066830447,
          0.9050554691025834,
          0.9120158097116814,
          0.9060878674998811,
          0.9113992721554348,
          0.9009854394449927,
          0.9063037106175551,
          0.9036678656087801,
          0.9062782112663291,
          0.9061367837524776,
          0.9064782165127326,
          0.9030983997512579,
          0.9103378185648442,
          0.9066555536679456,
          0.9066391308243464,
          0.9027997461872944,
          0.9098747200657856,
          0.9077445853616942,
          0.9069660495417592,
          0.9087306686538692,
          0.911209600670994,
          0.9026191474613672,
          0.9037068858733053,
          0.9091098736580565,
          0.9077644976349515,
          0.9102935842569632,
          0.9045928768697831,
          0.9133027115123021,
          0.9089940474691929,
          0.906531291157914,
          0.9088314651545389,
          0.9069796458463671,
          0.9083437387207529,
          0.9044650590314794,
          0.9124971788742605,
          0.9066852404644694,
          0.9058981215367667,
          0.909768434218046,
          0.9086181903785391,
          0.9081115266044604,
          0.9097246005321284,
          0.9031237280962402,
          0.90422550761542,
          0.8987640494311455,
          0.9113482331758961,
          0.9134708994416075,
          0.9053770404834838,
          0.9026641384294655,
          0.907560216735299,
          0.9066465796723089,
          0.9009022245508418,
          0.9070228002417542,
          0.9064228569090492,
          0.907820996349923,
          0.9042031514266771,
          0.9062508918478585,
          0.9048068663749536,
          0.9034017223911289,
          0.9021994650865962,
          0.902009660395028,
          0.9016931432480229,
          0.9121647853482844,
          0.908910386248729,
          0.9036488562093786,
          0.9034168876865029,
          0.9073862659909371,
          0.9106237201966426,
          0.90822520326026,
          0.9081585777339393,
          0.9112313675538257,
          0.9102352933987412,
          0.9008465648571298,
          0.903502777456118,
          0.9056965236007586,
          0.9103539901997495,
          0.914393431752361,
          0.905961601751321,
          0.9102430590710479,
          0.9037815559525486,
          0.9112523667096906,
          0.9088861963557686,
          0.9036639296520311,
          0.9038426386258944,
          0.9044439283679564,
          0.9069522061297726,
          0.9095556310015586,
          0.9027953144439312,
          0.9056154403347638,
          0.9038900949879911,
          0.9129057058781088,
          0.9062061806255546,
          0.9059878151013588,
          0.9068548510587437,
          0.909553996301748,
          0.9074905573411081,
          0.905689913340522,
          0.9098897962222107,
          0.9033698145532735,
          0.9076289804703478,
          0.9058466101901034,
          0.9030144824640538,
          0.9101865622112443,
          0.9083806824402514,
          0.9055307137320906,
          0.9076110727847087,
          0.907990018753755,
          0.9056800745341367,
          0.9081758279990247,
          0.9045666845577539,
          0.9091819708800907,
          0.9078373341542488,
          0.9050141667693506,
          0.9037806784277576,
          0.9055638496366138,
          0.902029587140131,
          0.9053298719822966,
          0.9046498511268147,
          0.9067133094612142,
          0.9066763982814442,
          0.9068859658999465,
          0.9078042521654117,
          0.9062354520905473,
          0.9123620540618779,
          0.9090191480007879,
          0.9037499533636613,
          0.9094945645608633,
          0.906037136375004,
          0.9026397828873712,
          0.9074810010463576,
          0.9054595977479022,
          0.9083483861474467,
          0.9086072936692327,
          0.9033996080254368,
          0.9059973248082284,
          0.9095290987222191,
          0.9057050022426727,
          0.9041718337458085,
          0.8986166613331288,
          0.9099891001717746,
          0.9050135254710058,
          0.9053038058908792,
          0.9082929182484463,
          0.9065799215546823,
          0.9068233505517235,
          0.9072286960517932,
          0.9080777639943372,
          0.9036441249416056,
          0.9017375400610108,
          0.9102214120495214,
          0.9094229344120375,
          0.9021962442251382,
          0.9064678784485727,
          0.9042535527922524,
          0.9028186186180097,
          0.9078101785414396
         ],
         "yaxis": "y"
        }
       ],
       "layout": {
        "legend": {
         "tracegroupgap": 0
        },
        "template": {
         "data": {
          "bar": [
           {
            "error_x": {
             "color": "#2a3f5f"
            },
            "error_y": {
             "color": "#2a3f5f"
            },
            "marker": {
             "line": {
              "color": "#E5ECF6",
              "width": 0.5
             }
            },
            "type": "bar"
           }
          ],
          "barpolar": [
           {
            "marker": {
             "line": {
              "color": "#E5ECF6",
              "width": 0.5
             }
            },
            "type": "barpolar"
           }
          ],
          "carpet": [
           {
            "aaxis": {
             "endlinecolor": "#2a3f5f",
             "gridcolor": "white",
             "linecolor": "white",
             "minorgridcolor": "white",
             "startlinecolor": "#2a3f5f"
            },
            "baxis": {
             "endlinecolor": "#2a3f5f",
             "gridcolor": "white",
             "linecolor": "white",
             "minorgridcolor": "white",
             "startlinecolor": "#2a3f5f"
            },
            "type": "carpet"
           }
          ],
          "choropleth": [
           {
            "colorbar": {
             "outlinewidth": 0,
             "ticks": ""
            },
            "type": "choropleth"
           }
          ],
          "contour": [
           {
            "colorbar": {
             "outlinewidth": 0,
             "ticks": ""
            },
            "colorscale": [
             [
              0,
              "#0d0887"
             ],
             [
              0.1111111111111111,
              "#46039f"
             ],
             [
              0.2222222222222222,
              "#7201a8"
             ],
             [
              0.3333333333333333,
              "#9c179e"
             ],
             [
              0.4444444444444444,
              "#bd3786"
             ],
             [
              0.5555555555555556,
              "#d8576b"
             ],
             [
              0.6666666666666666,
              "#ed7953"
             ],
             [
              0.7777777777777778,
              "#fb9f3a"
             ],
             [
              0.8888888888888888,
              "#fdca26"
             ],
             [
              1,
              "#f0f921"
             ]
            ],
            "type": "contour"
           }
          ],
          "contourcarpet": [
           {
            "colorbar": {
             "outlinewidth": 0,
             "ticks": ""
            },
            "type": "contourcarpet"
           }
          ],
          "heatmap": [
           {
            "colorbar": {
             "outlinewidth": 0,
             "ticks": ""
            },
            "colorscale": [
             [
              0,
              "#0d0887"
             ],
             [
              0.1111111111111111,
              "#46039f"
             ],
             [
              0.2222222222222222,
              "#7201a8"
             ],
             [
              0.3333333333333333,
              "#9c179e"
             ],
             [
              0.4444444444444444,
              "#bd3786"
             ],
             [
              0.5555555555555556,
              "#d8576b"
             ],
             [
              0.6666666666666666,
              "#ed7953"
             ],
             [
              0.7777777777777778,
              "#fb9f3a"
             ],
             [
              0.8888888888888888,
              "#fdca26"
             ],
             [
              1,
              "#f0f921"
             ]
            ],
            "type": "heatmap"
           }
          ],
          "heatmapgl": [
           {
            "colorbar": {
             "outlinewidth": 0,
             "ticks": ""
            },
            "colorscale": [
             [
              0,
              "#0d0887"
             ],
             [
              0.1111111111111111,
              "#46039f"
             ],
             [
              0.2222222222222222,
              "#7201a8"
             ],
             [
              0.3333333333333333,
              "#9c179e"
             ],
             [
              0.4444444444444444,
              "#bd3786"
             ],
             [
              0.5555555555555556,
              "#d8576b"
             ],
             [
              0.6666666666666666,
              "#ed7953"
             ],
             [
              0.7777777777777778,
              "#fb9f3a"
             ],
             [
              0.8888888888888888,
              "#fdca26"
             ],
             [
              1,
              "#f0f921"
             ]
            ],
            "type": "heatmapgl"
           }
          ],
          "histogram": [
           {
            "marker": {
             "colorbar": {
              "outlinewidth": 0,
              "ticks": ""
             }
            },
            "type": "histogram"
           }
          ],
          "histogram2d": [
           {
            "colorbar": {
             "outlinewidth": 0,
             "ticks": ""
            },
            "colorscale": [
             [
              0,
              "#0d0887"
             ],
             [
              0.1111111111111111,
              "#46039f"
             ],
             [
              0.2222222222222222,
              "#7201a8"
             ],
             [
              0.3333333333333333,
              "#9c179e"
             ],
             [
              0.4444444444444444,
              "#bd3786"
             ],
             [
              0.5555555555555556,
              "#d8576b"
             ],
             [
              0.6666666666666666,
              "#ed7953"
             ],
             [
              0.7777777777777778,
              "#fb9f3a"
             ],
             [
              0.8888888888888888,
              "#fdca26"
             ],
             [
              1,
              "#f0f921"
             ]
            ],
            "type": "histogram2d"
           }
          ],
          "histogram2dcontour": [
           {
            "colorbar": {
             "outlinewidth": 0,
             "ticks": ""
            },
            "colorscale": [
             [
              0,
              "#0d0887"
             ],
             [
              0.1111111111111111,
              "#46039f"
             ],
             [
              0.2222222222222222,
              "#7201a8"
             ],
             [
              0.3333333333333333,
              "#9c179e"
             ],
             [
              0.4444444444444444,
              "#bd3786"
             ],
             [
              0.5555555555555556,
              "#d8576b"
             ],
             [
              0.6666666666666666,
              "#ed7953"
             ],
             [
              0.7777777777777778,
              "#fb9f3a"
             ],
             [
              0.8888888888888888,
              "#fdca26"
             ],
             [
              1,
              "#f0f921"
             ]
            ],
            "type": "histogram2dcontour"
           }
          ],
          "mesh3d": [
           {
            "colorbar": {
             "outlinewidth": 0,
             "ticks": ""
            },
            "type": "mesh3d"
           }
          ],
          "parcoords": [
           {
            "line": {
             "colorbar": {
              "outlinewidth": 0,
              "ticks": ""
             }
            },
            "type": "parcoords"
           }
          ],
          "pie": [
           {
            "automargin": true,
            "type": "pie"
           }
          ],
          "scatter": [
           {
            "marker": {
             "colorbar": {
              "outlinewidth": 0,
              "ticks": ""
             }
            },
            "type": "scatter"
           }
          ],
          "scatter3d": [
           {
            "line": {
             "colorbar": {
              "outlinewidth": 0,
              "ticks": ""
             }
            },
            "marker": {
             "colorbar": {
              "outlinewidth": 0,
              "ticks": ""
             }
            },
            "type": "scatter3d"
           }
          ],
          "scattercarpet": [
           {
            "marker": {
             "colorbar": {
              "outlinewidth": 0,
              "ticks": ""
             }
            },
            "type": "scattercarpet"
           }
          ],
          "scattergeo": [
           {
            "marker": {
             "colorbar": {
              "outlinewidth": 0,
              "ticks": ""
             }
            },
            "type": "scattergeo"
           }
          ],
          "scattergl": [
           {
            "marker": {
             "colorbar": {
              "outlinewidth": 0,
              "ticks": ""
             }
            },
            "type": "scattergl"
           }
          ],
          "scattermapbox": [
           {
            "marker": {
             "colorbar": {
              "outlinewidth": 0,
              "ticks": ""
             }
            },
            "type": "scattermapbox"
           }
          ],
          "scatterpolar": [
           {
            "marker": {
             "colorbar": {
              "outlinewidth": 0,
              "ticks": ""
             }
            },
            "type": "scatterpolar"
           }
          ],
          "scatterpolargl": [
           {
            "marker": {
             "colorbar": {
              "outlinewidth": 0,
              "ticks": ""
             }
            },
            "type": "scatterpolargl"
           }
          ],
          "scatterternary": [
           {
            "marker": {
             "colorbar": {
              "outlinewidth": 0,
              "ticks": ""
             }
            },
            "type": "scatterternary"
           }
          ],
          "surface": [
           {
            "colorbar": {
             "outlinewidth": 0,
             "ticks": ""
            },
            "colorscale": [
             [
              0,
              "#0d0887"
             ],
             [
              0.1111111111111111,
              "#46039f"
             ],
             [
              0.2222222222222222,
              "#7201a8"
             ],
             [
              0.3333333333333333,
              "#9c179e"
             ],
             [
              0.4444444444444444,
              "#bd3786"
             ],
             [
              0.5555555555555556,
              "#d8576b"
             ],
             [
              0.6666666666666666,
              "#ed7953"
             ],
             [
              0.7777777777777778,
              "#fb9f3a"
             ],
             [
              0.8888888888888888,
              "#fdca26"
             ],
             [
              1,
              "#f0f921"
             ]
            ],
            "type": "surface"
           }
          ],
          "table": [
           {
            "cells": {
             "fill": {
              "color": "#EBF0F8"
             },
             "line": {
              "color": "white"
             }
            },
            "header": {
             "fill": {
              "color": "#C8D4E3"
             },
             "line": {
              "color": "white"
             }
            },
            "type": "table"
           }
          ]
         },
         "layout": {
          "annotationdefaults": {
           "arrowcolor": "#2a3f5f",
           "arrowhead": 0,
           "arrowwidth": 1
          },
          "coloraxis": {
           "colorbar": {
            "outlinewidth": 0,
            "ticks": ""
           }
          },
          "colorscale": {
           "diverging": [
            [
             0,
             "#8e0152"
            ],
            [
             0.1,
             "#c51b7d"
            ],
            [
             0.2,
             "#de77ae"
            ],
            [
             0.3,
             "#f1b6da"
            ],
            [
             0.4,
             "#fde0ef"
            ],
            [
             0.5,
             "#f7f7f7"
            ],
            [
             0.6,
             "#e6f5d0"
            ],
            [
             0.7,
             "#b8e186"
            ],
            [
             0.8,
             "#7fbc41"
            ],
            [
             0.9,
             "#4d9221"
            ],
            [
             1,
             "#276419"
            ]
           ],
           "sequential": [
            [
             0,
             "#0d0887"
            ],
            [
             0.1111111111111111,
             "#46039f"
            ],
            [
             0.2222222222222222,
             "#7201a8"
            ],
            [
             0.3333333333333333,
             "#9c179e"
            ],
            [
             0.4444444444444444,
             "#bd3786"
            ],
            [
             0.5555555555555556,
             "#d8576b"
            ],
            [
             0.6666666666666666,
             "#ed7953"
            ],
            [
             0.7777777777777778,
             "#fb9f3a"
            ],
            [
             0.8888888888888888,
             "#fdca26"
            ],
            [
             1,
             "#f0f921"
            ]
           ],
           "sequentialminus": [
            [
             0,
             "#0d0887"
            ],
            [
             0.1111111111111111,
             "#46039f"
            ],
            [
             0.2222222222222222,
             "#7201a8"
            ],
            [
             0.3333333333333333,
             "#9c179e"
            ],
            [
             0.4444444444444444,
             "#bd3786"
            ],
            [
             0.5555555555555556,
             "#d8576b"
            ],
            [
             0.6666666666666666,
             "#ed7953"
            ],
            [
             0.7777777777777778,
             "#fb9f3a"
            ],
            [
             0.8888888888888888,
             "#fdca26"
            ],
            [
             1,
             "#f0f921"
            ]
           ]
          },
          "colorway": [
           "#636efa",
           "#EF553B",
           "#00cc96",
           "#ab63fa",
           "#FFA15A",
           "#19d3f3",
           "#FF6692",
           "#B6E880",
           "#FF97FF",
           "#FECB52"
          ],
          "font": {
           "color": "#2a3f5f"
          },
          "geo": {
           "bgcolor": "white",
           "lakecolor": "white",
           "landcolor": "#E5ECF6",
           "showlakes": true,
           "showland": true,
           "subunitcolor": "white"
          },
          "hoverlabel": {
           "align": "left"
          },
          "hovermode": "closest",
          "mapbox": {
           "style": "light"
          },
          "paper_bgcolor": "white",
          "plot_bgcolor": "#E5ECF6",
          "polar": {
           "angularaxis": {
            "gridcolor": "white",
            "linecolor": "white",
            "ticks": ""
           },
           "bgcolor": "#E5ECF6",
           "radialaxis": {
            "gridcolor": "white",
            "linecolor": "white",
            "ticks": ""
           }
          },
          "scene": {
           "xaxis": {
            "backgroundcolor": "#E5ECF6",
            "gridcolor": "white",
            "gridwidth": 2,
            "linecolor": "white",
            "showbackground": true,
            "ticks": "",
            "zerolinecolor": "white"
           },
           "yaxis": {
            "backgroundcolor": "#E5ECF6",
            "gridcolor": "white",
            "gridwidth": 2,
            "linecolor": "white",
            "showbackground": true,
            "ticks": "",
            "zerolinecolor": "white"
           },
           "zaxis": {
            "backgroundcolor": "#E5ECF6",
            "gridcolor": "white",
            "gridwidth": 2,
            "linecolor": "white",
            "showbackground": true,
            "ticks": "",
            "zerolinecolor": "white"
           }
          },
          "shapedefaults": {
           "line": {
            "color": "#2a3f5f"
           }
          },
          "ternary": {
           "aaxis": {
            "gridcolor": "white",
            "linecolor": "white",
            "ticks": ""
           },
           "baxis": {
            "gridcolor": "white",
            "linecolor": "white",
            "ticks": ""
           },
           "bgcolor": "#E5ECF6",
           "caxis": {
            "gridcolor": "white",
            "linecolor": "white",
            "ticks": ""
           }
          },
          "title": {
           "x": 0.05
          },
          "xaxis": {
           "automargin": true,
           "gridcolor": "white",
           "linecolor": "white",
           "ticks": "",
           "title": {
            "standoff": 15
           },
           "zerolinecolor": "white",
           "zerolinewidth": 2
          },
          "yaxis": {
           "automargin": true,
           "gridcolor": "white",
           "linecolor": "white",
           "ticks": "",
           "title": {
            "standoff": 15
           },
           "zerolinecolor": "white",
           "zerolinewidth": 2
          }
         }
        },
        "title": {
         "text": "Max depth of each tree"
        },
        "xaxis": {
         "anchor": "y",
         "domain": [
          0,
          1
         ],
         "title": {
          "text": "x"
         }
        },
        "yaxis": {
         "anchor": "x",
         "domain": [
          0,
          1
         ],
         "title": {
          "text": "y"
         }
        }
       }
      }
     },
     "metadata": {}
    }
   ],
   "source": [
    "line_plot(range(1,200),list_scores,\"Max depth of each tree\")"
   ]
  },
  {
   "cell_type": "code",
   "execution_count": 47,
   "metadata": {},
   "outputs": [],
   "source": [
    "#test 1 : min split(0,200) opt 3\n",
    "\n",
    "list_scores = []\n",
    "\n",
    "min_samples_split = 50\n",
    "for i in range(2,min_samples_split):\n",
    "    clf = RandomForestClassifier(n_estimators = 50,max_depth=30,min_samples_split = i)\n",
    "    clf.fit(x_train, y_train)\n",
    "    y_pred = clf.predict(x_test)\n",
    "\n",
    "    score = f1_score(y_test,y_pred, average='weighted')\n",
    "    list_scores.append(score)"
   ]
  },
  {
   "cell_type": "code",
   "execution_count": 49,
   "metadata": {},
   "outputs": [
    {
     "output_type": "display_data",
     "data": {
      "application/vnd.plotly.v1+json": {
       "config": {
        "plotlyServerURL": "https://plot.ly"
       },
       "data": [
        {
         "hovertemplate": "x=%{x}<br>y=%{y}<extra></extra>",
         "legendgroup": "",
         "line": {
          "color": "#636efa",
          "dash": "solid"
         },
         "mode": "lines",
         "name": "",
         "orientation": "v",
         "showlegend": false,
         "type": "scatter",
         "x": [
          2,
          3,
          4,
          5,
          6,
          7,
          8,
          9,
          10,
          11,
          12,
          13,
          14,
          15,
          16,
          17,
          18,
          19,
          20,
          21,
          22,
          23,
          24,
          25,
          26,
          27,
          28,
          29,
          30,
          31,
          32,
          33,
          34,
          35,
          36,
          37,
          38,
          39,
          40,
          41,
          42,
          43,
          44,
          45,
          46,
          47,
          48,
          49
         ],
         "xaxis": "x",
         "y": [
          0.8995478165326783,
          0.9055833653166242,
          0.9096728083483299,
          0.9016329047287134,
          0.9054925834579072,
          0.9069398075441455,
          0.9012637518899825,
          0.9059625860131576,
          0.9020593531027455,
          0.9034164225541993,
          0.9001207271721987,
          0.8990359449962698,
          0.899018836438623,
          0.896972121530595,
          0.8986466990374854,
          0.8952607417831497,
          0.8935010344247928,
          0.896015319645899,
          0.8962693057187833,
          0.8899201935973151,
          0.8909197537036944,
          0.8949657773480397,
          0.8981070479233143,
          0.888318873016181,
          0.891062225360617,
          0.8908153799017552,
          0.8856847641804904,
          0.8929228100832479,
          0.8903768044361055,
          0.8868717154504688,
          0.8861510012655762,
          0.8813420531661402,
          0.8881707708939423,
          0.8796578172511518,
          0.8859788703655846,
          0.8837445959188163,
          0.8823023764798721,
          0.87938724546365,
          0.8841498776230712,
          0.8835792329755068,
          0.8849849378029624,
          0.8837059390664661,
          0.880945690503689,
          0.8810769832200591,
          0.8791036643728444,
          0.8809600236156538,
          0.8794608825973681,
          0.884130651368557
         ],
         "yaxis": "y"
        }
       ],
       "layout": {
        "legend": {
         "tracegroupgap": 0
        },
        "template": {
         "data": {
          "bar": [
           {
            "error_x": {
             "color": "#2a3f5f"
            },
            "error_y": {
             "color": "#2a3f5f"
            },
            "marker": {
             "line": {
              "color": "#E5ECF6",
              "width": 0.5
             }
            },
            "type": "bar"
           }
          ],
          "barpolar": [
           {
            "marker": {
             "line": {
              "color": "#E5ECF6",
              "width": 0.5
             }
            },
            "type": "barpolar"
           }
          ],
          "carpet": [
           {
            "aaxis": {
             "endlinecolor": "#2a3f5f",
             "gridcolor": "white",
             "linecolor": "white",
             "minorgridcolor": "white",
             "startlinecolor": "#2a3f5f"
            },
            "baxis": {
             "endlinecolor": "#2a3f5f",
             "gridcolor": "white",
             "linecolor": "white",
             "minorgridcolor": "white",
             "startlinecolor": "#2a3f5f"
            },
            "type": "carpet"
           }
          ],
          "choropleth": [
           {
            "colorbar": {
             "outlinewidth": 0,
             "ticks": ""
            },
            "type": "choropleth"
           }
          ],
          "contour": [
           {
            "colorbar": {
             "outlinewidth": 0,
             "ticks": ""
            },
            "colorscale": [
             [
              0,
              "#0d0887"
             ],
             [
              0.1111111111111111,
              "#46039f"
             ],
             [
              0.2222222222222222,
              "#7201a8"
             ],
             [
              0.3333333333333333,
              "#9c179e"
             ],
             [
              0.4444444444444444,
              "#bd3786"
             ],
             [
              0.5555555555555556,
              "#d8576b"
             ],
             [
              0.6666666666666666,
              "#ed7953"
             ],
             [
              0.7777777777777778,
              "#fb9f3a"
             ],
             [
              0.8888888888888888,
              "#fdca26"
             ],
             [
              1,
              "#f0f921"
             ]
            ],
            "type": "contour"
           }
          ],
          "contourcarpet": [
           {
            "colorbar": {
             "outlinewidth": 0,
             "ticks": ""
            },
            "type": "contourcarpet"
           }
          ],
          "heatmap": [
           {
            "colorbar": {
             "outlinewidth": 0,
             "ticks": ""
            },
            "colorscale": [
             [
              0,
              "#0d0887"
             ],
             [
              0.1111111111111111,
              "#46039f"
             ],
             [
              0.2222222222222222,
              "#7201a8"
             ],
             [
              0.3333333333333333,
              "#9c179e"
             ],
             [
              0.4444444444444444,
              "#bd3786"
             ],
             [
              0.5555555555555556,
              "#d8576b"
             ],
             [
              0.6666666666666666,
              "#ed7953"
             ],
             [
              0.7777777777777778,
              "#fb9f3a"
             ],
             [
              0.8888888888888888,
              "#fdca26"
             ],
             [
              1,
              "#f0f921"
             ]
            ],
            "type": "heatmap"
           }
          ],
          "heatmapgl": [
           {
            "colorbar": {
             "outlinewidth": 0,
             "ticks": ""
            },
            "colorscale": [
             [
              0,
              "#0d0887"
             ],
             [
              0.1111111111111111,
              "#46039f"
             ],
             [
              0.2222222222222222,
              "#7201a8"
             ],
             [
              0.3333333333333333,
              "#9c179e"
             ],
             [
              0.4444444444444444,
              "#bd3786"
             ],
             [
              0.5555555555555556,
              "#d8576b"
             ],
             [
              0.6666666666666666,
              "#ed7953"
             ],
             [
              0.7777777777777778,
              "#fb9f3a"
             ],
             [
              0.8888888888888888,
              "#fdca26"
             ],
             [
              1,
              "#f0f921"
             ]
            ],
            "type": "heatmapgl"
           }
          ],
          "histogram": [
           {
            "marker": {
             "colorbar": {
              "outlinewidth": 0,
              "ticks": ""
             }
            },
            "type": "histogram"
           }
          ],
          "histogram2d": [
           {
            "colorbar": {
             "outlinewidth": 0,
             "ticks": ""
            },
            "colorscale": [
             [
              0,
              "#0d0887"
             ],
             [
              0.1111111111111111,
              "#46039f"
             ],
             [
              0.2222222222222222,
              "#7201a8"
             ],
             [
              0.3333333333333333,
              "#9c179e"
             ],
             [
              0.4444444444444444,
              "#bd3786"
             ],
             [
              0.5555555555555556,
              "#d8576b"
             ],
             [
              0.6666666666666666,
              "#ed7953"
             ],
             [
              0.7777777777777778,
              "#fb9f3a"
             ],
             [
              0.8888888888888888,
              "#fdca26"
             ],
             [
              1,
              "#f0f921"
             ]
            ],
            "type": "histogram2d"
           }
          ],
          "histogram2dcontour": [
           {
            "colorbar": {
             "outlinewidth": 0,
             "ticks": ""
            },
            "colorscale": [
             [
              0,
              "#0d0887"
             ],
             [
              0.1111111111111111,
              "#46039f"
             ],
             [
              0.2222222222222222,
              "#7201a8"
             ],
             [
              0.3333333333333333,
              "#9c179e"
             ],
             [
              0.4444444444444444,
              "#bd3786"
             ],
             [
              0.5555555555555556,
              "#d8576b"
             ],
             [
              0.6666666666666666,
              "#ed7953"
             ],
             [
              0.7777777777777778,
              "#fb9f3a"
             ],
             [
              0.8888888888888888,
              "#fdca26"
             ],
             [
              1,
              "#f0f921"
             ]
            ],
            "type": "histogram2dcontour"
           }
          ],
          "mesh3d": [
           {
            "colorbar": {
             "outlinewidth": 0,
             "ticks": ""
            },
            "type": "mesh3d"
           }
          ],
          "parcoords": [
           {
            "line": {
             "colorbar": {
              "outlinewidth": 0,
              "ticks": ""
             }
            },
            "type": "parcoords"
           }
          ],
          "pie": [
           {
            "automargin": true,
            "type": "pie"
           }
          ],
          "scatter": [
           {
            "marker": {
             "colorbar": {
              "outlinewidth": 0,
              "ticks": ""
             }
            },
            "type": "scatter"
           }
          ],
          "scatter3d": [
           {
            "line": {
             "colorbar": {
              "outlinewidth": 0,
              "ticks": ""
             }
            },
            "marker": {
             "colorbar": {
              "outlinewidth": 0,
              "ticks": ""
             }
            },
            "type": "scatter3d"
           }
          ],
          "scattercarpet": [
           {
            "marker": {
             "colorbar": {
              "outlinewidth": 0,
              "ticks": ""
             }
            },
            "type": "scattercarpet"
           }
          ],
          "scattergeo": [
           {
            "marker": {
             "colorbar": {
              "outlinewidth": 0,
              "ticks": ""
             }
            },
            "type": "scattergeo"
           }
          ],
          "scattergl": [
           {
            "marker": {
             "colorbar": {
              "outlinewidth": 0,
              "ticks": ""
             }
            },
            "type": "scattergl"
           }
          ],
          "scattermapbox": [
           {
            "marker": {
             "colorbar": {
              "outlinewidth": 0,
              "ticks": ""
             }
            },
            "type": "scattermapbox"
           }
          ],
          "scatterpolar": [
           {
            "marker": {
             "colorbar": {
              "outlinewidth": 0,
              "ticks": ""
             }
            },
            "type": "scatterpolar"
           }
          ],
          "scatterpolargl": [
           {
            "marker": {
             "colorbar": {
              "outlinewidth": 0,
              "ticks": ""
             }
            },
            "type": "scatterpolargl"
           }
          ],
          "scatterternary": [
           {
            "marker": {
             "colorbar": {
              "outlinewidth": 0,
              "ticks": ""
             }
            },
            "type": "scatterternary"
           }
          ],
          "surface": [
           {
            "colorbar": {
             "outlinewidth": 0,
             "ticks": ""
            },
            "colorscale": [
             [
              0,
              "#0d0887"
             ],
             [
              0.1111111111111111,
              "#46039f"
             ],
             [
              0.2222222222222222,
              "#7201a8"
             ],
             [
              0.3333333333333333,
              "#9c179e"
             ],
             [
              0.4444444444444444,
              "#bd3786"
             ],
             [
              0.5555555555555556,
              "#d8576b"
             ],
             [
              0.6666666666666666,
              "#ed7953"
             ],
             [
              0.7777777777777778,
              "#fb9f3a"
             ],
             [
              0.8888888888888888,
              "#fdca26"
             ],
             [
              1,
              "#f0f921"
             ]
            ],
            "type": "surface"
           }
          ],
          "table": [
           {
            "cells": {
             "fill": {
              "color": "#EBF0F8"
             },
             "line": {
              "color": "white"
             }
            },
            "header": {
             "fill": {
              "color": "#C8D4E3"
             },
             "line": {
              "color": "white"
             }
            },
            "type": "table"
           }
          ]
         },
         "layout": {
          "annotationdefaults": {
           "arrowcolor": "#2a3f5f",
           "arrowhead": 0,
           "arrowwidth": 1
          },
          "coloraxis": {
           "colorbar": {
            "outlinewidth": 0,
            "ticks": ""
           }
          },
          "colorscale": {
           "diverging": [
            [
             0,
             "#8e0152"
            ],
            [
             0.1,
             "#c51b7d"
            ],
            [
             0.2,
             "#de77ae"
            ],
            [
             0.3,
             "#f1b6da"
            ],
            [
             0.4,
             "#fde0ef"
            ],
            [
             0.5,
             "#f7f7f7"
            ],
            [
             0.6,
             "#e6f5d0"
            ],
            [
             0.7,
             "#b8e186"
            ],
            [
             0.8,
             "#7fbc41"
            ],
            [
             0.9,
             "#4d9221"
            ],
            [
             1,
             "#276419"
            ]
           ],
           "sequential": [
            [
             0,
             "#0d0887"
            ],
            [
             0.1111111111111111,
             "#46039f"
            ],
            [
             0.2222222222222222,
             "#7201a8"
            ],
            [
             0.3333333333333333,
             "#9c179e"
            ],
            [
             0.4444444444444444,
             "#bd3786"
            ],
            [
             0.5555555555555556,
             "#d8576b"
            ],
            [
             0.6666666666666666,
             "#ed7953"
            ],
            [
             0.7777777777777778,
             "#fb9f3a"
            ],
            [
             0.8888888888888888,
             "#fdca26"
            ],
            [
             1,
             "#f0f921"
            ]
           ],
           "sequentialminus": [
            [
             0,
             "#0d0887"
            ],
            [
             0.1111111111111111,
             "#46039f"
            ],
            [
             0.2222222222222222,
             "#7201a8"
            ],
            [
             0.3333333333333333,
             "#9c179e"
            ],
            [
             0.4444444444444444,
             "#bd3786"
            ],
            [
             0.5555555555555556,
             "#d8576b"
            ],
            [
             0.6666666666666666,
             "#ed7953"
            ],
            [
             0.7777777777777778,
             "#fb9f3a"
            ],
            [
             0.8888888888888888,
             "#fdca26"
            ],
            [
             1,
             "#f0f921"
            ]
           ]
          },
          "colorway": [
           "#636efa",
           "#EF553B",
           "#00cc96",
           "#ab63fa",
           "#FFA15A",
           "#19d3f3",
           "#FF6692",
           "#B6E880",
           "#FF97FF",
           "#FECB52"
          ],
          "font": {
           "color": "#2a3f5f"
          },
          "geo": {
           "bgcolor": "white",
           "lakecolor": "white",
           "landcolor": "#E5ECF6",
           "showlakes": true,
           "showland": true,
           "subunitcolor": "white"
          },
          "hoverlabel": {
           "align": "left"
          },
          "hovermode": "closest",
          "mapbox": {
           "style": "light"
          },
          "paper_bgcolor": "white",
          "plot_bgcolor": "#E5ECF6",
          "polar": {
           "angularaxis": {
            "gridcolor": "white",
            "linecolor": "white",
            "ticks": ""
           },
           "bgcolor": "#E5ECF6",
           "radialaxis": {
            "gridcolor": "white",
            "linecolor": "white",
            "ticks": ""
           }
          },
          "scene": {
           "xaxis": {
            "backgroundcolor": "#E5ECF6",
            "gridcolor": "white",
            "gridwidth": 2,
            "linecolor": "white",
            "showbackground": true,
            "ticks": "",
            "zerolinecolor": "white"
           },
           "yaxis": {
            "backgroundcolor": "#E5ECF6",
            "gridcolor": "white",
            "gridwidth": 2,
            "linecolor": "white",
            "showbackground": true,
            "ticks": "",
            "zerolinecolor": "white"
           },
           "zaxis": {
            "backgroundcolor": "#E5ECF6",
            "gridcolor": "white",
            "gridwidth": 2,
            "linecolor": "white",
            "showbackground": true,
            "ticks": "",
            "zerolinecolor": "white"
           }
          },
          "shapedefaults": {
           "line": {
            "color": "#2a3f5f"
           }
          },
          "ternary": {
           "aaxis": {
            "gridcolor": "white",
            "linecolor": "white",
            "ticks": ""
           },
           "baxis": {
            "gridcolor": "white",
            "linecolor": "white",
            "ticks": ""
           },
           "bgcolor": "#E5ECF6",
           "caxis": {
            "gridcolor": "white",
            "linecolor": "white",
            "ticks": ""
           }
          },
          "title": {
           "x": 0.05
          },
          "xaxis": {
           "automargin": true,
           "gridcolor": "white",
           "linecolor": "white",
           "ticks": "",
           "title": {
            "standoff": 15
           },
           "zerolinecolor": "white",
           "zerolinewidth": 2
          },
          "yaxis": {
           "automargin": true,
           "gridcolor": "white",
           "linecolor": "white",
           "ticks": "",
           "title": {
            "standoff": 15
           },
           "zerolinecolor": "white",
           "zerolinewidth": 2
          }
         }
        },
        "title": {
         "text": "Minimu number of sample to split"
        },
        "xaxis": {
         "anchor": "y",
         "domain": [
          0,
          1
         ],
         "title": {
          "text": "x"
         }
        },
        "yaxis": {
         "anchor": "x",
         "domain": [
          0,
          1
         ],
         "title": {
          "text": "y"
         }
        }
       }
      }
     },
     "metadata": {}
    }
   ],
   "source": [
    "line_plot(range(2,50),list_scores,\"Minimu number of sample to split\")"
   ]
  },
  {
   "source": [
    "Apres avoir fait les testsn on va utiliser 50 arbres, une profondeur de 30 et un nombre minimum de split de 3"
   ],
   "cell_type": "markdown",
   "metadata": {}
  },
  {
   "cell_type": "code",
   "execution_count": 23,
   "metadata": {},
   "outputs": [
    {
     "output_type": "execute_result",
     "data": {
      "text/plain": [
       "[0.959, 0.958]"
      ]
     },
     "metadata": {},
     "execution_count": 23
    }
   ],
   "source": [
    "algo_used.append(\"Random Forest\")\n",
    "\n",
    "clf = RandomForestClassifier(n_estimators = 50,max_depth=30,min_samples_split = 3)\n",
    "clf.fit(x_train, y_train)\n",
    "\n",
    "y_pred = clf.predict(x_test)\n",
    "\n",
    "score = f1_score(y_test,y_pred, average='weighted')\n",
    "\n",
    "f1_score_weighted_avg.append(round(score,3))\n",
    "f1_score_weighted_avg"
   ]
  },
  {
   "source": [
    "On a amelioré l'accuracy de 0.93 a 0.96. Voyons voir si avec un gradient boosting on peut encore améliorer notre prédiction."
   ],
   "cell_type": "markdown",
   "metadata": {}
  },
  {
   "source": [
    "### 5. Gradient boosting"
   ],
   "cell_type": "markdown",
   "metadata": {}
  },
  {
   "source": [
    "#test 1 : n_estimators(1,200) opt = 71\n",
    "list_scores = []\n",
    "\n",
    "n_estimators = 1000\n",
    "for i in range(1,n_estimators,10):\n",
    "    clf = GradientBoostingClassifier(n_estimators=i).fit(x_train, y_train)\n",
    "    y_pred = clf.predict(x_test)\n",
    "\n",
    "    score = f1_score(y_test,y_pred, average='weighted')\n",
    "    list_scores.append(score)"
   ],
   "cell_type": "code",
   "metadata": {},
   "execution_count": null,
   "outputs": []
  },
  {
   "cell_type": "code",
   "execution_count": 82,
   "metadata": {},
   "outputs": [
    {
     "output_type": "display_data",
     "data": {
      "application/vnd.plotly.v1+json": {
       "config": {
        "plotlyServerURL": "https://plot.ly"
       },
       "data": [
        {
         "hovertemplate": "x=%{x}<br>y=%{y}<extra></extra>",
         "legendgroup": "",
         "line": {
          "color": "#636efa",
          "dash": "solid"
         },
         "mode": "lines",
         "name": "",
         "orientation": "v",
         "showlegend": false,
         "type": "scatter",
         "x": [
          1,
          11,
          21,
          31,
          41,
          51,
          61,
          71,
          81,
          91,
          101,
          111,
          121,
          131,
          141,
          151,
          161,
          171,
          181,
          191,
          201,
          211,
          221,
          231,
          241,
          251,
          261,
          271,
          281,
          291,
          301,
          311,
          321,
          331,
          341,
          351,
          361,
          371,
          381,
          391,
          401,
          411,
          421,
          431,
          441,
          451,
          461,
          471,
          481,
          491,
          501,
          511,
          521,
          531,
          541,
          551,
          561,
          571,
          581,
          591
         ],
         "xaxis": "x",
         "y": [
          0.6700433629614156,
          0.9270098861400282,
          0.9369347854880962,
          0.9396579577745396,
          0.9422500713546619,
          0.9468015217440972,
          0.9493968438484446,
          0.9495610863211453,
          0.9510984879917994,
          0.9505928446509417,
          0.9517154065969929,
          0.950681268171014,
          0.9497686085695816,
          0.949713625371303,
          0.9492781485539747,
          0.9493327301146884,
          0.9502669488027687,
          0.9497548884928686,
          0.9492635620478468,
          0.9497405482062387,
          0.9487250226813125,
          0.9502270808493518,
          0.9507580400826375,
          0.9522824121844388,
          0.9527626365852204,
          0.9527692981298721,
          0.9532505740945321,
          0.9527945481067689,
          0.9518232607202509,
          0.9517894948960726,
          0.9512654158174293,
          0.9527923960034136,
          0.9533349357996359,
          0.9533398978169051,
          0.9543408166939616,
          0.9538269875515886,
          0.9543408166939616,
          0.9538317925525029,
          0.9533622828547369,
          0.9538405299236282,
          0.9543688019076921,
          0.9538566749665336,
          0.9543386668908348,
          0.9547727439732021,
          0.9548309401507518,
          0.9558157815309279,
          0.9553252794131162,
          0.9553252794131162,
          0.9562979899170188,
          0.955807487799207,
          0.9563464107968415,
          0.9558367717006049,
          0.9548120681461464,
          0.9548120681461464,
          0.9548120681461464,
          0.9543302619281021,
          0.9543260820729793,
          0.9543614795806251,
          0.9543302619281021,
          0.9538488477953947
         ],
         "yaxis": "y"
        }
       ],
       "layout": {
        "legend": {
         "tracegroupgap": 0
        },
        "template": {
         "data": {
          "bar": [
           {
            "error_x": {
             "color": "#2a3f5f"
            },
            "error_y": {
             "color": "#2a3f5f"
            },
            "marker": {
             "line": {
              "color": "#E5ECF6",
              "width": 0.5
             }
            },
            "type": "bar"
           }
          ],
          "barpolar": [
           {
            "marker": {
             "line": {
              "color": "#E5ECF6",
              "width": 0.5
             }
            },
            "type": "barpolar"
           }
          ],
          "carpet": [
           {
            "aaxis": {
             "endlinecolor": "#2a3f5f",
             "gridcolor": "white",
             "linecolor": "white",
             "minorgridcolor": "white",
             "startlinecolor": "#2a3f5f"
            },
            "baxis": {
             "endlinecolor": "#2a3f5f",
             "gridcolor": "white",
             "linecolor": "white",
             "minorgridcolor": "white",
             "startlinecolor": "#2a3f5f"
            },
            "type": "carpet"
           }
          ],
          "choropleth": [
           {
            "colorbar": {
             "outlinewidth": 0,
             "ticks": ""
            },
            "type": "choropleth"
           }
          ],
          "contour": [
           {
            "colorbar": {
             "outlinewidth": 0,
             "ticks": ""
            },
            "colorscale": [
             [
              0,
              "#0d0887"
             ],
             [
              0.1111111111111111,
              "#46039f"
             ],
             [
              0.2222222222222222,
              "#7201a8"
             ],
             [
              0.3333333333333333,
              "#9c179e"
             ],
             [
              0.4444444444444444,
              "#bd3786"
             ],
             [
              0.5555555555555556,
              "#d8576b"
             ],
             [
              0.6666666666666666,
              "#ed7953"
             ],
             [
              0.7777777777777778,
              "#fb9f3a"
             ],
             [
              0.8888888888888888,
              "#fdca26"
             ],
             [
              1,
              "#f0f921"
             ]
            ],
            "type": "contour"
           }
          ],
          "contourcarpet": [
           {
            "colorbar": {
             "outlinewidth": 0,
             "ticks": ""
            },
            "type": "contourcarpet"
           }
          ],
          "heatmap": [
           {
            "colorbar": {
             "outlinewidth": 0,
             "ticks": ""
            },
            "colorscale": [
             [
              0,
              "#0d0887"
             ],
             [
              0.1111111111111111,
              "#46039f"
             ],
             [
              0.2222222222222222,
              "#7201a8"
             ],
             [
              0.3333333333333333,
              "#9c179e"
             ],
             [
              0.4444444444444444,
              "#bd3786"
             ],
             [
              0.5555555555555556,
              "#d8576b"
             ],
             [
              0.6666666666666666,
              "#ed7953"
             ],
             [
              0.7777777777777778,
              "#fb9f3a"
             ],
             [
              0.8888888888888888,
              "#fdca26"
             ],
             [
              1,
              "#f0f921"
             ]
            ],
            "type": "heatmap"
           }
          ],
          "heatmapgl": [
           {
            "colorbar": {
             "outlinewidth": 0,
             "ticks": ""
            },
            "colorscale": [
             [
              0,
              "#0d0887"
             ],
             [
              0.1111111111111111,
              "#46039f"
             ],
             [
              0.2222222222222222,
              "#7201a8"
             ],
             [
              0.3333333333333333,
              "#9c179e"
             ],
             [
              0.4444444444444444,
              "#bd3786"
             ],
             [
              0.5555555555555556,
              "#d8576b"
             ],
             [
              0.6666666666666666,
              "#ed7953"
             ],
             [
              0.7777777777777778,
              "#fb9f3a"
             ],
             [
              0.8888888888888888,
              "#fdca26"
             ],
             [
              1,
              "#f0f921"
             ]
            ],
            "type": "heatmapgl"
           }
          ],
          "histogram": [
           {
            "marker": {
             "colorbar": {
              "outlinewidth": 0,
              "ticks": ""
             }
            },
            "type": "histogram"
           }
          ],
          "histogram2d": [
           {
            "colorbar": {
             "outlinewidth": 0,
             "ticks": ""
            },
            "colorscale": [
             [
              0,
              "#0d0887"
             ],
             [
              0.1111111111111111,
              "#46039f"
             ],
             [
              0.2222222222222222,
              "#7201a8"
             ],
             [
              0.3333333333333333,
              "#9c179e"
             ],
             [
              0.4444444444444444,
              "#bd3786"
             ],
             [
              0.5555555555555556,
              "#d8576b"
             ],
             [
              0.6666666666666666,
              "#ed7953"
             ],
             [
              0.7777777777777778,
              "#fb9f3a"
             ],
             [
              0.8888888888888888,
              "#fdca26"
             ],
             [
              1,
              "#f0f921"
             ]
            ],
            "type": "histogram2d"
           }
          ],
          "histogram2dcontour": [
           {
            "colorbar": {
             "outlinewidth": 0,
             "ticks": ""
            },
            "colorscale": [
             [
              0,
              "#0d0887"
             ],
             [
              0.1111111111111111,
              "#46039f"
             ],
             [
              0.2222222222222222,
              "#7201a8"
             ],
             [
              0.3333333333333333,
              "#9c179e"
             ],
             [
              0.4444444444444444,
              "#bd3786"
             ],
             [
              0.5555555555555556,
              "#d8576b"
             ],
             [
              0.6666666666666666,
              "#ed7953"
             ],
             [
              0.7777777777777778,
              "#fb9f3a"
             ],
             [
              0.8888888888888888,
              "#fdca26"
             ],
             [
              1,
              "#f0f921"
             ]
            ],
            "type": "histogram2dcontour"
           }
          ],
          "mesh3d": [
           {
            "colorbar": {
             "outlinewidth": 0,
             "ticks": ""
            },
            "type": "mesh3d"
           }
          ],
          "parcoords": [
           {
            "line": {
             "colorbar": {
              "outlinewidth": 0,
              "ticks": ""
             }
            },
            "type": "parcoords"
           }
          ],
          "pie": [
           {
            "automargin": true,
            "type": "pie"
           }
          ],
          "scatter": [
           {
            "marker": {
             "colorbar": {
              "outlinewidth": 0,
              "ticks": ""
             }
            },
            "type": "scatter"
           }
          ],
          "scatter3d": [
           {
            "line": {
             "colorbar": {
              "outlinewidth": 0,
              "ticks": ""
             }
            },
            "marker": {
             "colorbar": {
              "outlinewidth": 0,
              "ticks": ""
             }
            },
            "type": "scatter3d"
           }
          ],
          "scattercarpet": [
           {
            "marker": {
             "colorbar": {
              "outlinewidth": 0,
              "ticks": ""
             }
            },
            "type": "scattercarpet"
           }
          ],
          "scattergeo": [
           {
            "marker": {
             "colorbar": {
              "outlinewidth": 0,
              "ticks": ""
             }
            },
            "type": "scattergeo"
           }
          ],
          "scattergl": [
           {
            "marker": {
             "colorbar": {
              "outlinewidth": 0,
              "ticks": ""
             }
            },
            "type": "scattergl"
           }
          ],
          "scattermapbox": [
           {
            "marker": {
             "colorbar": {
              "outlinewidth": 0,
              "ticks": ""
             }
            },
            "type": "scattermapbox"
           }
          ],
          "scatterpolar": [
           {
            "marker": {
             "colorbar": {
              "outlinewidth": 0,
              "ticks": ""
             }
            },
            "type": "scatterpolar"
           }
          ],
          "scatterpolargl": [
           {
            "marker": {
             "colorbar": {
              "outlinewidth": 0,
              "ticks": ""
             }
            },
            "type": "scatterpolargl"
           }
          ],
          "scatterternary": [
           {
            "marker": {
             "colorbar": {
              "outlinewidth": 0,
              "ticks": ""
             }
            },
            "type": "scatterternary"
           }
          ],
          "surface": [
           {
            "colorbar": {
             "outlinewidth": 0,
             "ticks": ""
            },
            "colorscale": [
             [
              0,
              "#0d0887"
             ],
             [
              0.1111111111111111,
              "#46039f"
             ],
             [
              0.2222222222222222,
              "#7201a8"
             ],
             [
              0.3333333333333333,
              "#9c179e"
             ],
             [
              0.4444444444444444,
              "#bd3786"
             ],
             [
              0.5555555555555556,
              "#d8576b"
             ],
             [
              0.6666666666666666,
              "#ed7953"
             ],
             [
              0.7777777777777778,
              "#fb9f3a"
             ],
             [
              0.8888888888888888,
              "#fdca26"
             ],
             [
              1,
              "#f0f921"
             ]
            ],
            "type": "surface"
           }
          ],
          "table": [
           {
            "cells": {
             "fill": {
              "color": "#EBF0F8"
             },
             "line": {
              "color": "white"
             }
            },
            "header": {
             "fill": {
              "color": "#C8D4E3"
             },
             "line": {
              "color": "white"
             }
            },
            "type": "table"
           }
          ]
         },
         "layout": {
          "annotationdefaults": {
           "arrowcolor": "#2a3f5f",
           "arrowhead": 0,
           "arrowwidth": 1
          },
          "coloraxis": {
           "colorbar": {
            "outlinewidth": 0,
            "ticks": ""
           }
          },
          "colorscale": {
           "diverging": [
            [
             0,
             "#8e0152"
            ],
            [
             0.1,
             "#c51b7d"
            ],
            [
             0.2,
             "#de77ae"
            ],
            [
             0.3,
             "#f1b6da"
            ],
            [
             0.4,
             "#fde0ef"
            ],
            [
             0.5,
             "#f7f7f7"
            ],
            [
             0.6,
             "#e6f5d0"
            ],
            [
             0.7,
             "#b8e186"
            ],
            [
             0.8,
             "#7fbc41"
            ],
            [
             0.9,
             "#4d9221"
            ],
            [
             1,
             "#276419"
            ]
           ],
           "sequential": [
            [
             0,
             "#0d0887"
            ],
            [
             0.1111111111111111,
             "#46039f"
            ],
            [
             0.2222222222222222,
             "#7201a8"
            ],
            [
             0.3333333333333333,
             "#9c179e"
            ],
            [
             0.4444444444444444,
             "#bd3786"
            ],
            [
             0.5555555555555556,
             "#d8576b"
            ],
            [
             0.6666666666666666,
             "#ed7953"
            ],
            [
             0.7777777777777778,
             "#fb9f3a"
            ],
            [
             0.8888888888888888,
             "#fdca26"
            ],
            [
             1,
             "#f0f921"
            ]
           ],
           "sequentialminus": [
            [
             0,
             "#0d0887"
            ],
            [
             0.1111111111111111,
             "#46039f"
            ],
            [
             0.2222222222222222,
             "#7201a8"
            ],
            [
             0.3333333333333333,
             "#9c179e"
            ],
            [
             0.4444444444444444,
             "#bd3786"
            ],
            [
             0.5555555555555556,
             "#d8576b"
            ],
            [
             0.6666666666666666,
             "#ed7953"
            ],
            [
             0.7777777777777778,
             "#fb9f3a"
            ],
            [
             0.8888888888888888,
             "#fdca26"
            ],
            [
             1,
             "#f0f921"
            ]
           ]
          },
          "colorway": [
           "#636efa",
           "#EF553B",
           "#00cc96",
           "#ab63fa",
           "#FFA15A",
           "#19d3f3",
           "#FF6692",
           "#B6E880",
           "#FF97FF",
           "#FECB52"
          ],
          "font": {
           "color": "#2a3f5f"
          },
          "geo": {
           "bgcolor": "white",
           "lakecolor": "white",
           "landcolor": "#E5ECF6",
           "showlakes": true,
           "showland": true,
           "subunitcolor": "white"
          },
          "hoverlabel": {
           "align": "left"
          },
          "hovermode": "closest",
          "mapbox": {
           "style": "light"
          },
          "paper_bgcolor": "white",
          "plot_bgcolor": "#E5ECF6",
          "polar": {
           "angularaxis": {
            "gridcolor": "white",
            "linecolor": "white",
            "ticks": ""
           },
           "bgcolor": "#E5ECF6",
           "radialaxis": {
            "gridcolor": "white",
            "linecolor": "white",
            "ticks": ""
           }
          },
          "scene": {
           "xaxis": {
            "backgroundcolor": "#E5ECF6",
            "gridcolor": "white",
            "gridwidth": 2,
            "linecolor": "white",
            "showbackground": true,
            "ticks": "",
            "zerolinecolor": "white"
           },
           "yaxis": {
            "backgroundcolor": "#E5ECF6",
            "gridcolor": "white",
            "gridwidth": 2,
            "linecolor": "white",
            "showbackground": true,
            "ticks": "",
            "zerolinecolor": "white"
           },
           "zaxis": {
            "backgroundcolor": "#E5ECF6",
            "gridcolor": "white",
            "gridwidth": 2,
            "linecolor": "white",
            "showbackground": true,
            "ticks": "",
            "zerolinecolor": "white"
           }
          },
          "shapedefaults": {
           "line": {
            "color": "#2a3f5f"
           }
          },
          "ternary": {
           "aaxis": {
            "gridcolor": "white",
            "linecolor": "white",
            "ticks": ""
           },
           "baxis": {
            "gridcolor": "white",
            "linecolor": "white",
            "ticks": ""
           },
           "bgcolor": "#E5ECF6",
           "caxis": {
            "gridcolor": "white",
            "linecolor": "white",
            "ticks": ""
           }
          },
          "title": {
           "x": 0.05
          },
          "xaxis": {
           "automargin": true,
           "gridcolor": "white",
           "linecolor": "white",
           "ticks": "",
           "title": {
            "standoff": 15
           },
           "zerolinecolor": "white",
           "zerolinewidth": 2
          },
          "yaxis": {
           "automargin": true,
           "gridcolor": "white",
           "linecolor": "white",
           "ticks": "",
           "title": {
            "standoff": 15
           },
           "zerolinecolor": "white",
           "zerolinewidth": 2
          }
         }
        },
        "title": {
         "text": "Numbers of tree"
        },
        "xaxis": {
         "anchor": "y",
         "domain": [
          0,
          1
         ],
         "title": {
          "text": "x"
         }
        },
        "yaxis": {
         "anchor": "x",
         "domain": [
          0,
          1
         ],
         "title": {
          "text": "y"
         }
        }
       }
      }
     },
     "metadata": {}
    }
   ],
   "source": [
    "line_plot(range(1,592,10),list_scores,\"Numbers of tree\")"
   ]
  },
  {
   "source": [
    "#test 1 : n_estimators(1,200) opt = 71\n",
    "list_scores = []\n",
    "\n",
    "n_estimators = 200\n",
    "for i in range(1,200):\n",
    "    clf = GradientBoostingClassifier(n_estimators=i, learning_rate=1.0,\n",
    "    max_depth=1, random_state=0).fit(x_train, y_train)\n",
    "    y_pred = clf.predict(x_test)\n",
    "\n",
    "    score = f1_score(y_test,y_pred, average='weighted')\n",
    "    list_scores.append(score)"
   ],
   "cell_type": "code",
   "metadata": {},
   "execution_count": null,
   "outputs": []
  },
  {
   "cell_type": "code",
   "execution_count": 28,
   "metadata": {},
   "outputs": [
    {
     "output_type": "execute_result",
     "data": {
      "text/plain": [
       "{'n_estimators': [10, 50, 100, 500],\n",
       " 'learning_rate': [0.0001, 0.001, 0.01, 0.1, 1.0],\n",
       " 'subsample': [0.5, 0.7, 1.0],\n",
       " 'max_depth': [3, 7, 9]}"
      ]
     },
     "metadata": {},
     "execution_count": 28
    }
   ],
   "source": [
    "grid = dict()\n",
    "grid['n_estimators'] = [10, 50, 100, 500]\n",
    "grid['learning_rate'] = [0.0001, 0.001, 0.01, 0.1, 1.0]\n",
    "grid['subsample'] = [0.5, 0.7, 1.0]\n",
    "grid['max_depth'] = [3, 7, 9]\n",
    "grid"
   ]
  },
  {
   "cell_type": "code",
   "execution_count": 99,
   "metadata": {},
   "outputs": [],
   "source": [
    "model = GradientBoostingClassifier()\n",
    "grid_search = GridSearchCV(estimator=model, param_grid=grid, n_jobs=-1, scoring='accuracy')"
   ]
  },
  {
   "cell_type": "code",
   "execution_count": 100,
   "metadata": {},
   "outputs": [
    {
     "output_type": "stream",
     "name": "stdout",
     "text": [
      "Best: 0.922210 using {'learning_rate': 0.1, 'max_depth': 7, 'n_estimators': 100, 'subsample': 0.7}\n"
     ]
    }
   ],
   "source": [
    "grid_result = grid_search.fit(x_train, y_train)\n",
    "print(\"Best: %f using %s\" % (grid_result.best_score_, grid_result.best_params_))\n",
    "#Best: 0.922210 using {'learning_rate': 0.1, 'max_depth': 7, 'n_estimators': 100, 'subsample': 0.7}"
   ]
  },
  {
   "cell_type": "code",
   "execution_count": 25,
   "metadata": {},
   "outputs": [
    {
     "output_type": "execute_result",
     "data": {
      "text/plain": [
       "[0.959, 0.958, 0.956]"
      ]
     },
     "metadata": {},
     "execution_count": 25
    }
   ],
   "source": [
    "#algo_used = []\n",
    "\n",
    "algo_used.append(\"Gradient Boosting\")\n",
    "\n",
    "clf = GradientBoostingClassifier(n_estimators=100, learning_rate=0.1, max_depth=7, random_state=0,subsample=0.7).fit(x_train,y_train)\n",
    "y_pred = clf.predict(x_test)\n",
    "score = f1_score(y_test,y_pred, average='weighted')\n",
    "\n",
    "f1_score_weighted_avg.append(round(score,3))\n",
    "f1_score_weighted_avg"
   ]
  },
  {
   "source": [
    "# Results of the models"
   ],
   "cell_type": "markdown",
   "metadata": {}
  },
  {
   "cell_type": "code",
   "execution_count": 26,
   "metadata": {},
   "outputs": [
    {
     "output_type": "execute_result",
     "data": {
      "text/plain": [
       "   F1 score             Models\n",
       "0     0.959                KNN\n",
       "1     0.958      Random Forest\n",
       "2     0.956  Gradient Boosting"
      ],
      "text/html": "<div>\n<style scoped>\n    .dataframe tbody tr th:only-of-type {\n        vertical-align: middle;\n    }\n\n    .dataframe tbody tr th {\n        vertical-align: top;\n    }\n\n    .dataframe thead th {\n        text-align: right;\n    }\n</style>\n<table border=\"1\" class=\"dataframe\">\n  <thead>\n    <tr style=\"text-align: right;\">\n      <th></th>\n      <th>F1 score</th>\n      <th>Models</th>\n    </tr>\n  </thead>\n  <tbody>\n    <tr>\n      <th>0</th>\n      <td>0.959</td>\n      <td>KNN</td>\n    </tr>\n    <tr>\n      <th>1</th>\n      <td>0.958</td>\n      <td>Random Forest</td>\n    </tr>\n    <tr>\n      <th>2</th>\n      <td>0.956</td>\n      <td>Gradient Boosting</td>\n    </tr>\n  </tbody>\n</table>\n</div>"
     },
     "metadata": {},
     "execution_count": 26
    }
   ],
   "source": [
    "#dictonary = {}\n",
    "df = pd.DataFrame(list(zip(f1_score_weighted_avg,algo_used)),columns =[\"F1 score\",\"Models\"])\n",
    "df"
   ]
  },
  {
   "cell_type": "code",
   "execution_count": 221,
   "metadata": {},
   "outputs": [
    {
     "output_type": "execute_result",
     "data": {
      "text/plain": [
       "['KNN', 'Random Forest', 'Gradient Boosting']"
      ]
     },
     "metadata": {},
     "execution_count": 221
    }
   ],
   "source": [
    "algo_used"
   ]
  },
  {
   "source": [
    "fig,(ax1) = plt.subplots(figsize=(10,5))\n",
    "fig.tight_layout()\n",
    "\n",
    "#fig, axs = plt.subplots(1, 2,figsize=(10,5))\n",
    "ax1.bar([\"real\",\"predictions\"],pos,color='#c3d5e8',width=0.5)\n",
    "ax1.set_xlabel(\"positives\")\n",
    "ax1.set(frame_on=False)\n",
    "\n",
    "#ax1.set_ylim(0,1100)\n",
    "#ax1.set_xticklabels(labels =[\"real\",\"predictions\"], rotation=0)\n",
    "\n",
    "#for i in range(len(pos)):\n",
    "  #ax1.text(x = i -0.05, y = pos[i]+15, s = pos[i], size = 8)"
   ],
   "cell_type": "code",
   "metadata": {},
   "execution_count": null,
   "outputs": []
  },
  {
   "cell_type": "code",
   "execution_count": 38,
   "metadata": {},
   "outputs": [
    {
     "output_type": "display_data",
     "data": {
      "text/plain": "<Figure size 1080x576 with 1 Axes>",
      "image/svg+xml": "<?xml version=\"1.0\" encoding=\"utf-8\" standalone=\"no\"?>\r\n<!DOCTYPE svg PUBLIC \"-//W3C//DTD SVG 1.1//EN\"\r\n  \"http://www.w3.org/Graphics/SVG/1.1/DTD/svg11.dtd\">\r\n<!-- Created with matplotlib (https://matplotlib.org/) -->\r\n<svg height=\"489.255pt\" version=\"1.1\" viewBox=\"0 0 881.2 489.255\" width=\"881.2pt\" xmlns=\"http://www.w3.org/2000/svg\" xmlns:xlink=\"http://www.w3.org/1999/xlink\">\r\n <metadata>\r\n  <rdf:RDF xmlns:cc=\"http://creativecommons.org/ns#\" xmlns:dc=\"http://purl.org/dc/elements/1.1/\" xmlns:rdf=\"http://www.w3.org/1999/02/22-rdf-syntax-ns#\">\r\n   <cc:Work>\r\n    <dc:type rdf:resource=\"http://purl.org/dc/dcmitype/StillImage\"/>\r\n    <dc:date>2021-01-06T00:01:38.889375</dc:date>\r\n    <dc:format>image/svg+xml</dc:format>\r\n    <dc:creator>\r\n     <cc:Agent>\r\n      <dc:title>Matplotlib v3.3.2, https://matplotlib.org/</dc:title>\r\n     </cc:Agent>\r\n    </dc:creator>\r\n   </cc:Work>\r\n  </rdf:RDF>\r\n </metadata>\r\n <defs>\r\n  <style type=\"text/css\">*{stroke-linecap:butt;stroke-linejoin:round;}</style>\r\n </defs>\r\n <g id=\"figure_1\">\r\n  <g id=\"patch_1\">\r\n   <path d=\"M 0 489.255 \r\nL 881.2 489.255 \r\nL 881.2 0 \r\nL 0 0 \r\nz\r\n\" style=\"fill:none;\"/>\r\n  </g>\r\n  <g id=\"axes_1\">\r\n   <g id=\"patch_2\">\r\n    <path d=\"M 37 463.043437 \r\nL 874 463.043437 \r\nL 874 28.163437 \r\nL 37 28.163437 \r\nz\r\n\" style=\"fill:#ffffff;\"/>\r\n   </g>\r\n   <g id=\"patch_3\">\r\n    <path clip-path=\"url(#p742c3e167d)\" d=\"M 75.045455 2144.145153 \r\nL 227.227273 2144.145153 \r\nL 227.227273 128.924472 \r\nL 75.045455 128.924472 \r\nz\r\n\" style=\"fill:#3b479d;\"/>\r\n   </g>\r\n   <g id=\"patch_4\">\r\n    <path clip-path=\"url(#p742c3e167d)\" d=\"M 379.409091 2144.145153 \r\nL 531.590909 2144.145153 \r\nL 531.590909 131.025849 \r\nL 379.409091 131.025849 \r\nz\r\n\" style=\"fill:#3b479d;\"/>\r\n   </g>\r\n   <g id=\"patch_5\">\r\n    <path clip-path=\"url(#p742c3e167d)\" d=\"M 683.772727 2144.145153 \r\nL 835.954545 2144.145153 \r\nL 835.954545 135.228603 \r\nL 683.772727 135.228603 \r\nz\r\n\" style=\"fill:#3b479d;\"/>\r\n   </g>\r\n   <g id=\"matplotlib.axis_1\">\r\n    <g id=\"xtick_1\">\r\n     <g id=\"line2d_1\">\r\n      <defs>\r\n       <path d=\"M 0 0 \r\nL 0 3.5 \r\n\" id=\"m14bdc49eca\" style=\"stroke:#000000;stroke-width:0.8;\"/>\r\n      </defs>\r\n      <g>\r\n       <use style=\"stroke:#000000;stroke-width:0.8;\" x=\"151.136364\" xlink:href=\"#m14bdc49eca\" y=\"463.043437\"/>\r\n      </g>\r\n     </g>\r\n     <g id=\"text_1\">\r\n      <!-- KNN -->\r\n      <g transform=\"translate(138.463082 479.565625)scale(0.14 -0.14)\">\r\n       <defs>\r\n        <path d=\"M 49.609375 1.375 \r\nQ 49.609375 0.984375 49.4375 0.65625 \r\nQ 49.265625 0.34375 48.78125 0.140625 \r\nQ 48.296875 -0.046875 47.453125 -0.171875 \r\nQ 46.625 -0.296875 45.3125 -0.296875 \r\nQ 43.609375 -0.296875 42.53125 -0.140625 \r\nQ 41.453125 0 40.90625 0.390625 \r\nQ 40.375 0.78125 40.046875 1.265625 \r\nL 16.796875 32.859375 \r\nL 16.796875 1.265625 \r\nQ 16.796875 0.921875 16.59375 0.609375 \r\nQ 16.40625 0.296875 15.921875 0.125 \r\nQ 15.4375 -0.046875 14.625 -0.171875 \r\nQ 13.8125 -0.296875 12.59375 -0.296875 \r\nQ 11.421875 -0.296875 10.59375 -0.171875 \r\nQ 9.765625 -0.046875 9.28125 0.125 \r\nQ 8.796875 0.296875 8.59375 0.609375 \r\nQ 8.40625 0.921875 8.40625 1.265625 \r\nL 8.40625 61.921875 \r\nQ 8.40625 62.3125 8.59375 62.59375 \r\nQ 8.796875 62.890625 9.28125 63.0625 \r\nQ 9.765625 63.234375 10.59375 63.359375 \r\nQ 11.421875 63.484375 12.59375 63.484375 \r\nQ 13.8125 63.484375 14.625 63.359375 \r\nQ 15.4375 63.234375 15.921875 63.0625 \r\nQ 16.40625 62.890625 16.59375 62.59375 \r\nQ 16.796875 62.3125 16.796875 61.921875 \r\nL 16.796875 33.84375 \r\nL 39.15625 61.921875 \r\nQ 39.453125 62.359375 39.84375 62.640625 \r\nQ 40.234375 62.9375 40.796875 63.109375 \r\nQ 41.359375 63.28125 42.15625 63.375 \r\nQ 42.96875 63.484375 44.234375 63.484375 \r\nQ 45.515625 63.484375 46.296875 63.359375 \r\nQ 47.078125 63.234375 47.53125 63.03125 \r\nQ 48 62.84375 48.171875 62.546875 \r\nQ 48.34375 62.25 48.34375 61.921875 \r\nQ 48.34375 61.28125 48.015625 60.640625 \r\nQ 47.703125 60.015625 46.828125 58.890625 \r\nL 25.875 33.84375 \r\nL 48.4375 3.859375 \r\nQ 49.265625 2.59375 49.4375 2.125 \r\nQ 49.609375 1.65625 49.609375 1.375 \r\nz\r\n\" id=\"Calibri-75\"/>\r\n        <path d=\"M 56.15625 3.46875 \r\nQ 56.15625 2.484375 55.828125 1.796875 \r\nQ 55.515625 1.125 55 0.6875 \r\nQ 54.5 0.25 53.859375 0.046875 \r\nQ 53.21875 -0.140625 52.59375 -0.140625 \r\nL 49.90625 -0.140625 \r\nQ 48.640625 -0.140625 47.6875 0.125 \r\nQ 46.734375 0.390625 45.875 1.09375 \r\nQ 45.015625 1.8125 44.15625 3.03125 \r\nQ 43.3125 4.25 42.28125 6.15625 \r\nL 22.359375 42.09375 \r\nQ 20.796875 44.875 19.203125 47.921875 \r\nQ 17.625 50.984375 16.265625 53.859375 \r\nL 16.15625 53.859375 \r\nQ 16.265625 50.34375 16.3125 46.671875 \r\nQ 16.359375 43.015625 16.359375 39.40625 \r\nL 16.359375 1.265625 \r\nQ 16.359375 0.921875 16.15625 0.609375 \r\nQ 15.96875 0.296875 15.5 0.125 \r\nQ 15.046875 -0.046875 14.28125 -0.171875 \r\nQ 13.53125 -0.296875 12.359375 -0.296875 \r\nQ 11.1875 -0.296875 10.421875 -0.171875 \r\nQ 9.671875 -0.046875 9.234375 0.125 \r\nQ 8.796875 0.296875 8.59375 0.609375 \r\nQ 8.40625 0.921875 8.40625 1.265625 \r\nL 8.40625 59.578125 \r\nQ 8.40625 61.53125 9.46875 62.359375 \r\nQ 10.546875 63.1875 11.8125 63.1875 \r\nL 15.828125 63.1875 \r\nQ 17.234375 63.1875 18.1875 62.9375 \r\nQ 19.140625 62.703125 19.890625 62.140625 \r\nQ 20.65625 61.578125 21.359375 60.578125 \r\nQ 22.078125 59.578125 22.90625 58.0625 \r\nL 38.234375 30.328125 \r\nQ 39.65625 27.78125 40.96875 25.359375 \r\nQ 42.28125 22.953125 43.5 20.609375 \r\nQ 44.734375 18.265625 45.921875 15.984375 \r\nQ 47.125 13.71875 48.296875 11.421875 \r\nL 48.34375 11.421875 \r\nQ 48.25 15.28125 48.21875 19.453125 \r\nQ 48.1875 23.640625 48.1875 27.484375 \r\nL 48.1875 61.765625 \r\nQ 48.1875 62.109375 48.375 62.40625 \r\nQ 48.578125 62.703125 49.046875 62.921875 \r\nQ 49.515625 63.140625 50.265625 63.234375 \r\nQ 51.03125 63.328125 52.25 63.328125 \r\nQ 53.328125 63.328125 54.109375 63.234375 \r\nQ 54.890625 63.140625 55.328125 62.921875 \r\nQ 55.765625 62.703125 55.953125 62.40625 \r\nQ 56.15625 62.109375 56.15625 61.765625 \r\nz\r\n\" id=\"Calibri-78\"/>\r\n       </defs>\r\n       <use xlink:href=\"#Calibri-75\"/>\r\n       <use x=\"51.953125\" xlink:href=\"#Calibri-78\"/>\r\n       <use x=\"116.503906\" xlink:href=\"#Calibri-78\"/>\r\n      </g>\r\n     </g>\r\n    </g>\r\n    <g id=\"xtick_2\">\r\n     <g id=\"line2d_2\">\r\n      <g>\r\n       <use style=\"stroke:#000000;stroke-width:0.8;\" x=\"455.5\" xlink:href=\"#m14bdc49eca\" y=\"463.043437\"/>\r\n      </g>\r\n     </g>\r\n     <g id=\"text_2\">\r\n      <!-- Random Forest -->\r\n      <g transform=\"translate(412.305625 479.565625)scale(0.14 -0.14)\">\r\n       <defs>\r\n        <path d=\"M 50.53125 1.265625 \r\nQ 50.53125 0.875 50.390625 0.578125 \r\nQ 50.25 0.296875 49.75 0.09375 \r\nQ 49.265625 -0.09375 48.390625 -0.1875 \r\nQ 47.515625 -0.296875 46.046875 -0.296875 \r\nQ 44.78125 -0.296875 43.96875 -0.1875 \r\nQ 43.171875 -0.09375 42.671875 0.125 \r\nQ 42.1875 0.34375 41.921875 0.734375 \r\nQ 41.65625 1.125 41.453125 1.703125 \r\nL 35.640625 16.609375 \r\nQ 34.625 19.140625 33.515625 21.265625 \r\nQ 32.421875 23.390625 30.90625 24.921875 \r\nQ 29.390625 26.46875 27.34375 27.3125 \r\nQ 25.296875 28.171875 22.40625 28.171875 \r\nL 16.796875 28.171875 \r\nL 16.796875 1.265625 \r\nQ 16.796875 0.875 16.578125 0.578125 \r\nQ 16.359375 0.296875 15.890625 0.125 \r\nQ 15.4375 -0.046875 14.625 -0.171875 \r\nQ 13.8125 -0.296875 12.59375 -0.296875 \r\nQ 11.375 -0.296875 10.5625 -0.171875 \r\nQ 9.765625 -0.046875 9.28125 0.125 \r\nQ 8.796875 0.296875 8.59375 0.578125 \r\nQ 8.40625 0.875 8.40625 1.265625 \r\nL 8.40625 59.765625 \r\nQ 8.40625 61.671875 9.40625 62.421875 \r\nQ 10.40625 63.1875 11.53125 63.1875 \r\nL 24.953125 63.1875 \r\nQ 27.34375 63.1875 28.921875 63.0625 \r\nQ 30.515625 62.9375 31.78125 62.796875 \r\nQ 35.453125 62.15625 38.25 60.78125 \r\nQ 41.0625 59.421875 42.96875 57.3125 \r\nQ 44.875 55.21875 45.828125 52.515625 \r\nQ 46.78125 49.8125 46.78125 46.53125 \r\nQ 46.78125 43.359375 45.921875 40.84375 \r\nQ 45.0625 38.328125 43.453125 36.390625 \r\nQ 41.84375 34.46875 39.59375 33.046875 \r\nQ 37.359375 31.640625 34.578125 30.671875 \r\nQ 36.140625 29.984375 37.40625 28.921875 \r\nQ 38.671875 27.875 39.765625 26.40625 \r\nQ 40.875 24.953125 41.84375 23.046875 \r\nQ 42.828125 21.140625 43.796875 18.75 \r\nL 49.46875 4.828125 \r\nQ 50.140625 3.078125 50.328125 2.359375 \r\nQ 50.53125 1.65625 50.53125 1.265625 \r\nz\r\nM 37.890625 45.65625 \r\nQ 37.890625 49.359375 36.234375 51.921875 \r\nQ 34.578125 54.5 30.671875 55.609375 \r\nQ 29.4375 55.953125 27.90625 56.09375 \r\nQ 26.375 56.25 23.875 56.25 \r\nL 16.796875 56.25 \r\nL 16.796875 34.96875 \r\nL 25 34.96875 \r\nQ 28.328125 34.96875 30.734375 35.765625 \r\nQ 33.15625 36.578125 34.765625 38.015625 \r\nQ 36.375 39.453125 37.125 41.40625 \r\nQ 37.890625 43.359375 37.890625 45.65625 \r\nz\r\n\" id=\"Calibri-82\"/>\r\n        <path d=\"M 40.578125 1.171875 \r\nQ 40.578125 0.59375 40.1875 0.296875 \r\nQ 39.796875 0 39.109375 -0.140625 \r\nQ 38.421875 -0.296875 37.109375 -0.296875 \r\nQ 35.84375 -0.296875 35.078125 -0.140625 \r\nQ 34.328125 0 33.984375 0.296875 \r\nQ 33.640625 0.59375 33.640625 1.171875 \r\nL 33.640625 5.5625 \r\nQ 30.765625 2.484375 27.21875 0.78125 \r\nQ 23.6875 -0.921875 19.734375 -0.921875 \r\nQ 16.265625 -0.921875 13.453125 -0.015625 \r\nQ 10.640625 0.875 8.65625 2.578125 \r\nQ 6.6875 4.296875 5.59375 6.78125 \r\nQ 4.5 9.28125 4.5 12.453125 \r\nQ 4.5 16.15625 6 18.890625 \r\nQ 7.515625 21.625 10.34375 23.4375 \r\nQ 13.1875 25.25 17.28125 26.140625 \r\nQ 21.390625 27.046875 26.515625 27.046875 \r\nL 32.5625 27.046875 \r\nL 32.5625 30.46875 \r\nQ 32.5625 33.015625 32.03125 34.96875 \r\nQ 31.5 36.921875 30.296875 38.203125 \r\nQ 29.109375 39.5 27.203125 40.15625 \r\nQ 25.296875 40.828125 22.515625 40.828125 \r\nQ 19.53125 40.828125 17.15625 40.109375 \r\nQ 14.796875 39.40625 13.015625 38.546875 \r\nQ 11.234375 37.703125 10.03125 36.984375 \r\nQ 8.84375 36.28125 8.25 36.28125 \r\nQ 7.859375 36.28125 7.5625 36.46875 \r\nQ 7.28125 36.671875 7.0625 37.0625 \r\nQ 6.84375 37.453125 6.734375 38.0625 \r\nQ 6.640625 38.671875 6.640625 39.40625 \r\nQ 6.640625 40.625 6.8125 41.328125 \r\nQ 6.984375 42.046875 7.640625 42.671875 \r\nQ 8.296875 43.3125 9.90625 44.15625 \r\nQ 11.53125 45.015625 13.625 45.71875 \r\nQ 15.71875 46.4375 18.203125 46.890625 \r\nQ 20.703125 47.359375 23.25 47.359375 \r\nQ 27.984375 47.359375 31.296875 46.28125 \r\nQ 34.625 45.21875 36.671875 43.140625 \r\nQ 38.71875 41.0625 39.640625 37.984375 \r\nQ 40.578125 34.90625 40.578125 30.8125 \r\nz\r\nM 32.5625 21.234375 \r\nL 25.6875 21.234375 \r\nQ 22.359375 21.234375 19.921875 20.671875 \r\nQ 17.484375 20.125 15.875 19.015625 \r\nQ 14.265625 17.921875 13.5 16.375 \r\nQ 12.75 14.84375 12.75 12.84375 \r\nQ 12.75 9.421875 14.921875 7.390625 \r\nQ 17.09375 5.375 21 5.375 \r\nQ 24.171875 5.375 26.875 6.984375 \r\nQ 29.59375 8.59375 32.5625 11.921875 \r\nz\r\n\" id=\"Calibri-97\"/>\r\n        <path d=\"M 45.3125 1.21875 \r\nQ 45.3125 0.828125 45.109375 0.5625 \r\nQ 44.921875 0.296875 44.484375 0.09375 \r\nQ 44.046875 -0.09375 43.265625 -0.1875 \r\nQ 42.484375 -0.296875 41.3125 -0.296875 \r\nQ 40.09375 -0.296875 39.3125 -0.1875 \r\nQ 38.53125 -0.09375 38.078125 0.09375 \r\nQ 37.640625 0.296875 37.4375 0.5625 \r\nQ 37.25 0.828125 37.25 1.21875 \r\nL 37.25 26.953125 \r\nQ 37.25 30.71875 36.65625 33 \r\nQ 36.078125 35.296875 34.953125 36.953125 \r\nQ 33.84375 38.625 32.0625 39.5 \r\nQ 30.28125 40.375 27.9375 40.375 \r\nQ 24.90625 40.375 21.875 38.21875 \r\nQ 18.84375 36.078125 15.53125 31.9375 \r\nL 15.53125 1.21875 \r\nQ 15.53125 0.828125 15.328125 0.5625 \r\nQ 15.140625 0.296875 14.703125 0.09375 \r\nQ 14.265625 -0.09375 13.484375 -0.1875 \r\nQ 12.703125 -0.296875 11.46875 -0.296875 \r\nQ 10.296875 -0.296875 9.515625 -0.1875 \r\nQ 8.734375 -0.09375 8.265625 0.09375 \r\nQ 7.8125 0.296875 7.640625 0.5625 \r\nQ 7.46875 0.828125 7.46875 1.21875 \r\nL 7.46875 45.171875 \r\nQ 7.46875 45.5625 7.609375 45.828125 \r\nQ 7.765625 46.09375 8.203125 46.3125 \r\nQ 8.640625 46.53125 9.328125 46.609375 \r\nQ 10.015625 46.6875 11.140625 46.6875 \r\nQ 12.203125 46.6875 12.90625 46.609375 \r\nQ 13.625 46.53125 14.015625 46.3125 \r\nQ 14.40625 46.09375 14.578125 45.828125 \r\nQ 14.75 45.5625 14.75 45.171875 \r\nL 14.75 39.359375 \r\nQ 18.453125 43.5 22.140625 45.421875 \r\nQ 25.828125 47.359375 29.59375 47.359375 \r\nQ 33.984375 47.359375 36.984375 45.875 \r\nQ 39.984375 44.390625 41.84375 41.890625 \r\nQ 43.703125 39.40625 44.5 36.0625 \r\nQ 45.3125 32.71875 45.3125 28.03125 \r\nz\r\n\" id=\"Calibri-110\"/>\r\n        <path d=\"M 45.125 1.21875 \r\nQ 45.125 0.828125 44.953125 0.53125 \r\nQ 44.78125 0.25 44.359375 0.078125 \r\nQ 43.953125 -0.09375 43.265625 -0.1875 \r\nQ 42.578125 -0.296875 41.609375 -0.296875 \r\nQ 40.578125 -0.296875 39.890625 -0.1875 \r\nQ 39.203125 -0.09375 38.765625 0.078125 \r\nQ 38.328125 0.25 38.125 0.53125 \r\nQ 37.9375 0.828125 37.9375 1.21875 \r\nL 37.9375 7.03125 \r\nQ 34.46875 3.265625 30.734375 1.171875 \r\nQ 27 -0.921875 22.5625 -0.921875 \r\nQ 17.71875 -0.921875 14.296875 0.953125 \r\nQ 10.890625 2.828125 8.765625 6.03125 \r\nQ 6.640625 9.234375 5.65625 13.546875 \r\nQ 4.6875 17.875 4.6875 22.65625 \r\nQ 4.6875 28.328125 5.90625 32.890625 \r\nQ 7.125 37.453125 9.515625 40.671875 \r\nQ 11.921875 43.890625 15.453125 45.625 \r\nQ 19 47.359375 23.640625 47.359375 \r\nQ 27.484375 47.359375 30.6875 45.671875 \r\nQ 33.890625 44 37.015625 40.71875 \r\nL 37.015625 66.265625 \r\nQ 37.015625 66.609375 37.1875 66.921875 \r\nQ 37.359375 67.234375 37.84375 67.40625 \r\nQ 38.328125 67.578125 39.078125 67.703125 \r\nQ 39.84375 67.828125 41.015625 67.828125 \r\nQ 42.234375 67.828125 43.015625 67.703125 \r\nQ 43.796875 67.578125 44.234375 67.40625 \r\nQ 44.671875 67.234375 44.890625 66.921875 \r\nQ 45.125 66.609375 45.125 66.265625 \r\nz\r\nM 37.015625 32.125 \r\nQ 33.734375 36.1875 30.6875 38.3125 \r\nQ 27.640625 40.4375 24.3125 40.4375 \r\nQ 21.234375 40.4375 19.078125 38.96875 \r\nQ 16.9375 37.5 15.59375 35.109375 \r\nQ 14.265625 32.71875 13.640625 29.6875 \r\nQ 13.03125 26.65625 13.03125 23.53125 \r\nQ 13.03125 20.21875 13.546875 17.046875 \r\nQ 14.0625 13.875 15.328125 11.40625 \r\nQ 16.609375 8.9375 18.703125 7.4375 \r\nQ 20.796875 5.953125 23.96875 5.953125 \r\nQ 25.59375 5.953125 27.078125 6.390625 \r\nQ 28.5625 6.84375 30.125 7.859375 \r\nQ 31.6875 8.890625 33.390625 10.515625 \r\nQ 35.109375 12.15625 37.015625 14.546875 \r\nz\r\n\" id=\"Calibri-100\"/>\r\n        <path d=\"M 48.34375 23.6875 \r\nQ 48.34375 18.3125 46.921875 13.796875 \r\nQ 45.515625 9.28125 42.703125 6 \r\nQ 39.890625 2.734375 35.671875 0.90625 \r\nQ 31.453125 -0.921875 25.875 -0.921875 \r\nQ 20.453125 -0.921875 16.421875 0.6875 \r\nQ 12.40625 2.296875 9.71875 5.375 \r\nQ 7.03125 8.453125 5.703125 12.84375 \r\nQ 4.390625 17.234375 4.390625 22.796875 \r\nQ 4.390625 28.171875 5.78125 32.6875 \r\nQ 7.171875 37.203125 9.984375 40.46875 \r\nQ 12.796875 43.75 16.984375 45.546875 \r\nQ 21.1875 47.359375 26.8125 47.359375 \r\nQ 32.234375 47.359375 36.25 45.75 \r\nQ 40.28125 44.140625 42.96875 41.0625 \r\nQ 45.65625 37.984375 47 33.59375 \r\nQ 48.34375 29.203125 48.34375 23.6875 \r\nz\r\nM 39.84375 23.140625 \r\nQ 39.84375 26.703125 39.1875 29.875 \r\nQ 38.53125 33.0625 37.015625 35.453125 \r\nQ 35.5 37.84375 32.90625 39.234375 \r\nQ 30.328125 40.625 26.46875 40.625 \r\nQ 22.90625 40.625 20.34375 39.359375 \r\nQ 17.78125 38.09375 16.109375 35.765625 \r\nQ 14.453125 33.453125 13.640625 30.265625 \r\nQ 12.84375 27.09375 12.84375 23.34375 \r\nQ 12.84375 19.734375 13.5 16.546875 \r\nQ 14.15625 13.375 15.6875 11 \r\nQ 17.234375 8.640625 19.8125 7.25 \r\nQ 22.40625 5.859375 26.265625 5.859375 \r\nQ 29.78125 5.859375 32.375 7.125 \r\nQ 34.96875 8.40625 36.625 10.6875 \r\nQ 38.28125 12.984375 39.0625 16.15625 \r\nQ 39.84375 19.34375 39.84375 23.140625 \r\nz\r\n\" id=\"Calibri-111\"/>\r\n        <path d=\"M 72.65625 1.21875 \r\nQ 72.65625 0.828125 72.453125 0.5625 \r\nQ 72.265625 0.296875 71.828125 0.09375 \r\nQ 71.390625 -0.09375 70.609375 -0.1875 \r\nQ 69.828125 -0.296875 68.65625 -0.296875 \r\nQ 67.4375 -0.296875 66.65625 -0.1875 \r\nQ 65.875 -0.09375 65.40625 0.09375 \r\nQ 64.9375 0.296875 64.734375 0.5625 \r\nQ 64.546875 0.828125 64.546875 1.21875 \r\nL 64.546875 27.9375 \r\nQ 64.546875 30.71875 64.0625 33 \r\nQ 63.578125 35.296875 62.5 36.953125 \r\nQ 61.421875 38.625 59.765625 39.5 \r\nQ 58.109375 40.375 55.859375 40.375 \r\nQ 53.078125 40.375 50.265625 38.21875 \r\nQ 47.46875 36.078125 44.09375 31.9375 \r\nL 44.09375 1.21875 \r\nQ 44.09375 0.828125 43.890625 0.5625 \r\nQ 43.703125 0.296875 43.234375 0.09375 \r\nQ 42.78125 -0.09375 42 -0.1875 \r\nQ 41.21875 -0.296875 40.046875 -0.296875 \r\nQ 38.921875 -0.296875 38.109375 -0.1875 \r\nQ 37.3125 -0.09375 36.84375 0.09375 \r\nQ 36.375 0.296875 36.203125 0.5625 \r\nQ 36.03125 0.828125 36.03125 1.21875 \r\nL 36.03125 27.9375 \r\nQ 36.03125 30.71875 35.5 33 \r\nQ 34.96875 35.296875 33.890625 36.953125 \r\nQ 32.8125 38.625 31.171875 39.5 \r\nQ 29.546875 40.375 27.296875 40.375 \r\nQ 24.515625 40.375 21.671875 38.21875 \r\nQ 18.84375 36.078125 15.53125 31.9375 \r\nL 15.53125 1.21875 \r\nQ 15.53125 0.828125 15.328125 0.5625 \r\nQ 15.140625 0.296875 14.703125 0.09375 \r\nQ 14.265625 -0.09375 13.484375 -0.1875 \r\nQ 12.703125 -0.296875 11.46875 -0.296875 \r\nQ 10.296875 -0.296875 9.515625 -0.1875 \r\nQ 8.734375 -0.09375 8.265625 0.09375 \r\nQ 7.8125 0.296875 7.640625 0.5625 \r\nQ 7.46875 0.828125 7.46875 1.21875 \r\nL 7.46875 45.171875 \r\nQ 7.46875 45.5625 7.609375 45.828125 \r\nQ 7.765625 46.09375 8.203125 46.3125 \r\nQ 8.640625 46.53125 9.328125 46.609375 \r\nQ 10.015625 46.6875 11.140625 46.6875 \r\nQ 12.203125 46.6875 12.90625 46.609375 \r\nQ 13.625 46.53125 14.015625 46.3125 \r\nQ 14.40625 46.09375 14.578125 45.828125 \r\nQ 14.75 45.5625 14.75 45.171875 \r\nL 14.75 39.359375 \r\nQ 18.453125 43.5 21.9375 45.421875 \r\nQ 25.4375 47.359375 29 47.359375 \r\nQ 31.734375 47.359375 33.90625 46.71875 \r\nQ 36.078125 46.09375 37.734375 44.9375 \r\nQ 39.40625 43.796875 40.578125 42.203125 \r\nQ 41.75 40.625 42.53125 38.671875 \r\nQ 44.734375 41.0625 46.703125 42.71875 \r\nQ 48.6875 44.390625 50.515625 45.40625 \r\nQ 52.34375 46.4375 54.078125 46.890625 \r\nQ 55.8125 47.359375 57.5625 47.359375 \r\nQ 61.8125 47.359375 64.6875 45.875 \r\nQ 67.578125 44.390625 69.359375 41.890625 \r\nQ 71.140625 39.40625 71.890625 36.0625 \r\nQ 72.65625 32.71875 72.65625 29 \r\nz\r\n\" id=\"Calibri-109\"/>\r\n        <path id=\"Calibri-32\"/>\r\n        <path d=\"M 41.609375 59.578125 \r\nQ 41.609375 58.640625 41.5 57.953125 \r\nQ 41.40625 57.28125 41.15625 56.859375 \r\nQ 40.921875 56.453125 40.59375 56.25 \r\nQ 40.28125 56.0625 39.9375 56.0625 \r\nL 16.796875 56.0625 \r\nL 16.796875 34.578125 \r\nL 38.671875 34.578125 \r\nQ 39.015625 34.578125 39.328125 34.40625 \r\nQ 39.65625 34.234375 39.890625 33.84375 \r\nQ 40.140625 33.453125 40.234375 32.78125 \r\nQ 40.328125 32.125 40.328125 31.109375 \r\nQ 40.328125 30.171875 40.234375 29.515625 \r\nQ 40.140625 28.859375 39.890625 28.4375 \r\nQ 39.65625 28.03125 39.328125 27.8125 \r\nQ 39.015625 27.59375 38.671875 27.59375 \r\nL 16.796875 27.59375 \r\nL 16.796875 1.265625 \r\nQ 16.796875 0.921875 16.59375 0.609375 \r\nQ 16.40625 0.296875 15.921875 0.125 \r\nQ 15.4375 -0.046875 14.65625 -0.171875 \r\nQ 13.875 -0.296875 12.59375 -0.296875 \r\nQ 11.421875 -0.296875 10.59375 -0.171875 \r\nQ 9.765625 -0.046875 9.28125 0.125 \r\nQ 8.796875 0.296875 8.59375 0.609375 \r\nQ 8.40625 0.921875 8.40625 1.265625 \r\nL 8.40625 59.765625 \r\nQ 8.40625 61.671875 9.40625 62.421875 \r\nQ 10.40625 63.1875 11.53125 63.1875 \r\nL 39.9375 63.1875 \r\nQ 40.28125 63.1875 40.59375 62.984375 \r\nQ 40.921875 62.796875 41.15625 62.359375 \r\nQ 41.40625 61.921875 41.5 61.203125 \r\nQ 41.609375 60.5 41.609375 59.578125 \r\nz\r\n\" id=\"Calibri-70\"/>\r\n        <path d=\"M 33.15625 42.28125 \r\nQ 33.15625 41.21875 33.109375 40.484375 \r\nQ 33.0625 39.75 32.90625 39.328125 \r\nQ 32.765625 38.921875 32.546875 38.703125 \r\nQ 32.328125 38.484375 31.9375 38.484375 \r\nQ 31.546875 38.484375 30.984375 38.703125 \r\nQ 30.421875 38.921875 29.703125 39.140625 \r\nQ 29 39.359375 28.125 39.546875 \r\nQ 27.25 39.75 26.21875 39.75 \r\nQ 25 39.75 23.828125 39.25 \r\nQ 22.65625 38.765625 21.359375 37.640625 \r\nQ 20.0625 36.53125 18.640625 34.671875 \r\nQ 17.234375 32.8125 15.53125 30.125 \r\nL 15.53125 1.21875 \r\nQ 15.53125 0.828125 15.328125 0.5625 \r\nQ 15.140625 0.296875 14.703125 0.09375 \r\nQ 14.265625 -0.09375 13.484375 -0.1875 \r\nQ 12.703125 -0.296875 11.46875 -0.296875 \r\nQ 10.296875 -0.296875 9.515625 -0.1875 \r\nQ 8.734375 -0.09375 8.265625 0.09375 \r\nQ 7.8125 0.296875 7.640625 0.5625 \r\nQ 7.46875 0.828125 7.46875 1.21875 \r\nL 7.46875 45.171875 \r\nQ 7.46875 45.5625 7.609375 45.828125 \r\nQ 7.765625 46.09375 8.203125 46.3125 \r\nQ 8.640625 46.53125 9.328125 46.609375 \r\nQ 10.015625 46.6875 11.140625 46.6875 \r\nQ 12.203125 46.6875 12.90625 46.609375 \r\nQ 13.625 46.53125 14.015625 46.3125 \r\nQ 14.40625 46.09375 14.578125 45.828125 \r\nQ 14.75 45.5625 14.75 45.171875 \r\nL 14.75 38.765625 \r\nQ 16.546875 41.40625 18.140625 43.0625 \r\nQ 19.734375 44.734375 21.140625 45.671875 \r\nQ 22.5625 46.625 23.953125 46.984375 \r\nQ 25.34375 47.359375 26.765625 47.359375 \r\nQ 27.390625 47.359375 28.1875 47.28125 \r\nQ 29 47.21875 29.875 47.015625 \r\nQ 30.765625 46.828125 31.46875 46.578125 \r\nQ 32.171875 46.34375 32.46875 46.09375 \r\nQ 32.765625 45.84375 32.859375 45.625 \r\nQ 32.953125 45.40625 33.03125 45.0625 \r\nQ 33.109375 44.734375 33.125 44.0625 \r\nQ 33.15625 43.40625 33.15625 42.28125 \r\nz\r\n\" id=\"Calibri-114\"/>\r\n        <path d=\"M 44.96875 25.09375 \r\nQ 44.96875 23.1875 44.015625 22.375 \r\nQ 43.0625 21.578125 41.84375 21.578125 \r\nL 13.03125 21.578125 \r\nQ 13.03125 17.921875 13.765625 14.984375 \r\nQ 14.5 12.0625 16.203125 9.953125 \r\nQ 17.921875 7.859375 20.65625 6.734375 \r\nQ 23.390625 5.609375 27.34375 5.609375 \r\nQ 30.46875 5.609375 32.90625 6.125 \r\nQ 35.359375 6.640625 37.140625 7.265625 \r\nQ 38.921875 7.90625 40.0625 8.421875 \r\nQ 41.21875 8.9375 41.796875 8.9375 \r\nQ 42.140625 8.9375 42.40625 8.765625 \r\nQ 42.671875 8.59375 42.8125 8.25 \r\nQ 42.96875 7.90625 43.03125 7.296875 \r\nQ 43.109375 6.6875 43.109375 5.8125 \r\nQ 43.109375 5.171875 43.0625 4.703125 \r\nQ 43.015625 4.25 42.9375 3.875 \r\nQ 42.875 3.515625 42.703125 3.21875 \r\nQ 42.53125 2.9375 42.265625 2.65625 \r\nQ 42 2.390625 40.671875 1.78125 \r\nQ 39.359375 1.171875 37.25 0.578125 \r\nQ 35.15625 0 32.390625 -0.453125 \r\nQ 29.640625 -0.921875 26.515625 -0.921875 \r\nQ 21.09375 -0.921875 17.015625 0.578125 \r\nQ 12.9375 2.09375 10.15625 5.078125 \r\nQ 7.375 8.0625 5.953125 12.546875 \r\nQ 4.546875 17.046875 4.546875 23 \r\nQ 4.546875 28.65625 6 33.171875 \r\nQ 7.46875 37.703125 10.21875 40.84375 \r\nQ 12.984375 44 16.890625 45.671875 \r\nQ 20.796875 47.359375 25.640625 47.359375 \r\nQ 30.8125 47.359375 34.453125 45.703125 \r\nQ 38.09375 44.046875 40.4375 41.234375 \r\nQ 42.78125 38.421875 43.875 34.640625 \r\nQ 44.96875 30.859375 44.96875 26.5625 \r\nz\r\nM 36.859375 27.484375 \r\nQ 37.015625 33.84375 34.0625 37.453125 \r\nQ 31.109375 41.0625 25.296875 41.0625 \r\nQ 22.3125 41.0625 20.0625 39.9375 \r\nQ 17.828125 38.8125 16.3125 36.953125 \r\nQ 14.796875 35.109375 13.96875 32.640625 \r\nQ 13.140625 30.171875 13.03125 27.484375 \r\nz\r\n\" id=\"Calibri-101\"/>\r\n        <path d=\"M 35.0625 13.1875 \r\nQ 35.0625 9.8125 33.8125 7.171875 \r\nQ 32.5625 4.546875 30.265625 2.734375 \r\nQ 27.984375 0.921875 24.796875 0 \r\nQ 21.625 -0.921875 17.828125 -0.921875 \r\nQ 15.484375 -0.921875 13.359375 -0.5625 \r\nQ 11.234375 -0.203125 9.546875 0.359375 \r\nQ 7.859375 0.921875 6.6875 1.53125 \r\nQ 5.515625 2.15625 4.96875 2.640625 \r\nQ 4.4375 3.125 4.1875 4 \r\nQ 3.953125 4.890625 3.953125 6.390625 \r\nQ 3.953125 7.328125 4.046875 7.953125 \r\nQ 4.15625 8.59375 4.296875 8.984375 \r\nQ 4.4375 9.375 4.703125 9.546875 \r\nQ 4.984375 9.71875 5.328125 9.71875 \r\nQ 5.859375 9.71875 6.90625 9.0625 \r\nQ 7.953125 8.40625 9.484375 7.625 \r\nQ 11.03125 6.84375 13.125 6.171875 \r\nQ 15.234375 5.515625 17.96875 5.515625 \r\nQ 20.015625 5.515625 21.671875 5.953125 \r\nQ 23.34375 6.390625 24.5625 7.25 \r\nQ 25.78125 8.109375 26.4375 9.421875 \r\nQ 27.09375 10.75 27.09375 12.546875 \r\nQ 27.09375 14.40625 26.140625 15.671875 \r\nQ 25.203125 16.9375 23.640625 17.90625 \r\nQ 22.078125 18.890625 20.125 19.640625 \r\nQ 18.171875 20.40625 16.09375 21.234375 \r\nQ 14.015625 22.078125 12.03125 23.125 \r\nQ 10.0625 24.171875 8.5 25.6875 \r\nQ 6.9375 27.203125 5.984375 29.296875 \r\nQ 5.03125 31.390625 5.03125 34.328125 \r\nQ 5.03125 36.921875 6.03125 39.28125 \r\nQ 7.03125 41.65625 9.03125 43.4375 \r\nQ 11.03125 45.21875 14.03125 46.28125 \r\nQ 17.046875 47.359375 21.046875 47.359375 \r\nQ 22.796875 47.359375 24.546875 47.0625 \r\nQ 26.3125 46.78125 27.734375 46.34375 \r\nQ 29.15625 45.90625 30.15625 45.390625 \r\nQ 31.15625 44.875 31.65625 44.484375 \r\nQ 32.171875 44.09375 32.34375 43.796875 \r\nQ 32.515625 43.5 32.59375 43.140625 \r\nQ 32.671875 42.78125 32.734375 42.234375 \r\nQ 32.8125 41.703125 32.8125 40.921875 \r\nQ 32.8125 40.09375 32.734375 39.484375 \r\nQ 32.671875 38.875 32.5 38.484375 \r\nQ 32.328125 38.09375 32.078125 37.921875 \r\nQ 31.84375 37.75 31.546875 37.75 \r\nQ 31.109375 37.75 30.265625 38.28125 \r\nQ 29.4375 38.8125 28.125 39.421875 \r\nQ 26.8125 40.046875 25.03125 40.578125 \r\nQ 23.25 41.109375 20.953125 41.109375 \r\nQ 18.890625 41.109375 17.328125 40.640625 \r\nQ 15.765625 40.1875 14.765625 39.328125 \r\nQ 13.765625 38.484375 13.25 37.3125 \r\nQ 12.75 36.140625 12.75 34.765625 \r\nQ 12.75 32.859375 13.71875 31.5625 \r\nQ 14.703125 30.28125 16.265625 29.296875 \r\nQ 17.828125 28.328125 19.828125 27.546875 \r\nQ 21.828125 26.765625 23.90625 25.921875 \r\nQ 25.984375 25.09375 28 24.0625 \r\nQ 30.03125 23.046875 31.59375 21.578125 \r\nQ 33.15625 20.125 34.109375 18.0625 \r\nQ 35.0625 16.015625 35.0625 13.1875 \r\nz\r\n\" id=\"Calibri-115\"/>\r\n        <path d=\"M 30.328125 4.4375 \r\nQ 30.328125 3.03125 30.125 2.203125 \r\nQ 29.9375 1.375 29.546875 0.984375 \r\nQ 29.15625 0.59375 28.375 0.25 \r\nQ 27.59375 -0.09375 26.59375 -0.3125 \r\nQ 25.59375 -0.53125 24.46875 -0.671875 \r\nQ 23.34375 -0.828125 22.21875 -0.828125 \r\nQ 18.796875 -0.828125 16.359375 0.078125 \r\nQ 13.921875 0.984375 12.359375 2.8125 \r\nQ 10.796875 4.640625 10.078125 7.4375 \r\nQ 9.375 10.25 9.375 14.0625 \r\nL 9.375 39.75 \r\nL 3.21875 39.75 \r\nQ 2.484375 39.75 2.046875 40.53125 \r\nQ 1.609375 41.3125 1.609375 43.0625 \r\nQ 1.609375 44 1.734375 44.625 \r\nQ 1.859375 45.265625 2.046875 45.671875 \r\nQ 2.25 46.09375 2.5625 46.265625 \r\nQ 2.875 46.4375 3.265625 46.4375 \r\nL 9.375 46.4375 \r\nL 9.375 56.890625 \r\nQ 9.375 57.234375 9.546875 57.515625 \r\nQ 9.71875 57.8125 10.171875 58.03125 \r\nQ 10.640625 58.25 11.421875 58.34375 \r\nQ 12.203125 58.453125 13.375 58.453125 \r\nQ 14.59375 58.453125 15.375 58.34375 \r\nQ 16.15625 58.25 16.59375 58.03125 \r\nQ 17.046875 57.8125 17.234375 57.515625 \r\nQ 17.4375 57.234375 17.4375 56.890625 \r\nL 17.4375 46.4375 \r\nL 28.71875 46.4375 \r\nQ 29.109375 46.4375 29.390625 46.265625 \r\nQ 29.6875 46.09375 29.90625 45.671875 \r\nQ 30.125 45.265625 30.21875 44.625 \r\nQ 30.328125 44 30.328125 43.0625 \r\nQ 30.328125 41.3125 29.875 40.53125 \r\nQ 29.4375 39.75 28.71875 39.75 \r\nL 17.4375 39.75 \r\nL 17.4375 15.234375 \r\nQ 17.4375 10.6875 18.78125 8.375 \r\nQ 20.125 6.0625 23.578125 6.0625 \r\nQ 24.703125 6.0625 25.578125 6.28125 \r\nQ 26.46875 6.5 27.140625 6.734375 \r\nQ 27.828125 6.984375 28.3125 7.203125 \r\nQ 28.8125 7.421875 29.203125 7.421875 \r\nQ 29.4375 7.421875 29.65625 7.296875 \r\nQ 29.890625 7.171875 30 6.828125 \r\nQ 30.125 6.5 30.21875 5.90625 \r\nQ 30.328125 5.328125 30.328125 4.4375 \r\nz\r\n\" id=\"Calibri-116\"/>\r\n       </defs>\r\n       <use xlink:href=\"#Calibri-82\"/>\r\n       <use x=\"54.296875\" xlink:href=\"#Calibri-97\"/>\r\n       <use x=\"102.197266\" xlink:href=\"#Calibri-110\"/>\r\n       <use x=\"154.736328\" xlink:href=\"#Calibri-100\"/>\r\n       <use x=\"207.275391\" xlink:href=\"#Calibri-111\"/>\r\n       <use x=\"260.009766\" xlink:href=\"#Calibri-109\"/>\r\n       <use x=\"339.892578\" xlink:href=\"#Calibri-32\"/>\r\n       <use x=\"362.5\" xlink:href=\"#Calibri-70\"/>\r\n       <use x=\"407.072266\" xlink:href=\"#Calibri-111\"/>\r\n       <use x=\"459.806641\" xlink:href=\"#Calibri-114\"/>\r\n       <use x=\"494.669922\" xlink:href=\"#Calibri-101\"/>\r\n       <use x=\"544.425781\" xlink:href=\"#Calibri-115\"/>\r\n       <use x=\"583.537109\" xlink:href=\"#Calibri-116\"/>\r\n      </g>\r\n     </g>\r\n    </g>\r\n    <g id=\"xtick_3\">\r\n     <g id=\"line2d_3\">\r\n      <g>\r\n       <use style=\"stroke:#000000;stroke-width:0.8;\" x=\"759.863636\" xlink:href=\"#m14bdc49eca\" y=\"463.043437\"/>\r\n      </g>\r\n     </g>\r\n     <g id=\"text_3\">\r\n      <!-- Gradient Boosting -->\r\n      <g transform=\"translate(708.426761 479.559062)scale(0.14 -0.14)\">\r\n       <defs>\r\n        <path d=\"M 55.859375 54.59375 \r\nQ 55.859375 53.65625 55.765625 52.953125 \r\nQ 55.671875 52.25 55.46875 51.78125 \r\nQ 55.28125 51.3125 54.984375 51.109375 \r\nQ 54.6875 50.921875 54.34375 50.921875 \r\nQ 53.765625 50.921875 52.390625 51.84375 \r\nQ 51.03125 52.78125 48.734375 53.90625 \r\nQ 46.4375 55.03125 43.234375 55.953125 \r\nQ 40.046875 56.890625 35.640625 56.890625 \r\nQ 30.421875 56.890625 26.265625 54.984375 \r\nQ 22.125 53.078125 19.234375 49.703125 \r\nQ 16.359375 46.34375 14.8125 41.703125 \r\nQ 13.28125 37.0625 13.28125 31.640625 \r\nQ 13.28125 25.59375 14.96875 20.90625 \r\nQ 16.65625 16.21875 19.625 12.984375 \r\nQ 22.609375 9.765625 26.734375 8.109375 \r\nQ 30.859375 6.453125 35.796875 6.453125 \r\nQ 38.71875 6.453125 41.71875 7.15625 \r\nQ 44.734375 7.859375 47.3125 9.28125 \r\nL 47.3125 27.6875 \r\nL 32.671875 27.6875 \r\nQ 31.84375 27.6875 31.421875 28.515625 \r\nQ 31 29.34375 31 31.109375 \r\nQ 31 32.03125 31.09375 32.6875 \r\nQ 31.203125 33.34375 31.421875 33.765625 \r\nQ 31.640625 34.1875 31.9375 34.375 \r\nQ 32.234375 34.578125 32.671875 34.578125 \r\nL 52.734375 34.578125 \r\nQ 53.265625 34.578125 53.796875 34.375 \r\nQ 54.34375 34.1875 54.78125 33.796875 \r\nQ 55.21875 33.40625 55.46875 32.71875 \r\nQ 55.71875 32.03125 55.71875 31.15625 \r\nL 55.71875 7.078125 \r\nQ 55.71875 5.8125 55.265625 4.875 \r\nQ 54.828125 3.953125 53.40625 3.25 \r\nQ 52 2.546875 49.75 1.703125 \r\nQ 47.515625 0.875 45.109375 0.28125 \r\nQ 42.71875 -0.296875 40.28125 -0.578125 \r\nQ 37.84375 -0.875 35.453125 -0.875 \r\nQ 28.125 -0.875 22.359375 1.390625 \r\nQ 16.609375 3.65625 12.625 7.859375 \r\nQ 8.640625 12.0625 6.53125 17.921875 \r\nQ 4.4375 23.78125 4.4375 31 \r\nQ 4.4375 38.53125 6.703125 44.625 \r\nQ 8.984375 50.734375 13.109375 55.03125 \r\nQ 17.234375 59.328125 23.015625 61.6875 \r\nQ 28.8125 64.0625 35.84375 64.0625 \r\nQ 39.453125 64.0625 42.625 63.421875 \r\nQ 45.796875 62.796875 48.265625 61.9375 \r\nQ 50.734375 61.078125 52.421875 60.078125 \r\nQ 54.109375 59.078125 54.734375 58.4375 \r\nQ 55.375 57.8125 55.609375 56.984375 \r\nQ 55.859375 56.15625 55.859375 54.59375 \r\nz\r\n\" id=\"Calibri-71\"/>\r\n        <path d=\"M 15.53125 1.21875 \r\nQ 15.53125 0.828125 15.328125 0.5625 \r\nQ 15.140625 0.296875 14.703125 0.09375 \r\nQ 14.265625 -0.09375 13.484375 -0.1875 \r\nQ 12.703125 -0.296875 11.46875 -0.296875 \r\nQ 10.296875 -0.296875 9.515625 -0.1875 \r\nQ 8.734375 -0.09375 8.265625 0.09375 \r\nQ 7.8125 0.296875 7.640625 0.5625 \r\nQ 7.46875 0.828125 7.46875 1.21875 \r\nL 7.46875 45.171875 \r\nQ 7.46875 45.515625 7.640625 45.796875 \r\nQ 7.8125 46.09375 8.265625 46.28125 \r\nQ 8.734375 46.484375 9.515625 46.578125 \r\nQ 10.296875 46.6875 11.46875 46.6875 \r\nQ 12.703125 46.6875 13.484375 46.578125 \r\nQ 14.265625 46.484375 14.703125 46.28125 \r\nQ 15.140625 46.09375 15.328125 45.796875 \r\nQ 15.53125 45.515625 15.53125 45.171875 \r\nz\r\nM 16.453125 60.015625 \r\nQ 16.453125 57.171875 15.375 56.140625 \r\nQ 14.3125 55.125 11.421875 55.125 \r\nQ 8.59375 55.125 7.546875 56.125 \r\nQ 6.5 57.125 6.5 59.90625 \r\nQ 6.5 62.75 7.5625 63.765625 \r\nQ 8.640625 64.796875 11.53125 64.796875 \r\nQ 14.359375 64.796875 15.40625 63.796875 \r\nQ 16.453125 62.796875 16.453125 60.015625 \r\nz\r\n\" id=\"Calibri-105\"/>\r\n        <path d=\"M 50.046875 18.109375 \r\nQ 50.046875 15.140625 49.28125 12.625 \r\nQ 48.53125 10.109375 47.15625 8.109375 \r\nQ 45.796875 6.109375 43.859375 4.59375 \r\nQ 41.9375 3.078125 39.515625 2.046875 \r\nQ 37.109375 1.03125 34.34375 0.515625 \r\nQ 31.59375 0 28.03125 0 \r\nL 11.53125 0 \r\nQ 10.40625 0 9.40625 0.75 \r\nQ 8.40625 1.515625 8.40625 3.421875 \r\nL 8.40625 59.765625 \r\nQ 8.40625 61.671875 9.40625 62.421875 \r\nQ 10.40625 63.1875 11.53125 63.1875 \r\nL 25.875 63.1875 \r\nQ 31.546875 63.1875 35.15625 62.109375 \r\nQ 38.765625 61.03125 41.1875 58.984375 \r\nQ 43.609375 56.9375 44.828125 53.953125 \r\nQ 46.046875 50.984375 46.046875 47.21875 \r\nQ 46.046875 44.96875 45.5 42.921875 \r\nQ 44.96875 40.875 43.921875 39.140625 \r\nQ 42.875 37.40625 41.28125 36.03125 \r\nQ 39.703125 34.671875 37.640625 33.796875 \r\nQ 40.234375 33.296875 42.484375 32 \r\nQ 44.734375 30.71875 46.40625 28.703125 \r\nQ 48.09375 26.703125 49.0625 24.015625 \r\nQ 50.046875 21.34375 50.046875 18.109375 \r\nz\r\nM 37.40625 46.390625 \r\nQ 37.40625 48.6875 36.765625 50.53125 \r\nQ 36.140625 52.390625 34.765625 53.6875 \r\nQ 33.40625 54.984375 31.203125 55.65625 \r\nQ 29 56.34375 25.390625 56.34375 \r\nL 16.703125 56.34375 \r\nL 16.703125 35.890625 \r\nL 26.265625 35.890625 \r\nQ 29.546875 35.890625 31.546875 36.734375 \r\nQ 33.546875 37.59375 34.859375 39.03125 \r\nQ 36.1875 40.484375 36.796875 42.40625 \r\nQ 37.40625 44.34375 37.40625 46.390625 \r\nz\r\nM 41.21875 17.625 \r\nQ 41.21875 20.453125 40.3125 22.59375 \r\nQ 39.40625 24.75 37.671875 26.21875 \r\nQ 35.9375 27.6875 33.328125 28.4375 \r\nQ 30.71875 29.203125 26.765625 29.203125 \r\nL 16.703125 29.203125 \r\nL 16.703125 6.9375 \r\nL 28.90625 6.9375 \r\nQ 31.78125 6.9375 33.921875 7.609375 \r\nQ 36.078125 8.296875 37.71875 9.640625 \r\nQ 39.359375 10.984375 40.28125 12.984375 \r\nQ 41.21875 14.984375 41.21875 17.625 \r\nz\r\n\" id=\"Calibri-66\"/>\r\n        <path d=\"M 44.1875 43.171875 \r\nQ 44.1875 41.453125 43.71875 40.6875 \r\nQ 43.265625 39.9375 42.53125 39.9375 \r\nL 36.234375 39.9375 \r\nQ 37.9375 38.1875 38.625 36.0625 \r\nQ 39.3125 33.9375 39.3125 31.640625 \r\nQ 39.3125 27.828125 38.078125 24.890625 \r\nQ 36.859375 21.96875 34.59375 19.9375 \r\nQ 32.328125 17.921875 29.203125 16.84375 \r\nQ 26.078125 15.765625 22.265625 15.765625 \r\nQ 19.578125 15.765625 17.15625 16.46875 \r\nQ 14.75 17.1875 13.421875 18.265625 \r\nQ 12.546875 17.390625 11.984375 16.265625 \r\nQ 11.421875 15.140625 11.421875 13.671875 \r\nQ 11.421875 11.96875 13 10.84375 \r\nQ 14.59375 9.71875 17.234375 9.625 \r\nL 28.71875 9.125 \r\nQ 31.984375 9.03125 34.71875 8.21875 \r\nQ 37.453125 7.421875 39.453125 5.921875 \r\nQ 41.453125 4.4375 42.578125 2.265625 \r\nQ 43.703125 0.09375 43.703125 -2.78125 \r\nQ 43.703125 -5.8125 42.421875 -8.546875 \r\nQ 41.15625 -11.28125 38.546875 -13.359375 \r\nQ 35.9375 -15.4375 31.875 -16.625 \r\nQ 27.828125 -17.828125 22.3125 -17.828125 \r\nQ 17 -17.828125 13.25 -16.921875 \r\nQ 9.515625 -16.015625 7.125 -14.453125 \r\nQ 4.734375 -12.890625 3.65625 -10.71875 \r\nQ 2.59375 -8.546875 2.59375 -6 \r\nQ 2.59375 -4.390625 2.984375 -2.875 \r\nQ 3.375 -1.375 4.171875 0 \r\nQ 4.984375 1.375 6.171875 2.609375 \r\nQ 7.375 3.859375 8.9375 5.078125 \r\nQ 6.546875 6.296875 5.390625 8.15625 \r\nQ 4.25 10.015625 4.25 12.15625 \r\nQ 4.25 15.140625 5.46875 17.484375 \r\nQ 6.6875 19.828125 8.5 21.6875 \r\nQ 6.984375 23.484375 6.09375 25.75 \r\nQ 5.21875 28.03125 5.21875 31.25 \r\nQ 5.21875 35.015625 6.484375 37.984375 \r\nQ 7.765625 40.96875 10 43.015625 \r\nQ 12.25 45.0625 15.40625 46.15625 \r\nQ 18.5625 47.265625 22.265625 47.265625 \r\nQ 24.265625 47.265625 26 47.046875 \r\nQ 27.734375 46.828125 29.25 46.4375 \r\nL 42.53125 46.4375 \r\nQ 43.359375 46.4375 43.765625 45.625 \r\nQ 44.1875 44.828125 44.1875 43.171875 \r\nz\r\nM 31.59375 31.59375 \r\nQ 31.59375 36.078125 29.125 38.59375 \r\nQ 26.65625 41.109375 22.125 41.109375 \r\nQ 19.78125 41.109375 18.046875 40.328125 \r\nQ 16.3125 39.546875 15.15625 38.171875 \r\nQ 14.015625 36.8125 13.453125 35.03125 \r\nQ 12.890625 33.25 12.890625 31.296875 \r\nQ 12.890625 26.953125 15.359375 24.453125 \r\nQ 17.828125 21.96875 22.265625 21.96875 \r\nQ 24.65625 21.96875 26.40625 22.71875 \r\nQ 28.171875 23.484375 29.3125 24.828125 \r\nQ 30.46875 26.171875 31.03125 27.921875 \r\nQ 31.59375 29.6875 31.59375 31.59375 \r\nz\r\nM 35.640625 -3.21875 \r\nQ 35.640625 -0.390625 33.3125 1.140625 \r\nQ 31 2.6875 27.046875 2.78125 \r\nL 15.671875 3.171875 \r\nQ 14.109375 1.953125 13.109375 0.84375 \r\nQ 12.109375 -0.25 11.515625 -1.25 \r\nQ 10.9375 -2.25 10.71875 -3.21875 \r\nQ 10.5 -4.203125 10.5 -5.21875 \r\nQ 10.5 -8.40625 13.71875 -10.03125 \r\nQ 16.9375 -11.671875 22.703125 -11.671875 \r\nQ 26.375 -11.671875 28.828125 -10.953125 \r\nQ 31.296875 -10.25 32.8125 -9.078125 \r\nQ 34.328125 -7.90625 34.984375 -6.390625 \r\nQ 35.640625 -4.890625 35.640625 -3.21875 \r\nz\r\n\" id=\"Calibri-103\"/>\r\n       </defs>\r\n       <use xlink:href=\"#Calibri-71\"/>\r\n       <use x=\"63.085938\" xlink:href=\"#Calibri-114\"/>\r\n       <use x=\"97.949219\" xlink:href=\"#Calibri-97\"/>\r\n       <use x=\"145.849609\" xlink:href=\"#Calibri-100\"/>\r\n       <use x=\"198.388672\" xlink:href=\"#Calibri-105\"/>\r\n       <use x=\"221.337891\" xlink:href=\"#Calibri-101\"/>\r\n       <use x=\"271.09375\" xlink:href=\"#Calibri-110\"/>\r\n       <use x=\"323.632812\" xlink:href=\"#Calibri-116\"/>\r\n       <use x=\"357.128906\" xlink:href=\"#Calibri-32\"/>\r\n       <use x=\"379.736328\" xlink:href=\"#Calibri-66\"/>\r\n       <use x=\"434.130859\" xlink:href=\"#Calibri-111\"/>\r\n       <use x=\"486.865234\" xlink:href=\"#Calibri-111\"/>\r\n       <use x=\"539.599609\" xlink:href=\"#Calibri-115\"/>\r\n       <use x=\"578.710938\" xlink:href=\"#Calibri-116\"/>\r\n       <use x=\"612.207031\" xlink:href=\"#Calibri-105\"/>\r\n       <use x=\"635.15625\" xlink:href=\"#Calibri-110\"/>\r\n       <use x=\"687.695312\" xlink:href=\"#Calibri-103\"/>\r\n      </g>\r\n     </g>\r\n    </g>\r\n   </g>\r\n   <g id=\"matplotlib.axis_2\">\r\n    <g id=\"ytick_1\">\r\n     <g id=\"line2d_4\">\r\n      <defs>\r\n       <path d=\"M 0 0 \r\nL -3.5 0 \r\n\" id=\"m1f319f0c04\" style=\"stroke:#000000;stroke-width:0.8;\"/>\r\n      </defs>\r\n      <g>\r\n       <use style=\"stroke:#000000;stroke-width:0.8;\" x=\"37\" xlink:href=\"#m1f319f0c04\" y=\"463.043437\"/>\r\n      </g>\r\n     </g>\r\n     <g id=\"text_4\">\r\n      <!-- 0.800 -->\r\n      <g transform=\"translate(7.2 466.444219)scale(0.1 -0.1)\">\r\n       <defs>\r\n        <path d=\"M 47.21875 31.734375 \r\nQ 47.21875 24.46875 46.0625 18.453125 \r\nQ 44.921875 12.453125 42.25 8.125 \r\nQ 39.59375 3.8125 35.296875 1.4375 \r\nQ 31 -0.921875 24.703125 -0.921875 \r\nQ 18.75 -0.921875 14.671875 1.203125 \r\nQ 10.59375 3.328125 8.09375 7.453125 \r\nQ 5.609375 11.578125 4.5625 17.609375 \r\nQ 3.515625 23.640625 3.515625 31.453125 \r\nQ 3.515625 38.671875 4.6875 44.703125 \r\nQ 5.859375 50.734375 8.5 55.046875 \r\nQ 11.140625 59.375 15.4375 61.734375 \r\nQ 19.734375 64.109375 25.984375 64.109375 \r\nQ 31.984375 64.109375 36.0625 61.984375 \r\nQ 40.140625 59.859375 42.625 55.734375 \r\nQ 45.125 51.609375 46.171875 45.578125 \r\nQ 47.21875 39.546875 47.21875 31.734375 \r\nz\r\nM 38.625 31.15625 \r\nQ 38.625 35.890625 38.28125 39.640625 \r\nQ 37.9375 43.40625 37.28125 46.28125 \r\nQ 36.625 49.171875 35.5625 51.25 \r\nQ 34.515625 53.328125 33.046875 54.65625 \r\nQ 31.59375 56 29.703125 56.609375 \r\nQ 27.828125 57.234375 25.484375 57.234375 \r\nQ 21.34375 57.234375 18.75 55.28125 \r\nQ 16.15625 53.328125 14.671875 49.90625 \r\nQ 13.1875 46.484375 12.640625 41.890625 \r\nQ 12.109375 37.3125 12.109375 32.03125 \r\nQ 12.109375 24.953125 12.84375 20 \r\nQ 13.578125 15.046875 15.15625 11.921875 \r\nQ 16.75 8.796875 19.21875 7.375 \r\nQ 21.6875 5.953125 25.203125 5.953125 \r\nQ 27.9375 5.953125 30 6.828125 \r\nQ 32.078125 7.71875 33.5625 9.34375 \r\nQ 35.0625 10.984375 36.03125 13.28125 \r\nQ 37.015625 15.578125 37.59375 18.359375 \r\nQ 38.1875 21.140625 38.40625 24.390625 \r\nQ 38.625 27.640625 38.625 31.15625 \r\nz\r\n\" id=\"Calibri-48\"/>\r\n        <path d=\"M 17.875 5.328125 \r\nQ 17.875 1.859375 16.71875 0.703125 \r\nQ 15.578125 -0.4375 12.546875 -0.4375 \r\nQ 9.625 -0.4375 8.5 0.6875 \r\nQ 7.375 1.8125 7.375 5.171875 \r\nQ 7.375 8.640625 8.515625 9.78125 \r\nQ 9.671875 10.9375 12.703125 10.9375 \r\nQ 15.625 10.9375 16.75 9.8125 \r\nQ 17.875 8.6875 17.875 5.328125 \r\nz\r\n\" id=\"Calibri-46\"/>\r\n        <path d=\"M 46.578125 16.21875 \r\nQ 46.578125 12.109375 45.109375 8.90625 \r\nQ 43.65625 5.71875 40.890625 3.515625 \r\nQ 38.140625 1.3125 34.078125 0.1875 \r\nQ 30.03125 -0.921875 24.8125 -0.921875 \r\nQ 19.921875 -0.921875 16.0625 0.09375 \r\nQ 12.203125 1.125 9.515625 3.125 \r\nQ 6.84375 5.125 5.421875 8.046875 \r\nQ 4 10.984375 4 14.75 \r\nQ 4 17.71875 4.96875 20.203125 \r\nQ 5.953125 22.703125 7.78125 24.796875 \r\nQ 9.625 26.90625 12.296875 28.734375 \r\nQ 14.984375 30.5625 18.359375 32.234375 \r\nQ 15.4375 33.734375 13.1875 35.421875 \r\nQ 10.9375 37.109375 9.375 39.078125 \r\nQ 7.8125 41.0625 7 43.3125 \r\nQ 6.203125 45.5625 6.203125 48.1875 \r\nQ 6.203125 51.515625 7.390625 54.421875 \r\nQ 8.59375 57.328125 11 59.46875 \r\nQ 13.421875 61.625 17.15625 62.859375 \r\nQ 20.90625 64.109375 25.875 64.109375 \r\nQ 30.671875 64.109375 34.15625 62.953125 \r\nQ 37.640625 61.8125 39.90625 59.828125 \r\nQ 42.1875 57.859375 43.265625 55.171875 \r\nQ 44.34375 52.484375 44.34375 49.421875 \r\nQ 44.34375 46.921875 43.53125 44.625 \r\nQ 42.71875 42.328125 41.15625 40.28125 \r\nQ 39.59375 38.234375 37.328125 36.453125 \r\nQ 35.0625 34.671875 32.125 33.109375 \r\nQ 35.59375 31.390625 38.296875 29.578125 \r\nQ 41.015625 27.78125 42.84375 25.703125 \r\nQ 44.671875 23.640625 45.625 21.3125 \r\nQ 46.578125 19 46.578125 16.21875 \r\nz\r\nM 36.03125 48.640625 \r\nQ 36.03125 50.6875 35.328125 52.34375 \r\nQ 34.625 54 33.25 55.171875 \r\nQ 31.890625 56.34375 29.859375 56.953125 \r\nQ 27.828125 57.5625 25.25 57.5625 \r\nQ 19.96875 57.5625 17.25 55.171875 \r\nQ 14.546875 52.78125 14.546875 48.640625 \r\nQ 14.546875 46.734375 15.203125 45.09375 \r\nQ 15.875 43.453125 17.265625 41.984375 \r\nQ 18.65625 40.53125 20.78125 39.140625 \r\nQ 22.90625 37.75 25.828125 36.234375 \r\nQ 30.765625 38.765625 33.390625 41.84375 \r\nQ 36.03125 44.921875 36.03125 48.640625 \r\nz\r\nM 38.09375 15.328125 \r\nQ 38.09375 17.578125 37.25 19.40625 \r\nQ 36.421875 21.234375 34.734375 22.828125 \r\nQ 33.0625 24.421875 30.546875 25.90625 \r\nQ 28.03125 27.390625 24.703125 29 \r\nQ 21.625 27.484375 19.3125 25.96875 \r\nQ 17 24.46875 15.5 22.84375 \r\nQ 14.015625 21.234375 13.25 19.453125 \r\nQ 12.5 17.671875 12.5 15.53125 \r\nQ 12.5 10.796875 15.75 8.203125 \r\nQ 19 5.609375 25.4375 5.609375 \r\nQ 31.6875 5.609375 34.890625 8.21875 \r\nQ 38.09375 10.84375 38.09375 15.328125 \r\nz\r\n\" id=\"Calibri-56\"/>\r\n       </defs>\r\n       <use xlink:href=\"#Calibri-48\"/>\r\n       <use x=\"50.683594\" xlink:href=\"#Calibri-46\"/>\r\n       <use x=\"75.927734\" xlink:href=\"#Calibri-56\"/>\r\n       <use x=\"126.611328\" xlink:href=\"#Calibri-48\"/>\r\n       <use x=\"177.294922\" xlink:href=\"#Calibri-48\"/>\r\n      </g>\r\n     </g>\r\n    </g>\r\n    <g id=\"ytick_2\">\r\n     <g id=\"line2d_5\">\r\n      <g>\r\n       <use style=\"stroke:#000000;stroke-width:0.8;\" x=\"37\" xlink:href=\"#m1f319f0c04\" y=\"410.509009\"/>\r\n      </g>\r\n     </g>\r\n     <g id=\"text_5\">\r\n      <!-- 0.825 -->\r\n      <g transform=\"translate(7.2 413.90979)scale(0.1 -0.1)\">\r\n       <defs>\r\n        <path d=\"M 45.125 3.609375 \r\nQ 45.125 2.734375 45 2.046875 \r\nQ 44.875 1.375 44.65625 0.90625 \r\nQ 44.4375 0.4375 44.0625 0.21875 \r\nQ 43.703125 0 43.265625 0 \r\nL 8.34375 0 \r\nQ 7.671875 0 7.15625 0.171875 \r\nQ 6.640625 0.34375 6.265625 0.734375 \r\nQ 5.90625 1.125 5.734375 1.859375 \r\nQ 5.5625 2.59375 5.5625 3.65625 \r\nQ 5.5625 4.640625 5.640625 5.375 \r\nQ 5.71875 6.109375 5.953125 6.671875 \r\nQ 6.203125 7.234375 6.5625 7.78125 \r\nQ 6.9375 8.34375 7.515625 8.984375 \r\nL 19.78125 21.96875 \r\nQ 24.03125 26.46875 26.59375 30.03125 \r\nQ 29.15625 33.59375 30.546875 36.515625 \r\nQ 31.9375 39.453125 32.375 41.84375 \r\nQ 32.8125 44.234375 32.8125 46.34375 \r\nQ 32.8125 48.4375 32.125 50.3125 \r\nQ 31.453125 52.203125 30.15625 53.609375 \r\nQ 28.859375 55.03125 26.90625 55.859375 \r\nQ 24.953125 56.6875 22.40625 56.6875 \r\nQ 19.4375 56.6875 17.0625 55.859375 \r\nQ 14.703125 55.03125 12.921875 54.046875 \r\nQ 11.140625 53.078125 9.9375 52.25 \r\nQ 8.734375 51.421875 8.15625 51.421875 \r\nQ 7.8125 51.421875 7.546875 51.609375 \r\nQ 7.28125 51.8125 7.109375 52.25 \r\nQ 6.9375 52.6875 6.828125 53.421875 \r\nQ 6.734375 54.15625 6.734375 55.171875 \r\nQ 6.734375 55.90625 6.78125 56.4375 \r\nQ 6.84375 56.984375 6.953125 57.375 \r\nQ 7.078125 57.765625 7.265625 58.109375 \r\nQ 7.46875 58.453125 8.046875 58.953125 \r\nQ 8.640625 59.46875 10.078125 60.34375 \r\nQ 11.53125 61.234375 13.703125 62.078125 \r\nQ 15.875 62.9375 18.484375 63.515625 \r\nQ 21.09375 64.109375 23.96875 64.109375 \r\nQ 28.5625 64.109375 32 62.8125 \r\nQ 35.453125 61.53125 37.71875 59.28125 \r\nQ 39.984375 57.03125 41.109375 54.046875 \r\nQ 42.234375 51.078125 42.234375 47.703125 \r\nQ 42.234375 44.671875 41.6875 41.671875 \r\nQ 41.15625 38.671875 39.421875 35.171875 \r\nQ 37.703125 31.6875 34.421875 27.40625 \r\nQ 31.15625 23.140625 25.734375 17.578125 \r\nL 15.71875 7.125 \r\nL 43.21875 7.125 \r\nQ 43.609375 7.125 43.96875 6.90625 \r\nQ 44.34375 6.6875 44.609375 6.25 \r\nQ 44.875 5.8125 45 5.15625 \r\nQ 45.125 4.5 45.125 3.609375 \r\nz\r\n\" id=\"Calibri-50\"/>\r\n        <path d=\"M 44.828125 20.3125 \r\nQ 44.828125 15.234375 43.109375 11.28125 \r\nQ 41.40625 7.328125 38.28125 4.609375 \r\nQ 35.15625 1.90625 30.828125 0.484375 \r\nQ 26.515625 -0.921875 21.234375 -0.921875 \r\nQ 18.3125 -0.921875 15.671875 -0.5 \r\nQ 13.03125 -0.09375 10.984375 0.515625 \r\nQ 8.9375 1.125 7.609375 1.703125 \r\nQ 6.296875 2.296875 5.921875 2.640625 \r\nQ 5.5625 2.984375 5.421875 3.265625 \r\nQ 5.28125 3.5625 5.15625 3.96875 \r\nQ 5.03125 4.390625 4.984375 5.03125 \r\nQ 4.9375 5.671875 4.9375 6.546875 \r\nQ 4.9375 7.375 5 8.03125 \r\nQ 5.078125 8.6875 5.265625 9.09375 \r\nQ 5.46875 9.515625 5.734375 9.703125 \r\nQ 6 9.90625 6.34375 9.90625 \r\nQ 6.84375 9.90625 7.859375 9.296875 \r\nQ 8.890625 8.6875 10.625 7.984375 \r\nQ 12.359375 7.28125 14.921875 6.640625 \r\nQ 17.484375 6 21 6 \r\nQ 24.265625 6 27 6.78125 \r\nQ 29.734375 7.5625 31.703125 9.21875 \r\nQ 33.6875 10.890625 34.8125 13.40625 \r\nQ 35.9375 15.921875 35.9375 19.53125 \r\nQ 35.9375 22.5625 34.984375 24.875 \r\nQ 34.03125 27.203125 32.046875 28.734375 \r\nQ 30.078125 30.28125 27.046875 31.03125 \r\nQ 24.03125 31.78125 19.828125 31.78125 \r\nQ 16.84375 31.78125 14.6875 31.484375 \r\nQ 12.546875 31.203125 10.6875 31.203125 \r\nQ 9.328125 31.203125 8.734375 31.828125 \r\nQ 8.15625 32.46875 8.15625 34.28125 \r\nL 8.15625 60.015625 \r\nQ 8.15625 61.625 8.90625 62.40625 \r\nQ 9.671875 63.1875 11.078125 63.1875 \r\nL 39.0625 63.1875 \r\nQ 39.453125 63.1875 39.8125 62.96875 \r\nQ 40.1875 62.75 40.421875 62.296875 \r\nQ 40.671875 61.859375 40.796875 61.171875 \r\nQ 40.921875 60.5 40.921875 59.578125 \r\nQ 40.921875 57.8125 40.421875 56.828125 \r\nQ 39.9375 55.859375 39.0625 55.859375 \r\nL 15.484375 55.859375 \r\nL 15.484375 38.140625 \r\nQ 17.1875 38.375 18.96875 38.421875 \r\nQ 20.75 38.484375 23.09375 38.484375 \r\nQ 28.515625 38.484375 32.5625 37.1875 \r\nQ 36.625 35.890625 39.328125 33.515625 \r\nQ 42.046875 31.15625 43.4375 27.78125 \r\nQ 44.828125 24.421875 44.828125 20.3125 \r\nz\r\n\" id=\"Calibri-53\"/>\r\n       </defs>\r\n       <use xlink:href=\"#Calibri-48\"/>\r\n       <use x=\"50.683594\" xlink:href=\"#Calibri-46\"/>\r\n       <use x=\"75.927734\" xlink:href=\"#Calibri-56\"/>\r\n       <use x=\"126.611328\" xlink:href=\"#Calibri-50\"/>\r\n       <use x=\"177.294922\" xlink:href=\"#Calibri-53\"/>\r\n      </g>\r\n     </g>\r\n    </g>\r\n    <g id=\"ytick_3\">\r\n     <g id=\"line2d_6\">\r\n      <g>\r\n       <use style=\"stroke:#000000;stroke-width:0.8;\" x=\"37\" xlink:href=\"#m1f319f0c04\" y=\"357.97458\"/>\r\n      </g>\r\n     </g>\r\n     <g id=\"text_6\">\r\n      <!-- 0.850 -->\r\n      <g transform=\"translate(7.2 361.375362)scale(0.1 -0.1)\">\r\n       <use xlink:href=\"#Calibri-48\"/>\r\n       <use x=\"50.683594\" xlink:href=\"#Calibri-46\"/>\r\n       <use x=\"75.927734\" xlink:href=\"#Calibri-56\"/>\r\n       <use x=\"126.611328\" xlink:href=\"#Calibri-53\"/>\r\n       <use x=\"177.294922\" xlink:href=\"#Calibri-48\"/>\r\n      </g>\r\n     </g>\r\n    </g>\r\n    <g id=\"ytick_4\">\r\n     <g id=\"line2d_7\">\r\n      <g>\r\n       <use style=\"stroke:#000000;stroke-width:0.8;\" x=\"37\" xlink:href=\"#m1f319f0c04\" y=\"305.440152\"/>\r\n      </g>\r\n     </g>\r\n     <g id=\"text_7\">\r\n      <!-- 0.875 -->\r\n      <g transform=\"translate(7.2 308.840933)scale(0.1 -0.1)\">\r\n       <defs>\r\n        <path d=\"M 46.046875 59.578125 \r\nQ 46.046875 58.6875 45.96875 57.984375 \r\nQ 45.90625 57.28125 45.78125 56.609375 \r\nQ 45.65625 55.953125 45.4375 55.34375 \r\nQ 45.21875 54.734375 44.921875 54.046875 \r\nL 22.171875 1.609375 \r\nQ 21.921875 1.03125 21.546875 0.65625 \r\nQ 21.1875 0.296875 20.625 0.078125 \r\nQ 20.0625 -0.140625 19.1875 -0.21875 \r\nQ 18.3125 -0.296875 17.046875 -0.296875 \r\nQ 15.375 -0.296875 14.453125 -0.140625 \r\nQ 13.53125 0 13.109375 0.3125 \r\nQ 12.703125 0.640625 12.75 1.09375 \r\nQ 12.796875 1.5625 13.09375 2.203125 \r\nL 37.015625 55.8125 \r\nL 6.6875 55.8125 \r\nQ 5.765625 55.8125 5.296875 56.78125 \r\nQ 4.828125 57.765625 4.828125 59.515625 \r\nQ 4.828125 60.453125 4.953125 61.125 \r\nQ 5.078125 61.8125 5.3125 62.28125 \r\nQ 5.5625 62.75 5.90625 62.96875 \r\nQ 6.25 63.1875 6.6875 63.1875 \r\nL 43.5 63.1875 \r\nQ 44.1875 63.1875 44.703125 63.03125 \r\nQ 45.21875 62.890625 45.484375 62.453125 \r\nQ 45.75 62.015625 45.890625 61.328125 \r\nQ 46.046875 60.640625 46.046875 59.578125 \r\nz\r\n\" id=\"Calibri-55\"/>\r\n       </defs>\r\n       <use xlink:href=\"#Calibri-48\"/>\r\n       <use x=\"50.683594\" xlink:href=\"#Calibri-46\"/>\r\n       <use x=\"75.927734\" xlink:href=\"#Calibri-56\"/>\r\n       <use x=\"126.611328\" xlink:href=\"#Calibri-55\"/>\r\n       <use x=\"177.294922\" xlink:href=\"#Calibri-53\"/>\r\n      </g>\r\n     </g>\r\n    </g>\r\n    <g id=\"ytick_5\">\r\n     <g id=\"line2d_8\">\r\n      <g>\r\n       <use style=\"stroke:#000000;stroke-width:0.8;\" x=\"37\" xlink:href=\"#m1f319f0c04\" y=\"252.905723\"/>\r\n      </g>\r\n     </g>\r\n     <g id=\"text_8\">\r\n      <!-- 0.900 -->\r\n      <g transform=\"translate(7.2 256.306504)scale(0.1 -0.1)\">\r\n       <defs>\r\n        <path d=\"M 45.609375 34.078125 \r\nQ 45.609375 29.984375 45.109375 25.78125 \r\nQ 44.625 21.578125 43.453125 17.6875 \r\nQ 42.28125 13.8125 40.296875 10.421875 \r\nQ 38.328125 7.03125 35.328125 4.484375 \r\nQ 32.328125 1.953125 28.203125 0.515625 \r\nQ 24.078125 -0.921875 18.609375 -0.921875 \r\nQ 16.5 -0.921875 14.515625 -0.65625 \r\nQ 12.546875 -0.390625 10.953125 0 \r\nQ 9.375 0.390625 8.296875 0.828125 \r\nQ 7.234375 1.265625 6.734375 1.703125 \r\nQ 6.25 2.15625 6.03125 2.90625 \r\nQ 5.8125 3.65625 5.8125 4.9375 \r\nQ 5.8125 6 5.875 6.640625 \r\nQ 5.953125 7.28125 6.09375 7.609375 \r\nQ 6.25 7.953125 6.515625 8.078125 \r\nQ 6.78125 8.203125 7.171875 8.203125 \r\nQ 7.71875 8.203125 8.6875 7.828125 \r\nQ 9.671875 7.46875 11.15625 7.03125 \r\nQ 12.640625 6.59375 14.640625 6.21875 \r\nQ 16.65625 5.859375 19.140625 5.859375 \r\nQ 23.875 5.859375 27.265625 7.6875 \r\nQ 30.671875 9.515625 32.8125 12.59375 \r\nQ 34.96875 15.671875 36.03125 19.71875 \r\nQ 37.109375 23.78125 37.203125 28.265625 \r\nQ 34.625 26.765625 31 25.59375 \r\nQ 27.390625 24.421875 22.703125 24.421875 \r\nQ 17.4375 24.421875 13.84375 25.859375 \r\nQ 10.25 27.296875 8.078125 29.78125 \r\nQ 5.90625 32.28125 4.953125 35.6875 \r\nQ 4 39.109375 4 43.171875 \r\nQ 4 47.359375 5.21875 51.140625 \r\nQ 6.453125 54.9375 9.03125 57.8125 \r\nQ 11.625 60.6875 15.625 62.390625 \r\nQ 19.625 64.109375 25.203125 64.109375 \r\nQ 29.15625 64.109375 32.203125 63.109375 \r\nQ 35.25 62.109375 37.5 60.21875 \r\nQ 39.75 58.34375 41.3125 55.6875 \r\nQ 42.875 53.03125 43.828125 49.65625 \r\nQ 44.78125 46.296875 45.1875 42.359375 \r\nQ 45.609375 38.421875 45.609375 34.078125 \r\nz\r\nM 37.0625 35.015625 \r\nQ 37.0625 41.265625 36.234375 45.53125 \r\nQ 35.40625 49.8125 33.78125 52.4375 \r\nQ 32.171875 55.078125 29.828125 56.25 \r\nQ 27.484375 57.421875 24.421875 57.421875 \r\nQ 21.234375 57.421875 18.984375 56.265625 \r\nQ 16.75 55.125 15.3125 53.1875 \r\nQ 13.875 51.265625 13.1875 48.828125 \r\nQ 12.5 46.390625 12.5 43.796875 \r\nQ 12.5 40.921875 13.109375 38.53125 \r\nQ 13.71875 36.140625 15.078125 34.46875 \r\nQ 16.453125 32.8125 18.640625 31.90625 \r\nQ 20.84375 31 24.078125 31 \r\nQ 27.734375 31 31.15625 32.09375 \r\nQ 34.578125 33.203125 37.0625 35.015625 \r\nz\r\n\" id=\"Calibri-57\"/>\r\n       </defs>\r\n       <use xlink:href=\"#Calibri-48\"/>\r\n       <use x=\"50.683594\" xlink:href=\"#Calibri-46\"/>\r\n       <use x=\"75.927734\" xlink:href=\"#Calibri-57\"/>\r\n       <use x=\"126.611328\" xlink:href=\"#Calibri-48\"/>\r\n       <use x=\"177.294922\" xlink:href=\"#Calibri-48\"/>\r\n      </g>\r\n     </g>\r\n    </g>\r\n    <g id=\"ytick_6\">\r\n     <g id=\"line2d_9\">\r\n      <g>\r\n       <use style=\"stroke:#000000;stroke-width:0.8;\" x=\"37\" xlink:href=\"#m1f319f0c04\" y=\"200.371294\"/>\r\n      </g>\r\n     </g>\r\n     <g id=\"text_9\">\r\n      <!-- 0.925 -->\r\n      <g transform=\"translate(7.2 203.772076)scale(0.1 -0.1)\">\r\n       <use xlink:href=\"#Calibri-48\"/>\r\n       <use x=\"50.683594\" xlink:href=\"#Calibri-46\"/>\r\n       <use x=\"75.927734\" xlink:href=\"#Calibri-57\"/>\r\n       <use x=\"126.611328\" xlink:href=\"#Calibri-50\"/>\r\n       <use x=\"177.294922\" xlink:href=\"#Calibri-53\"/>\r\n      </g>\r\n     </g>\r\n    </g>\r\n    <g id=\"ytick_7\">\r\n     <g id=\"line2d_10\">\r\n      <g>\r\n       <use style=\"stroke:#000000;stroke-width:0.8;\" x=\"37\" xlink:href=\"#m1f319f0c04\" y=\"147.836866\"/>\r\n      </g>\r\n     </g>\r\n     <g id=\"text_10\">\r\n      <!-- 0.950 -->\r\n      <g transform=\"translate(7.2 151.237647)scale(0.1 -0.1)\">\r\n       <use xlink:href=\"#Calibri-48\"/>\r\n       <use x=\"50.683594\" xlink:href=\"#Calibri-46\"/>\r\n       <use x=\"75.927734\" xlink:href=\"#Calibri-57\"/>\r\n       <use x=\"126.611328\" xlink:href=\"#Calibri-53\"/>\r\n       <use x=\"177.294922\" xlink:href=\"#Calibri-48\"/>\r\n      </g>\r\n     </g>\r\n    </g>\r\n    <g id=\"ytick_8\">\r\n     <g id=\"line2d_11\">\r\n      <g>\r\n       <use style=\"stroke:#000000;stroke-width:0.8;\" x=\"37\" xlink:href=\"#m1f319f0c04\" y=\"95.302437\"/>\r\n      </g>\r\n     </g>\r\n     <g id=\"text_11\">\r\n      <!-- 0.975 -->\r\n      <g transform=\"translate(7.2 98.703219)scale(0.1 -0.1)\">\r\n       <use xlink:href=\"#Calibri-48\"/>\r\n       <use x=\"50.683594\" xlink:href=\"#Calibri-46\"/>\r\n       <use x=\"75.927734\" xlink:href=\"#Calibri-57\"/>\r\n       <use x=\"126.611328\" xlink:href=\"#Calibri-55\"/>\r\n       <use x=\"177.294922\" xlink:href=\"#Calibri-53\"/>\r\n      </g>\r\n     </g>\r\n    </g>\r\n    <g id=\"ytick_9\">\r\n     <g id=\"line2d_12\">\r\n      <g>\r\n       <use style=\"stroke:#000000;stroke-width:0.8;\" x=\"37\" xlink:href=\"#m1f319f0c04\" y=\"42.768009\"/>\r\n      </g>\r\n     </g>\r\n     <g id=\"text_12\">\r\n      <!-- 1.000 -->\r\n      <g transform=\"translate(7.2 46.16879)scale(0.1 -0.1)\">\r\n       <defs>\r\n        <path d=\"M 45.265625 3.328125 \r\nQ 45.265625 2.390625 45.109375 1.75 \r\nQ 44.96875 1.125 44.71875 0.734375 \r\nQ 44.484375 0.34375 44.15625 0.171875 \r\nQ 43.84375 0 43.5 0 \r\nL 10.5 0 \r\nQ 10.15625 0 9.859375 0.171875 \r\nQ 9.578125 0.34375 9.296875 0.734375 \r\nQ 9.03125 1.125 8.875 1.75 \r\nQ 8.734375 2.390625 8.734375 3.328125 \r\nQ 8.734375 4.203125 8.875 4.828125 \r\nQ 9.03125 5.46875 9.25 5.875 \r\nQ 9.46875 6.296875 9.78125 6.515625 \r\nQ 10.109375 6.734375 10.5 6.734375 \r\nL 23.6875 6.734375 \r\nL 23.6875 54.78125 \r\nL 11.46875 47.515625 \r\nQ 10.546875 47.015625 9.984375 46.921875 \r\nQ 9.421875 46.828125 9.078125 47.140625 \r\nQ 8.734375 47.46875 8.609375 48.1875 \r\nQ 8.5 48.921875 8.5 50.046875 \r\nQ 8.5 50.875 8.5625 51.453125 \r\nQ 8.640625 52.046875 8.78125 52.4375 \r\nQ 8.9375 52.828125 9.203125 53.125 \r\nQ 9.46875 53.421875 9.90625 53.71875 \r\nL 24.46875 63.03125 \r\nQ 24.65625 63.1875 24.953125 63.28125 \r\nQ 25.25 63.375 25.6875 63.46875 \r\nQ 26.125 63.578125 26.703125 63.59375 \r\nQ 27.296875 63.625 28.171875 63.625 \r\nQ 29.34375 63.625 30.125 63.515625 \r\nQ 30.90625 63.421875 31.34375 63.25 \r\nQ 31.78125 63.09375 31.921875 62.8125 \r\nQ 32.078125 62.546875 32.078125 62.25 \r\nL 32.078125 6.734375 \r\nL 43.5 6.734375 \r\nQ 43.890625 6.734375 44.234375 6.515625 \r\nQ 44.578125 6.296875 44.796875 5.875 \r\nQ 45.015625 5.46875 45.140625 4.828125 \r\nQ 45.265625 4.203125 45.265625 3.328125 \r\nz\r\n\" id=\"Calibri-49\"/>\r\n       </defs>\r\n       <use xlink:href=\"#Calibri-49\"/>\r\n       <use x=\"50.683594\" xlink:href=\"#Calibri-46\"/>\r\n       <use x=\"75.927734\" xlink:href=\"#Calibri-48\"/>\r\n       <use x=\"126.611328\" xlink:href=\"#Calibri-48\"/>\r\n       <use x=\"177.294922\" xlink:href=\"#Calibri-48\"/>\r\n      </g>\r\n     </g>\r\n    </g>\r\n   </g>\r\n   <g id=\"patch_6\">\r\n    <path d=\"M 37 463.043437 \r\nL 37 28.163437 \r\n\" style=\"fill:none;stroke:#000000;stroke-linecap:square;stroke-linejoin:miter;stroke-width:0.8;\"/>\r\n   </g>\r\n   <g id=\"patch_7\">\r\n    <path d=\"M 37 463.043437 \r\nL 874 463.043437 \r\n\" style=\"fill:none;stroke:#000000;stroke-linecap:square;stroke-linejoin:miter;stroke-width:0.8;\"/>\r\n   </g>\r\n   <g id=\"text_13\">\r\n    <!-- Accuracy -->\r\n    <g transform=\"translate(415.319062 22.163437)scale(0.22 -0.22)\">\r\n     <defs>\r\n      <path d=\"M 55.71875 2.984375 \r\nQ 56.109375 1.90625 56.125 1.25 \r\nQ 56.15625 0.59375 55.765625 0.25 \r\nQ 55.375 -0.09375 54.46875 -0.1875 \r\nQ 53.5625 -0.296875 52.046875 -0.296875 \r\nQ 50.53125 -0.296875 49.625 -0.21875 \r\nQ 48.734375 -0.140625 48.265625 0.03125 \r\nQ 47.796875 0.203125 47.578125 0.484375 \r\nQ 47.359375 0.78125 47.171875 1.21875 \r\nL 41.75 16.609375 \r\nL 15.484375 16.609375 \r\nL 10.296875 1.421875 \r\nQ 10.15625 0.984375 9.90625 0.65625 \r\nQ 9.671875 0.34375 9.203125 0.125 \r\nQ 8.734375 -0.09375 7.875 -0.1875 \r\nQ 7.03125 -0.296875 5.671875 -0.296875 \r\nQ 4.25 -0.296875 3.34375 -0.171875 \r\nQ 2.4375 -0.046875 2.0625 0.296875 \r\nQ 1.703125 0.640625 1.734375 1.296875 \r\nQ 1.765625 1.953125 2.15625 3.03125 \r\nL 23.34375 61.71875 \r\nQ 23.53125 62.25 23.84375 62.59375 \r\nQ 24.171875 62.9375 24.78125 63.125 \r\nQ 25.390625 63.328125 26.34375 63.40625 \r\nQ 27.296875 63.484375 28.765625 63.484375 \r\nQ 30.328125 63.484375 31.34375 63.40625 \r\nQ 32.375 63.328125 33 63.125 \r\nQ 33.640625 62.9375 33.984375 62.5625 \r\nQ 34.328125 62.203125 34.515625 61.671875 \r\nz\r\nM 28.515625 54.78125 \r\nL 28.46875 54.78125 \r\nL 17.578125 23.296875 \r\nL 39.546875 23.296875 \r\nz\r\n\" id=\"Calibri-65\"/>\r\n      <path d=\"M 39.0625 7.90625 \r\nQ 39.0625 7.078125 39.015625 6.46875 \r\nQ 38.96875 5.859375 38.84375 5.4375 \r\nQ 38.71875 5.03125 38.546875 4.703125 \r\nQ 38.375 4.390625 37.765625 3.78125 \r\nQ 37.15625 3.171875 35.6875 2.265625 \r\nQ 34.234375 1.375 32.390625 0.65625 \r\nQ 30.5625 -0.046875 28.40625 -0.484375 \r\nQ 26.265625 -0.921875 23.96875 -0.921875 \r\nQ 19.234375 -0.921875 15.578125 0.640625 \r\nQ 11.921875 2.203125 9.453125 5.203125 \r\nQ 6.984375 8.203125 5.6875 12.5625 \r\nQ 4.390625 16.9375 4.390625 22.65625 \r\nQ 4.390625 29.15625 5.96875 33.8125 \r\nQ 7.5625 38.484375 10.328125 41.453125 \r\nQ 13.09375 44.4375 16.828125 45.875 \r\nQ 20.5625 47.3125 24.90625 47.3125 \r\nQ 27 47.3125 28.96875 46.921875 \r\nQ 30.953125 46.53125 32.609375 45.890625 \r\nQ 34.28125 45.265625 35.5625 44.4375 \r\nQ 36.859375 43.609375 37.4375 43.015625 \r\nQ 38.03125 42.4375 38.25 42.09375 \r\nQ 38.484375 41.75 38.625 41.28125 \r\nQ 38.765625 40.828125 38.8125 40.234375 \r\nQ 38.875 39.65625 38.875 38.765625 \r\nQ 38.875 36.859375 38.421875 36.109375 \r\nQ 37.984375 35.359375 37.359375 35.359375 \r\nQ 36.625 35.359375 35.671875 36.15625 \r\nQ 34.71875 36.96875 33.25 37.9375 \r\nQ 31.78125 38.921875 29.703125 39.71875 \r\nQ 27.640625 40.53125 24.8125 40.53125 \r\nQ 19 40.53125 15.890625 36.0625 \r\nQ 12.796875 31.59375 12.796875 23.09375 \r\nQ 12.796875 18.84375 13.59375 15.640625 \r\nQ 14.40625 12.453125 15.96875 10.296875 \r\nQ 17.53125 8.15625 19.796875 7.109375 \r\nQ 22.078125 6.0625 25 6.0625 \r\nQ 27.78125 6.0625 29.875 6.9375 \r\nQ 31.984375 7.8125 33.515625 8.859375 \r\nQ 35.0625 9.90625 36.109375 10.765625 \r\nQ 37.15625 11.625 37.75 11.625 \r\nQ 38.09375 11.625 38.328125 11.421875 \r\nQ 38.578125 11.234375 38.75 10.765625 \r\nQ 38.921875 10.296875 38.984375 9.59375 \r\nQ 39.0625 8.890625 39.0625 7.90625 \r\nz\r\n\" id=\"Calibri-99\"/>\r\n      <path d=\"M 45.125 1.21875 \r\nQ 45.125 0.828125 44.953125 0.5625 \r\nQ 44.78125 0.296875 44.328125 0.09375 \r\nQ 43.890625 -0.09375 43.1875 -0.1875 \r\nQ 42.484375 -0.296875 41.453125 -0.296875 \r\nQ 40.328125 -0.296875 39.625 -0.1875 \r\nQ 38.921875 -0.09375 38.5 0.09375 \r\nQ 38.09375 0.296875 37.9375 0.5625 \r\nQ 37.796875 0.828125 37.796875 1.21875 \r\nL 37.796875 7.03125 \r\nQ 34.03125 2.875 30.359375 0.96875 \r\nQ 26.703125 -0.921875 22.953125 -0.921875 \r\nQ 18.5625 -0.921875 15.546875 0.53125 \r\nQ 12.546875 2 10.6875 4.515625 \r\nQ 8.84375 7.03125 8.03125 10.375 \r\nQ 7.234375 13.71875 7.234375 18.5 \r\nL 7.234375 45.171875 \r\nQ 7.234375 45.5625 7.390625 45.828125 \r\nQ 7.5625 46.09375 8.046875 46.3125 \r\nQ 8.546875 46.53125 9.328125 46.609375 \r\nQ 10.109375 46.6875 11.28125 46.6875 \r\nQ 12.453125 46.6875 13.234375 46.609375 \r\nQ 14.015625 46.53125 14.46875 46.3125 \r\nQ 14.9375 46.09375 15.125 45.828125 \r\nQ 15.328125 45.5625 15.328125 45.171875 \r\nL 15.328125 19.578125 \r\nQ 15.328125 15.71875 15.890625 13.390625 \r\nQ 16.453125 11.078125 17.59375 9.4375 \r\nQ 18.75 7.8125 20.5 6.90625 \r\nQ 22.265625 6 24.609375 6 \r\nQ 27.640625 6 30.640625 8.140625 \r\nQ 33.640625 10.296875 37.015625 14.453125 \r\nL 37.015625 45.171875 \r\nQ 37.015625 45.5625 37.1875 45.828125 \r\nQ 37.359375 46.09375 37.84375 46.3125 \r\nQ 38.328125 46.53125 39.078125 46.609375 \r\nQ 39.84375 46.6875 41.0625 46.6875 \r\nQ 42.234375 46.6875 43.015625 46.609375 \r\nQ 43.796875 46.53125 44.234375 46.3125 \r\nQ 44.671875 46.09375 44.890625 45.828125 \r\nQ 45.125 45.5625 45.125 45.171875 \r\nz\r\n\" id=\"Calibri-117\"/>\r\n      <path d=\"M 27.484375 0 \r\nL 21.625 -16.15625 \r\nQ 21.34375 -16.9375 20.140625 -17.359375 \r\nQ 18.953125 -17.78125 16.5 -17.78125 \r\nQ 15.234375 -17.78125 14.453125 -17.65625 \r\nQ 13.671875 -17.53125 13.25 -17.234375 \r\nQ 12.84375 -16.9375 12.796875 -16.453125 \r\nQ 12.75 -15.96875 13.03125 -15.28125 \r\nL 19.09375 0 \r\nQ 18.65625 0.203125 18.265625 0.640625 \r\nQ 17.875 1.078125 17.71875 1.5625 \r\nL 2.046875 43.5625 \r\nQ 1.65625 44.578125 1.65625 45.15625 \r\nQ 1.65625 45.75 2.046875 46.09375 \r\nQ 2.4375 46.4375 3.3125 46.5625 \r\nQ 4.203125 46.6875 5.671875 46.6875 \r\nQ 7.125 46.6875 7.953125 46.609375 \r\nQ 8.796875 46.53125 9.28125 46.328125 \r\nQ 9.765625 46.140625 9.984375 45.765625 \r\nQ 10.203125 45.40625 10.453125 44.78125 \r\nL 23 9.515625 \r\nL 23.140625 9.515625 \r\nL 35.25 44.96875 \r\nQ 35.546875 45.90625 35.953125 46.171875 \r\nQ 36.375 46.4375 37.203125 46.5625 \r\nQ 38.03125 46.6875 39.59375 46.6875 \r\nQ 40.96875 46.6875 41.84375 46.5625 \r\nQ 42.71875 46.4375 43.140625 46.09375 \r\nQ 43.5625 45.75 43.5625 45.15625 \r\nQ 43.5625 44.578125 43.265625 43.703125 \r\nz\r\n\" id=\"Calibri-121\"/>\r\n     </defs>\r\n     <use xlink:href=\"#Calibri-65\"/>\r\n     <use x=\"57.861328\" xlink:href=\"#Calibri-99\"/>\r\n     <use x=\"100.146484\" xlink:href=\"#Calibri-99\"/>\r\n     <use x=\"142.431641\" xlink:href=\"#Calibri-117\"/>\r\n     <use x=\"194.970703\" xlink:href=\"#Calibri-114\"/>\r\n     <use x=\"229.833984\" xlink:href=\"#Calibri-97\"/>\r\n     <use x=\"277.734375\" xlink:href=\"#Calibri-99\"/>\r\n     <use x=\"320.019531\" xlink:href=\"#Calibri-121\"/>\r\n    </g>\r\n   </g>\r\n  </g>\r\n </g>\r\n <defs>\r\n  <clipPath id=\"p742c3e167d\">\r\n   <rect height=\"434.88\" width=\"837\" x=\"37\" y=\"28.163437\"/>\r\n  </clipPath>\r\n </defs>\r\n</svg>\r\n",
      "image/png": "[encoded data removed]"
     },
     "metadata": {
      "needs_background": "light"
     }
    }
   ],
   "source": [
    "fig, ax = plt.subplots(1,figsize=(15,8))\n",
    "ax.bar(df[\"Models\"], df[\"F1 score\"],width=0.5, color='#3B479D')\n",
    "ax.spines['right'].set_visible(False)\n",
    "ax.spines['top'].set_visible(False)\n",
    "\n",
    "ax.set_title('Accuracy',fontsize = 22,fontname=\"Calibri\")\n",
    "ax.set_ylim(ymin=0.8)\n",
    "plt.xticks(fontsize=14,fontname=\"Calibri\")\n",
    "plt.yticks(fontsize=10,fontname=\"Calibri\")\n",
    "fig.show()"
   ]
  },
  {
   "source": [
    "line_plot(algo_used,list_scores,\"F1 score\")"
   ],
   "cell_type": "code",
   "metadata": {},
   "execution_count": null,
   "outputs": []
  },
  {
   "source": [
    "## Save the model to use it in the api"
   ],
   "cell_type": "markdown",
   "metadata": {}
  },
  {
   "cell_type": "code",
   "execution_count": 45,
   "metadata": {},
   "outputs": [
    {
     "output_type": "execute_result",
     "data": {
      "text/plain": [
       "['gradient_boosting.pkl']"
      ]
     },
     "metadata": {},
     "execution_count": 45
    }
   ],
   "source": [
    "joblib.dump(clf,\"gradient_boosting.pkl\")"
   ]
  },
  {
   "cell_type": "code",
   "execution_count": 46,
   "metadata": {},
   "outputs": [
    {
     "output_type": "execute_result",
     "data": {
      "text/plain": [
       "GradientBoostingClassifier(max_depth=7, random_state=0, subsample=0.7)"
      ]
     },
     "metadata": {},
     "execution_count": 46
    }
   ],
   "source": [
    "joblib.load(\"gradient_boosting.pkl\")"
   ]
  },
  {
   "cell_type": "code",
   "execution_count": null,
   "metadata": {},
   "outputs": [],
   "source": []
  }
 ]
}